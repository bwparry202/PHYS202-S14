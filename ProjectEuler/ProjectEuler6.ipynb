{
 "metadata": {
  "name": "",
  "signature": "sha256:25f2cfe8e7486f99e0fc4ab12c9d0a74f64c38d848fefc10cec85fced3f16cbc"
 },
 "nbformat": 3,
 "nbformat_minor": 0,
 "worksheets": [
  {
   "cells": [
    {
     "cell_type": "heading",
     "level": 1,
     "metadata": {},
     "source": [
      "Project Euler 6"
     ]
    },
    {
     "cell_type": "raw",
     "metadata": {},
     "source": [
      "The sum of the squares of the first ten natural numbers is,\n",
      "\n",
      "1**2 + 2**2 + ... + 10**2 = 385\n",
      "The square of the sum of the first ten natural numbers is,\n",
      "\n",
      "(1 + 2 + ... + 10)**2 = 55**2 = 3025\n",
      "Hence the difference between the sum of the squares of the first ten natural numbers and the square of the sum is 3025 \u2212 385 = 2640.\n",
      "\n",
      "Find the difference between the sum of the squares of the first one hundred natural numbers and the square of the sum."
     ]
    },
    {
     "cell_type": "code",
     "collapsed": false,
     "input": [
      "## Sorry this is one day late, I didn't notice that PE#6 needed to be completed as well. \n",
      "## I'll talk to you tomorrow about it. \n",
      "\n",
      "def dif_sum_square(number):\n",
      "    arr_num = []\n",
      "    numsum = 0\n",
      "    for n in range(number+1):\n",
      "        arr_num.append(n)\n",
      "        numsum += n\n",
      "    sum_square = 0\n",
      "    square_sum = numsum**2\n",
      "    for num in arr_num:\n",
      "        sum_square += num**2\n",
      "    dif_sums = square_sum - sum_square\n",
      "    print \"Natural number:\",number\n",
      "    print \"Sum of the squares:\",sum_square\n",
      "    print \"Square of the sum:\",square_sum\n",
      "    print \"Difference of the two:\",dif_sums\n",
      "    return\n",
      "        \n",
      "dif_sum_square(10)"
     ],
     "language": "python",
     "metadata": {},
     "outputs": [
      {
       "output_type": "stream",
       "stream": "stdout",
       "text": [
        "Natural number: 10\n",
        "Sum of the squares: 385\n",
        "Square of the sum: 3025\n",
        "Difference of the two: 2640\n"
       ]
      }
     ],
     "prompt_number": 9
    },
    {
     "cell_type": "code",
     "collapsed": false,
     "input": [
      "dif_sum_square(100)"
     ],
     "language": "python",
     "metadata": {},
     "outputs": [
      {
       "output_type": "stream",
       "stream": "stdout",
       "text": [
        "Natural number: 100\n",
        "Sum of the squares: 338350\n",
        "Square of the sum: 25502500\n",
        "Difference of the two: 25164150\n"
       ]
      }
     ],
     "prompt_number": 10
    }
   ],
   "metadata": {}
  }
 ]
}