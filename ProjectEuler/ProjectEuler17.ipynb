{
 "metadata": {
  "name": "",
  "signature": "sha256:6570970abd54f2e38a8d96e7b7c9d9acfae6444867126a36da26a1d7b1229909"
 },
 "nbformat": 3,
 "nbformat_minor": 0,
 "worksheets": [
  {
   "cells": [
    {
     "cell_type": "heading",
     "level": 1,
     "metadata": {},
     "source": [
      "Project Euler 17"
     ]
    },
    {
     "cell_type": "markdown",
     "metadata": {},
     "source": [
      "If the numbers 1 to 5 are written out in words: one, two, three, four, five, then there are 3 + 3 + 5 + 4 + 4 = 19 letters used in total.\n",
      "\n",
      "If all the numbers from 1 to 1000 (one thousand) inclusive were written out in words, how many letters would be used?\n",
      "\n",
      "\n",
      "NOTE: Do not count spaces or hyphens. For example, 342 (three hundred and forty-two) contains 23 letters and 115 (one hundred and fifteen) contains 20 letters. The use of \"and\" when writing out numbers is in compliance with British usage.\n"
     ]
    },
    {
     "cell_type": "code",
     "collapsed": false,
     "input": [
      "# First I will create a code that turns a certain number to the written\n",
      "# word that it corresponds to. \n",
      "\n",
      "def number_word(n):\n",
      "    # Make dictionaries first\n",
      "    one_nineteen = {1:'one',2:'two',3:'three',4:'four',5:'five',6:'six',\n",
      "                    7:'seven',8:'eight',9:'nine',10:'ten',11:'eleven',\n",
      "                    12:'twelve',13:'thirteen',14:'fourteen',15:'fifteen',\n",
      "                    16:'sixteen',17:'seventeen',18:'eighteen',19:'nineteen'}\n",
      "    tens = {2:'twenty',3:'thirty',4:'forty',5:'fifty',6:'sixty',7:'seventy',\n",
      "            8:'eighty',9:'ninety'}\n",
      "    numword = ''\n",
      "    if n >= 1000:\n",
      "        # Add the number of thousands by accessing first dictionary.\n",
      "        numword += one_nineteen[n/1000]\n",
      "        # Add the word thousand\n",
      "        numword += \" thousand \"\n",
      "        # Use the remainder divided by thousands. \n",
      "        n %= 1000\n",
      "    print n\n",
      "    print numword\n",
      "    \n",
      "number_word(3345)    "
     ],
     "language": "python",
     "metadata": {},
     "outputs": [
      {
       "output_type": "stream",
       "stream": "stdout",
       "text": [
        "345\n",
        "three thousand \n"
       ]
      }
     ],
     "prompt_number": 4
    },
    {
     "cell_type": "markdown",
     "metadata": {},
     "source": [
      "The first part of my code works now lets continue by working down the number to get the total word. "
     ]
    },
    {
     "cell_type": "code",
     "collapsed": false,
     "input": [
      "def number_word(n):\n",
      "    # Make dictionaries first\n",
      "    one_nineteen = {1:'one',2:'two',3:'three',4:'four',5:'five',6:'six',\n",
      "                    7:'seven',8:'eight',9:'nine',10:'ten',11:'eleven',\n",
      "                    12:'twelve',13:'thirteen',14:'fourteen',15:'fifteen',\n",
      "                    16:'sixteen',17:'seventeen',18:'eighteen',19:'nineteen'}\n",
      "    tens = {2:'twenty',3:'thirty',4:'forty',5:'fifty',6:'sixty',7:'seventy',\n",
      "            8:'eighty',9:'ninety'}\n",
      "    numword = ''\n",
      "    if n >= 1000:\n",
      "        # Add the number of thousands by accessing first dictionary.\n",
      "        numword += one_nineteen[n/1000]\n",
      "        # Add the word thousand\n",
      "        numword += \" thousand \"\n",
      "        # Use the remainder divided by thousands. \n",
      "        n %= 1000\n",
      "    if n >= 100:\n",
      "        # Find the number of hundreds.\n",
      "        numword += one_nineteen[n/100]\n",
      "        # Add one hundred (must look at both cases of it being only one hundred and\n",
      "        # also having more numbers in the tens/ones columns.)\n",
      "        if n % 100 == 0:\n",
      "            numword += \" hundred\"\n",
      "        else:\n",
      "            numword += \" hundred and \"\n",
      "        # Again get the remainder as the new number.\n",
      "        n %= 100\n",
      "    # Similar process follows for the numbers bigger than twenty but smaller than \n",
      "    # a hundred, but now we will access a different dictionary. Dictionary \"tens\"\n",
      "    if n >= 20:\n",
      "        numword += tens[n/10]\n",
      "        numword += ' '\n",
      "        n %= 10\n",
      "    # Now add the last ones column to the word.\n",
      "    if n in one_nineteen:\n",
      "        numword += one_nineteen[n]\n",
      "    return numword \n",
      "    \n",
      "    \n",
      "# Call the function on the same number as the previous cell.\n",
      "print number_word(3345)\n",
      "        "
     ],
     "language": "python",
     "metadata": {},
     "outputs": [
      {
       "output_type": "stream",
       "stream": "stdout",
       "text": [
        "three thousand three hundred and forty five\n"
       ]
      }
     ],
     "prompt_number": 6
    },
    {
     "cell_type": "markdown",
     "metadata": {},
     "source": [
      "Now I will use my code of turning numbers into words and a for loop to add the total length of all numbers. First test the previous number to see if it works properly in terms of length. We should expect a value of 37 for the number 3345."
     ]
    },
    {
     "cell_type": "code",
     "collapsed": false,
     "input": [
      "print len(number_word(3345))"
     ],
     "language": "python",
     "metadata": {},
     "outputs": [
      {
       "output_type": "stream",
       "stream": "stdout",
       "text": [
        "43\n"
       ]
      }
     ],
     "prompt_number": 13
    },
    {
     "cell_type": "markdown",
     "metadata": {},
     "source": [
      "We have a problem must replace spaces with no spaces in order to just count characters"
     ]
    },
    {
     "cell_type": "code",
     "collapsed": false,
     "input": [
      "def no_spaces(string):\n",
      "    # Discovered a python string function 'replace()' I will use that here.\n",
      "    # The function replaces the first argument with the second argument.\n",
      "    string = string.replace(' ','')\n",
      "    return string\n",
      "    \n",
      "print no_spaces(number_word(3345))"
     ],
     "language": "python",
     "metadata": {},
     "outputs": [
      {
       "output_type": "stream",
       "stream": "stdout",
       "text": [
        "threethousandthreehundredandfortyfive\n"
       ]
      }
     ],
     "prompt_number": 17
    },
    {
     "cell_type": "markdown",
     "metadata": {},
     "source": [
      "Perfect, now to write that for loop"
     ]
    },
    {
     "cell_type": "code",
     "collapsed": false,
     "input": [
      "def sum_letter(p):    \n",
      "    total_letters = 0\n",
      "    for n in range(1,p+1):\n",
      "        # Finds the number of letters in the number word with no spaces and \n",
      "        # adds them to the total letters count. \n",
      "        letters = len(no_spaces(number_word(n)))\n",
      "        total_letters += letters\n",
      "    return total_letters\n",
      "    \n",
      "print sum_letter(1000)"
     ],
     "language": "python",
     "metadata": {},
     "outputs": [
      {
       "output_type": "stream",
       "stream": "stdout",
       "text": [
        "21124\n"
       ]
      }
     ],
     "prompt_number": 18
    },
    {
     "cell_type": "markdown",
     "metadata": {},
     "source": [
      "You would have to write 21124 letters to write out every number from 1 to 1000."
     ]
    }
   ],
   "metadata": {}
  }
 ]
}