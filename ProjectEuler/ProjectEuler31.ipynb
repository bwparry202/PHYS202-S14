{
 "metadata": {
  "name": "",
  "signature": "sha256:dbdab25ecda410a565ec9529c1c4fb4537e60f735f8e5ec42dd1d2a07b7bcb6a"
 },
 "nbformat": 3,
 "nbformat_minor": 0,
 "worksheets": [
  {
   "cells": [
    {
     "cell_type": "markdown",
     "metadata": {},
     "source": [
      "In England the currency is made up of pound, \u00a3, and pence, p, and there are eight coins in general circulation:"
     ]
    },
    {
     "cell_type": "markdown",
     "metadata": {},
     "source": [
      "1p, 2p, 5p, 10p, 20p, 50p, \u00a31 (100p) and \u00a32 (200p)."
     ]
    },
    {
     "cell_type": "markdown",
     "metadata": {},
     "source": [
      "It is possible to make \u00a32 in the following way:"
     ]
    },
    {
     "cell_type": "markdown",
     "metadata": {},
     "source": [
      "1\u00d7\u00a31 + 1\u00d750p + 2\u00d720p + 1\u00d75p + 1\u00d72p + 3\u00d71p"
     ]
    },
    {
     "cell_type": "markdown",
     "metadata": {},
     "source": [
      "How many different ways can \u00a32 be made using any number of coins?"
     ]
    },
    {
     "cell_type": "code",
     "collapsed": false,
     "input": [
      "coins = [1, 2, 5, 10, 20, 50, 100, 200]\n",
      "\n",
      "target = 200\n",
      "\n",
      "# My function will create an array that is 200 units long and then \n",
      "# using the indices which correspond to how many ways you can make\n",
      "# that number (the index number) using the listed coins. For every \n",
      "# index of the array of coins it will add the previous multiple of \n",
      "# coin's array index to the present index (in my function, \n",
      "# variable p). For example for coin value of 10, it will look at every\n",
      "# array value from that coin value of 10 to the final target value\n",
      "# and look 10 spaces back and add that to the present index. This works\n",
      "# because it has already calculated the number of ways you can make\n",
      "# one number it just continues to build on that knowledge until you\n",
      "# get to the final target value, and as it builds on the present index\n",
      "# the higher value coins become relevant because of the addition of\n",
      "# target_arr[p-c]. \n",
      "\n",
      "# Here is a test case to show how my code works at small numbers.\n",
      "\n",
      "def diff_sum(coins, target):\n",
      "    target_arr = [0]*(target+1)\n",
      "    target_arr[0] = 1\n",
      "    n = 1\n",
      "    for c in coins:\n",
      "        for p in range(c, target+1):\n",
      "            print \"Iteration:\",n \n",
      "            print \"p=\",p\n",
      "            print \"p-c=\",p-c\n",
      "            print \"target_arr[p]=\",target_arr[p]\n",
      "            print \"target_arr[p-c]=\",target_arr[p-c]\n",
      "            target_arr[p] += target_arr[p-c]\n",
      "            print target_arr\n",
      "            n += 1\n",
      "            print\n",
      "    print target_arr[target]\n",
      "\n",
      "diff_sum(coins, 5)\n"
     ],
     "language": "python",
     "metadata": {},
     "outputs": [
      {
       "output_type": "stream",
       "stream": "stdout",
       "text": [
        "Iteration: 1\n",
        "p= 1\n",
        "p-c= 0\n",
        "target_arr[p]= 0\n",
        "target_arr[p-c]= 1\n",
        "[1, 1, 0, 0, 0, 0]\n",
        "\n",
        "Iteration: 2\n",
        "p= 2\n",
        "p-c= 1\n",
        "target_arr[p]= 0\n",
        "target_arr[p-c]= 1\n",
        "[1, 1, 1, 0, 0, 0]\n",
        "\n",
        "Iteration: 3\n",
        "p= 3\n",
        "p-c= 2\n",
        "target_arr[p]= 0\n",
        "target_arr[p-c]= 1\n",
        "[1, 1, 1, 1, 0, 0]\n",
        "\n",
        "Iteration: 4\n",
        "p= 4\n",
        "p-c= 3\n",
        "target_arr[p]= 0\n",
        "target_arr[p-c]= 1\n",
        "[1, 1, 1, 1, 1, 0]\n",
        "\n",
        "Iteration: 5\n",
        "p= 5\n",
        "p-c= 4\n",
        "target_arr[p]= 0\n",
        "target_arr[p-c]= 1\n",
        "[1, 1, 1, 1, 1, 1]\n",
        "\n",
        "Iteration: 6\n",
        "p= 2\n",
        "p-c= 0\n",
        "target_arr[p]= 1\n",
        "target_arr[p-c]= 1\n",
        "[1, 1, 2, 1, 1, 1]\n",
        "\n",
        "Iteration: 7\n",
        "p= 3\n",
        "p-c= 1\n",
        "target_arr[p]= 1\n",
        "target_arr[p-c]= 1\n",
        "[1, 1, 2, 2, 1, 1]\n",
        "\n",
        "Iteration: 8\n",
        "p= 4\n",
        "p-c= 2\n",
        "target_arr[p]= 1\n",
        "target_arr[p-c]= 2\n",
        "[1, 1, 2, 2, 3, 1]\n",
        "\n",
        "Iteration: 9\n",
        "p= 5\n",
        "p-c= 3\n",
        "target_arr[p]= 1\n",
        "target_arr[p-c]= 2\n",
        "[1, 1, 2, 2, 3, 3]\n",
        "\n",
        "Iteration: 10\n",
        "p= 5\n",
        "p-c= 0\n",
        "target_arr[p]= 3\n",
        "target_arr[p-c]= 1\n",
        "[1, 1, 2, 2, 3, 4]\n",
        "\n",
        "4\n"
       ]
      }
     ],
     "prompt_number": 41
    },
    {
     "cell_type": "code",
     "collapsed": false,
     "input": [
      "# Condensed code \n",
      "\n",
      "def diff_sum(coins, target):\n",
      "    target_arr = [0]*(target+1)\n",
      "    target_arr[0] = 1\n",
      "    for c in coins:\n",
      "        for p in range(c, target+1):\n",
      "            target_arr[p] += target_arr[p-c]\n",
      "    print target_arr\n",
      "    print target_arr[target]\n",
      "\n",
      "diff_sum(coins, 200)"
     ],
     "language": "python",
     "metadata": {},
     "outputs": [
      {
       "output_type": "stream",
       "stream": "stdout",
       "text": [
        "[1, 1, 2, 2, 3, 4, 5, 6, 7, 8, 11, 12, 15, 16, 19, 22, 25, 28, 31, 34, 41, 44, 51, 54, 61, 68, 75, 82, 89, 96, 109, 116, 129, 136, 149, 162, 175, 188, 201, 214, 236, 249, 271, 284, 306, 328, 350, 372, 394, 416, 451, 473, 508, 530, 565, 600, 635, 670, 705, 740, 793, 828, 881, 916, 969, 1022, 1075, 1128, 1181, 1234, 1311, 1364, 1441, 1494, 1571, 1648, 1725, 1802, 1879, 1956, 2064, 2141, 2249, 2326, 2434, 2542, 2650, 2758, 2866, 2974, 3121, 3229, 3376, 3484, 3631, 3778, 3925, 4072, 4219, 4366, 4563, 4710, 4907, 5054, 5251, 5448, 5645, 5842, 6039, 6236, 6495, 6692, 6951, 7148, 7407, 7666, 7925, 8184, 8443, 8702, 9038, 9297, 9633, 9892, 10228, 10564, 10900, 11236, 11572, 11908, 12337, 12673, 13102, 13438, 13867, 14296, 14725, 15154, 15583, 16012, 16553, 16982, 17523, 17952, 18493, 19034, 19575, 20116, 20657, 21198, 21873, 22414, 23089, 23630, 24305, 24980, 25655, 26330, 27005, 27680, 28514, 29189, 30023, 30698, 31532, 32366, 33200, 34034, 34868, 35702, 36723, 37557, 38578, 39412, 40433, 41454, 42475, 43496, 44517, 45538, 46777, 47798, 49037, 50058, 51297, 52536, 53775, 55014, 56253, 57492, 58983, 60222, 61713, 62952, 64443, 65934, 67425, 68916, 70407, 71898, 73682]\n",
        "73682\n"
       ]
      }
     ],
     "prompt_number": 37
    },
    {
     "cell_type": "code",
     "collapsed": false,
     "input": [],
     "language": "python",
     "metadata": {},
     "outputs": []
    }
   ],
   "metadata": {}
  }
 ]
}