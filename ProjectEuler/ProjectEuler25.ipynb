{
 "metadata": {
  "name": "",
  "signature": "sha256:dd8b16500801fddfe44689f870f7cf11f4cb76cca2de34707f71080503768b30"
 },
 "nbformat": 3,
 "nbformat_minor": 0,
 "worksheets": [
  {
   "cells": [
    {
     "cell_type": "heading",
     "level": 1,
     "metadata": {},
     "source": [
      "Project Euler 25"
     ]
    },
    {
     "cell_type": "heading",
     "level": 2,
     "metadata": {},
     "source": [
      "1000-digit Fibonacci number"
     ]
    },
    {
     "cell_type": "markdown",
     "metadata": {},
     "source": [
      "The Fibonacci sequence is defined by the recurrence relation:\n",
      "\n",
      "Fn = Fn\u22121 + Fn\u22122, where F1 = 1 and F2 = 1.\n",
      "Hence the first 12 terms will be:\n",
      "\n",
      "F1 = 1\n",
      "\n",
      "F2 = 1\n",
      "\n",
      "F3 = 2\n",
      "\n",
      "F4 = 3\n",
      "\n",
      "F5 = 5\n",
      "\n",
      "F6 = 8\n",
      "\n",
      "F7 = 13\n",
      "\n",
      "F8 = 21\n",
      "\n",
      "F9 = 34\n",
      "\n",
      "F10 = 55\n",
      "\n",
      "F11 = 89\n",
      "\n",
      "F12 = 144\n",
      "\n",
      "The 12th term, F12, is the first term to contain three digits.\n",
      "\n",
      "What is the first term in the Fibonacci sequence to contain 1000 digits?"
     ]
    },
    {
     "cell_type": "code",
     "collapsed": false,
     "input": [
      "import numpy as np\n",
      "\n",
      "Fib = np.empty(3)\n",
      "Fib[0] = 1\n",
      "Fib[1] = 1\n"
     ],
     "language": "python",
     "metadata": {},
     "outputs": [
      {
       "output_type": "stream",
       "stream": "stdout",
       "text": [
        "[  1.00000000e+000   1.00000000e+000   2.13245424e-314]\n"
       ]
      }
     ],
     "prompt_number": 15
    },
    {
     "cell_type": "code",
     "collapsed": false,
     "input": [],
     "language": "python",
     "metadata": {},
     "outputs": []
    }
   ],
   "metadata": {}
  }
 ]
}