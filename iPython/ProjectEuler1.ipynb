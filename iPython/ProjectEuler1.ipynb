{
 "metadata": {
  "name": "",
  "signature": "sha256:dbd3d0d69b369c5728bd0f7d07e0dd920c98776c5fba990397cf14c128991489"
 },
 "nbformat": 3,
 "nbformat_minor": 0,
 "worksheets": [
  {
   "cells": [
    {
     "cell_type": "code",
     "collapsed": false,
     "input": [
      "total = 0\n",
      "for i in range(1000):\n",
      "    if i % 5 == 0 or i % 3 == 0:\n",
      "        total += i\n",
      "print total\n"
     ],
     "language": "python",
     "metadata": {},
     "outputs": [
      {
       "output_type": "stream",
       "stream": "stdout",
       "text": [
        "233168\n"
       ]
      }
     ],
     "prompt_number": 1
    },
    {
     "cell_type": "code",
     "collapsed": false,
     "input": [],
     "language": "python",
     "metadata": {},
     "outputs": []
    }
   ],
   "metadata": {}
  }
 ]
}