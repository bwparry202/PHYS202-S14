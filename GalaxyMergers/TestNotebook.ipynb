{
 "metadata": {
  "name": "",
  "signature": "sha256:4cf9b821fbef921db6dee763f2d267165768dc2076082adb446fe1c9f504548e"
 },
 "nbformat": 3,
 "nbformat_minor": 0,
 "worksheets": [
  {
   "cells": [
    {
     "cell_type": "code",
     "collapsed": false,
     "input": [
      "%pylab inline\n",
      "import numpy as np\n",
      "import matplotlib.pyplot as plt\n",
      "from scipy.integrate import odeint\n",
      "from IPython.html.widgets import interact, interactive\n",
      "from scipy.interpolate import interp1d\n",
      "from scipy.optimize import fsolve"
     ],
     "language": "python",
     "metadata": {},
     "outputs": [
      {
       "output_type": "stream",
       "stream": "stdout",
       "text": [
        "Populating the interactive namespace from numpy and matplotlib\n"
       ]
      }
     ],
     "prompt_number": 2
    },
    {
     "cell_type": "code",
     "collapsed": false,
     "input": [
      "def derivgalaxy(y,t,M,S):\n",
      "    g = 4.302e-3 #pc(M_solar)^-1 (km/s)^2\n",
      "    vRx = y[0]\n",
      "    vRy = y[2]\n",
      "    Rx = y[1]\n",
      "    Ry = y[3]\n",
      "    R = sqrt(Rx**2+Ry**2)\n",
      "    \n",
      "    dvRx_dt = -g * ((M+S)/(sqrt(Rx**2+Ry**2))**3)*Rx\n",
      "    dvRy_dt = -g * ((M+S)/(sqrt(Rx**2+Ry**2))**3)*Ry\n",
      "    \n",
      "    return np.array([dvRx_dt, vRx, dvRy_dt, vRy])"
     ],
     "language": "python",
     "metadata": {},
     "outputs": [],
     "prompt_number": 3
    },
    {
     "cell_type": "code",
     "collapsed": false,
     "input": [
      "def plot_galaxyX(Initial_velocity_X = 0.,Initial_velocity_Y = 0.1,t = 50., M=10., S=30.):\n",
      "    g = 4.302e-3 #pc(M_solar)^-1 (km/s)^2\n",
      "    \n",
      "    vRx_0 = Initial_velocity_X\n",
      "    vRy_0 = Initial_velocity_Y\n",
      "    Rx0 = 1\n",
      "    Ry0 = 0\n",
      "    t = np.arange(0.,t+0.1,0.1)\n",
      "    \n",
      "    output = odeint(derivgalaxy, np.array([vRx_0,Rx0,vRy_0,Ry0]), t, args=(M, S))\n",
      "    vRx = output[:,0]\n",
      "    vRy = output[:,2]\n",
      "    Rx = output[:,1]\n",
      "    Ry = output[:,3]\n",
      "    \n",
      "    ##### Eccentricity\n",
      "    \n",
      "    x_n = []\n",
      "    for n in range(len(Rx)):\n",
      "        if Rx[n] > -.01 and Rx[n] < 0.01:\n",
      "            x_n.append(n)\n",
      "    xn = abs(np.array(x_n))\n",
      "    try:\n",
      "        x0 = xn.min()\n",
      "        y0 = abs(Ry[x0])\n",
      "        if y0 > 1 and y0 < 2:\n",
      "            a = (Rx.max()-Rx.min())/2.\n",
      "            b = (Ry.max())/2.            \n",
      "            eccen = sqrt(a**2 - b**2)/a\n",
      "        elif y0 == 1:\n",
      "            eccen = 0\n",
      "        elif y0 < 1:\n",
      "            a = (Rx.max()-Rx.min())/2.\n",
      "            b = (Ry.max())/2.            \n",
      "            eccen = sqrt(a**2 - b**2)/a\n",
      "        elif y0 > 2:\n",
      "            eccen = sqrt(1+y0)\n",
      "        print y0\n",
      "        print \"Eccentricity of orbit =\",eccen\n",
      "        \n",
      "    except ValueError as err:\n",
      "        print \"No value.\"\n",
      "        \n",
      "    plt.plot(Rx,Ry)\n",
      "    plt.plot(0,0,'y*')\n",
      "    plt.title(\"Two body central force problem\")\n",
      "    plt.ylabel(\"Y\")\n",
      "    plt.xlabel(\"X\")\n",
      "    plt.xlim(-8,8)\n",
      "    plt.ylim(-5,5)\n",
      "    plt.grid()\n",
      "    plt.legend()\n",
      "    plt.show()\n",
      "    \n",
      "p = interact(plot_galaxyX,Initial_velocity_X= (-0.000000000001,0.00000000000001), Initial_velocity_Y = (-1.,1.,.01),\n",
      "                     t = (0.,100.,0.1), M=(10.,50.,5.), S=(10.,50.,5.))"
     ],
     "language": "python",
     "metadata": {},
     "outputs": [
      {
       "output_type": "stream",
       "stream": "stdout",
       "text": [
        "1.025015711\n",
        "Eccentricity of orbit = 0.866117333116\n"
       ]
      },
      {
       "metadata": {},
       "output_type": "display_data",
       "png": "[encoded data removed]",
       "text": [
        "<matplotlib.figure.Figure at 0xadcf7b8>"
       ]
      }
     ],
     "prompt_number": 40
    },
    {
     "cell_type": "code",
     "collapsed": false,
     "input": [
      "def plot_galaxyY(Initial_velocity_X = 0.1,Initial_velocity_Y = 0.1,t = 50., M=10., S=30.):\n",
      "    g = 4.302e-3 #pc(M_solar)^-1 (km/s)^2\n",
      "    \n",
      "    vRx_0 = Initial_velocity_X\n",
      "    vRy_0 = Initial_velocity_Y\n",
      "    Rx0 = 0\n",
      "    Ry0 = 1\n",
      "    t = np.arange(0.,t+0.1,0.1)\n",
      "    \n",
      "    output = odeint(derivgalaxy, np.array([vRx_0,Rx0,vRy_0,Ry0]), t, args=(M, S))\n",
      "    vRx = output[:,0]\n",
      "    vRy = output[:,2]\n",
      "    Rx = output[:,1]\n",
      "    Ry = output[:,3]\n",
      "    \n",
      "    ##### Eccentricity\n",
      "        \n",
      "    quadinterp = interp1d(x,y)\n",
      "    nodraginterp = interp1d(xnd,ynd)\n",
      "    zero = fsolve(quadinterp,100)\n",
      "    zero2 = fsolve(nodraginterp,100)\n",
      "    \n",
      "    eccen_p = (Ra/a)-1\n",
      "    eccen = abs(eccen_p)\n",
      "    \n",
      "    print \"Eccentricity of orbit =\",eccen\n",
      "    plt.plot(Rx,Ry)\n",
      "    plt.plot(0,0,'y*')\n",
      "    plt.title(\"Two body central force problem\")\n",
      "    plt.ylabel(\"Y\")\n",
      "    plt.xlabel(\"X\")\n",
      "    plt.xlim(-8,8)\n",
      "    plt.ylim(-5,5)\n",
      "    plt.grid()\n",
      "    plt.legend()\n",
      "    plt.show()"
     ],
     "language": "python",
     "metadata": {},
     "outputs": [],
     "prompt_number": 11
    },
    {
     "cell_type": "code",
     "collapsed": false,
     "input": [
      "def setup():\n",
      "    q = input(\"Would you like to start on X(0) or Y(1) axis:\")\n",
      "    if q == 0: \n",
      "        p = interact(plot_galaxyX,Initial_velocity_X= (-0.000000000001,0.00000000000001), Initial_velocity_Y = (-1.,1.,.01),\n",
      "                     t = (0.,100.,0.1), M=(10.,50.,5.), S=(10.,50.,5.))\n",
      "    elif q == 1:\n",
      "        g = interact(plot_galaxyY,Initial_velocity_X = (-1.,1.,.01), Initial_velocity_Y = (-0.000000000001,0.00000000000001),\n",
      "                 t = (0.,100.,0.1), M=(10.,50.,5.), S=(10.,50.,5.))\n",
      "    else:\n",
      "        print \"Sorry, you must enter, a 0 for X or a 1 for Y.\"\n",
      "        setup()"
     ],
     "language": "python",
     "metadata": {},
     "outputs": [],
     "prompt_number": 9
    },
    {
     "cell_type": "code",
     "collapsed": false,
     "input": [
      "setup()"
     ],
     "language": "python",
     "metadata": {},
     "outputs": [
      {
       "output_type": "stream",
       "stream": "stdout",
       "text": [
        "Eccentricity of orbit = 0.799051516147\n"
       ]
      },
      {
       "metadata": {},
       "output_type": "display_data",
       "png": "[encoded data removed]",
       "text": [
        "<matplotlib.figure.Figure at 0xa4fe8d0>"
       ]
      }
     ],
     "prompt_number": 10
    },
    {
     "cell_type": "code",
     "collapsed": false,
     "input": [],
     "language": "python",
     "metadata": {},
     "outputs": []
    }
   ],
   "metadata": {}
  }
 ]
}