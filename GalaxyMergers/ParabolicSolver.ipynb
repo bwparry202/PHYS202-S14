{
 "metadata": {
  "name": "",
  "signature": "sha256:397e13ec75bbb32e9bd282d98d2083af3da6ffcfeeb469ef57e43a8048f3ed03"
 },
 "nbformat": 3,
 "nbformat_minor": 0,
 "worksheets": [
  {
   "cells": [
    {
     "cell_type": "heading",
     "level": 2,
     "metadata": {},
     "source": [
      "Parabolic Solver"
     ]
    },
    {
     "cell_type": "code",
     "collapsed": false,
     "input": [
      "%pylab inline\n",
      "import numpy as np\n",
      "import matplotlib.pyplot as plt\n",
      "from scipy.integrate import odeint\n",
      "from IPython.html.widgets import interact, interactive"
     ],
     "language": "python",
     "metadata": {},
     "outputs": [
      {
       "output_type": "stream",
       "stream": "stdout",
       "text": [
        "Populating the interactive namespace from numpy and matplotlib\n"
       ]
      }
     ],
     "prompt_number": 1
    },
    {
     "cell_type": "code",
     "collapsed": false,
     "input": [
      "def derivgalaxy(y,t,M,S):\n",
      "    G = 4.302e-3 #pc(M_solar)^-1 (km/s)^2\n",
      "    vRx = y[0]\n",
      "    vRy = y[2]\n",
      "    Rx = y[1]\n",
      "    Ry = y[3]\n",
      "    R = sqrt(Rx**2+Ry**2)\n",
      "        \n",
      "    dvRx_dt = -G * ((M+S)/(sqrt(Rx**2+Ry**2))**3)*Rx\n",
      "    dvRy_dt = -G * ((M+S)/(sqrt(Rx**2+Ry**2))**3)*Ry\n",
      "    \n",
      "    return np.array([dvRx_dt, vRx, dvRy_dt, vRy])"
     ],
     "language": "python",
     "metadata": {},
     "outputs": [],
     "prompt_number": 2
    },
    {
     "cell_type": "code",
     "collapsed": false,
     "input": [
      "def plot_galaxy(Initial_velocity_X = 0.85,Initial_velocity_Y = 0.65,t = 11., M=330., S=330.):\n",
      "    G = 4.302e-3 #pc(M_solar)^-1 (km/s)^2\\\n",
      "    \n",
      "    vRx_0 = Initial_velocity_X                                ## Initial velocity of disruptor galaxy in x\n",
      "    vRy_0 = Initial_velocity_Y\n",
      "    Rx0 = 1                  ## initial position x\n",
      "    Ry0 = 0                  ## initial position y\n",
      "    \n",
      "    \n",
      "    ts = np.arange(0.,t+0.1,0.01)\n",
      "    output = odeint(derivgalaxy, np.array([vRx_0,Rx0,vRy_0,Ry0]),\n",
      "                    ts, args=(M, S))                                  \n",
      "    Rx = output[:,1]                ## Solve the ODE for each index and output the position values\n",
      "    Ry = output[:,3]                ## Used n == 0 for both legend clarity and to minimize the x/y\n",
      "            \n",
      "    \n",
      "    mylabel = r'$Parabolic\\ Test:\\ Time\\ =\\ %.1fe8\\ years$' % t    ## Title on graph includes present time.\n",
      "    plt.plot(Rx,Ry,'b--',label = \"Disturbant Galaxy\")         ## Plots the path of disturbing galaxy for ALL time.\n",
      "    plt.plot(Rx0,Ry0,'bo')                                    ## Initial value point of disturbing galaxy.\n",
      "    plt.plot(Rx[-1],Ry[-1],'bd')                              ## Present value of disturbing galaxy\n",
      "    plt.plot(0,0,'y*')                              ## Central star of mass M location\n",
      "    plt.title(mylabel,size=15)                       \n",
      "    plt.ylabel(\"Y\",size=13)\n",
      "    plt.xlabel(\"X\",size=13)\n",
      "    plt.xlim(-7,7)\n",
      "    plt.ylim(-7,7)\n",
      "    plt.grid()\n",
      "    plt.legend(loc=\"best\")\n",
      "    plt.show()                                      ## Shows graph."
     ],
     "language": "python",
     "metadata": {},
     "outputs": [],
     "prompt_number": 5
    },
    {
     "cell_type": "code",
     "collapsed": false,
     "input": [
      "p = interact(plot_galaxy,Initial_velocity_X= (0.,0.00000001,0.00000005), Initial_velocity_Y = (-5.,5.,0.05),\n",
      "                     t = (0.,20.,.05), M=(100.,500.,5.), S=(100.,500.,5.))"
     ],
     "language": "python",
     "metadata": {},
     "outputs": [
      {
       "metadata": {},
       "output_type": "display_data",
       "png": "[encoded data removed]",
       "text": [
        "<matplotlib.figure.Figure at 0xab1ff98>"
       ]
      }
     ],
     "prompt_number": 11
    },
    {
     "cell_type": "code",
     "collapsed": false,
     "input": [],
     "language": "python",
     "metadata": {},
     "outputs": []
    }
   ],
   "metadata": {}
  }
 ]
}