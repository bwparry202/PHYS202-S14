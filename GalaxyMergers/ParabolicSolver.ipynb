{
 "metadata": {
  "name": "",
  "signature": "sha256:c8deefc7dffb4ec3499ce61c5f36f10d43190cf13f99463a389c8f7ecb385df6"
 },
 "nbformat": 3,
 "nbformat_minor": 0,
 "worksheets": [
  {
   "cells": [
    {
     "cell_type": "heading",
     "level": 2,
     "metadata": {},
     "source": [
      "Parabolic Solver"
     ]
    },
    {
     "cell_type": "code",
     "collapsed": false,
     "input": [
      "%pylab inline\n",
      "import numpy as np\n",
      "import matplotlib.pyplot as plt\n",
      "from scipy.integrate import odeint\n",
      "from IPython.html.widgets import interact, interactive"
     ],
     "language": "python",
     "metadata": {},
     "outputs": [
      {
       "output_type": "stream",
       "stream": "stdout",
       "text": [
        "Populating the interactive namespace from numpy and matplotlib\n"
       ]
      }
     ],
     "prompt_number": 3
    },
    {
     "cell_type": "code",
     "collapsed": false,
     "input": [
      "def derivgalaxy(y,t,M,S):\n",
      "    G = 4.4995635e-8\n",
      "    vRx = y[0]\n",
      "    vRy = y[2]\n",
      "    Rx = y[1]\n",
      "    Ry = y[3]\n",
      "    R = sqrt(Rx**2+Ry**2)\n",
      "        \n",
      "    dvRx_dt = -G * ((M+S)/(sqrt(Rx**2+Ry**2))**3)*Rx\n",
      "    dvRy_dt = -G * ((M+S)/(sqrt(Rx**2+Ry**2))**3)*Ry\n",
      "    \n",
      "    return np.array([dvRx_dt, vRx, dvRy_dt, vRy])"
     ],
     "language": "python",
     "metadata": {},
     "outputs": [],
     "prompt_number": 4
    },
    {
     "cell_type": "code",
     "collapsed": false,
     "input": [
      "def plot_galaxy(Initial_velocity_X = 0.,Initial_velocity_Y = 11.828,t = 1., M= 1., S=1.):\n",
      "        \n",
      "    vRx_0 = Initial_velocity_X                                ## Initial velocity of disruptor galaxy in x\n",
      "    vRy_0 = Initial_velocity_Y\n",
      "    Rx0 = 25              ## initial position x\n",
      "    Ry0 = 0            ## initial position y\n",
      "    Ms = M*1e11             ## Solar masses\n",
      "    Ss = S*1e11             ## Solar masses\n",
      "    \n",
      "    ts = np.arange(0.,t+0.000001,0.0001)\n",
      "    output = odeint(derivgalaxy, np.array([vRx_0,Rx0,vRy_0,Ry0]),\n",
      "                    ts, args=(Ms, Ss))                                  \n",
      "    Rx = output[:,1]                ## Solve the ODE for each index and output the position values\n",
      "    Ry = output[:,3]                ## Used n == 0 for both legend clarity and to minimize the x/y\n",
      "    vRx = output[:,0]\n",
      "    vRy = output[:,2]\n",
      "    \n",
      "    mylabel = r'$Parabolic\\ Test:\\ Time\\ =\\ %.1fe8\\ years$' % t    ## Title on graph includes present time.\n",
      "    plt.plot(Rx,Ry,'b--',label = \"Disturbant Galaxy\")         ## Plots the path of disturbing galaxy for ALL time.\n",
      "    plt.plot(Rx0,Ry0,'bo')                                    ## Initial value point of disturbing galaxy.\n",
      "    plt.plot(Rx[-1],Ry[-1],'bd')                              ## Present value of disturbing galaxy\n",
      "    plt.plot(0,0,'y*')                              ## Central star of mass M location\n",
      "    plt.title(mylabel,size=15)                       \n",
      "    plt.ylabel(\"Y\",size=13)\n",
      "    plt.xlabel(\"X\",size=13)\n",
      "    plt.xlim(-50000,50)\n",
      "    plt.ylim(-500,10000)\n",
      "    plt.grid()\n",
      "    plt.legend(loc=\"best\")\n",
      "    plt.show()             ## Shows graph.\n",
      "    print \"vRx =\",vRx[t*10000]\n",
      "    print \"vRy =\",vRy[t*10000]\n",
      "    print \"Rx =\",Rx[t*10000]\n",
      "    print \"Ry =\",Ry[t*10000]\n",
      "    print \"t =\",t"
     ],
     "language": "python",
     "metadata": {},
     "outputs": [],
     "prompt_number": 5
    },
    {
     "cell_type": "code",
     "collapsed": false,
     "input": [
      "p = interact(plot_galaxy,Initial_velocity_X= (0.,0.0000001,0.1e3), Initial_velocity_Y = (26,27,0.01),\n",
      "                     t = (0.,7000.,1.), M=(1.,5.,.1), S=(1.,5.,.1))"
     ],
     "language": "python",
     "metadata": {},
     "outputs": [
      {
       "metadata": {},
       "output_type": "display_data",
       "png": "[encoded data removed]",
       "text": [
        "<matplotlib.figure.Figure at 0xa827588>"
       ]
      },
      {
       "output_type": "stream",
       "stream": "stdout",
       "text": [
        "vRx = -2.97766143407\n",
        "vRy = 0.351700894153\n",
        "Rx = -2056.19939495\n",
        "Ry = 468.208740155\n",
        "t = 482.0\n"
       ]
      },
      {
       "output_type": "stream",
       "stream": "stdout",
       "text": [
        "\r"
       ]
      },
      {
       "output_type": "stream",
       "stream": "stderr",
       "text": [
        "\r"
       ]
      }
     ],
     "prompt_number": 6
    },
    {
     "cell_type": "code",
     "collapsed": false,
     "input": [],
     "language": "python",
     "metadata": {},
     "outputs": []
    }
   ],
   "metadata": {}
  }
 ]
}