{
 "metadata": {
  "name": "",
  "signature": "sha256:7cb65b127ef9514042be19698414009b3b73510839452f162f749fcbed535788"
 },
 "nbformat": 3,
 "nbformat_minor": 0,
 "worksheets": [
  {
   "cells": [
    {
     "cell_type": "heading",
     "level": 1,
     "metadata": {},
     "source": [
      "Galaxy Mergers: The Direct Passage Case"
     ]
    },
    {
     "cell_type": "code",
     "collapsed": false,
     "input": [
      "%pylab inline\n",
      "import numpy as np\n",
      "import matplotlib.pyplot as plt\n",
      "from scipy.integrate import odeint\n",
      "from IPython.html.widgets import interact, interactive"
     ],
     "language": "python",
     "metadata": {},
     "outputs": [
      {
       "output_type": "stream",
       "stream": "stdout",
       "text": [
        "Populating the interactive namespace from numpy and matplotlib\n"
       ]
      },
      {
       "output_type": "stream",
       "stream": "stderr",
       "text": [
        "WARNING: pylab import has clobbered these variables: ['interactive']\n",
        "`%matplotlib` prevents importing * from pylab and numpy\n"
       ]
      }
     ],
     "prompt_number": 16
    },
    {
     "cell_type": "heading",
     "level": 2,
     "metadata": {},
     "source": [
      "Setting the initial conditions"
     ]
    },
    {
     "cell_type": "markdown",
     "metadata": {},
     "source": [
      "I began my project by creating a function that made the rings as a function of the number of particles in the ring and the corresponding radius, the G and M are constants defined by the problem (G is the universal gravitational constant and M is the central mass), I use them to determine the initial velocity of each particle."
     ]
    },
    {
     "cell_type": "code",
     "collapsed": false,
     "input": [
      "pi = np.pi\n",
      "def ring(particles,radius,G,M):\n",
      "    particle = []\n",
      "    velocity = []\n",
      "    theta_n = 0\n",
      "    arclen = (2*pi)/particles              ## Arc length equally divided amongst the number of particles around circle\n",
      "    v = sqrt((G*M)/radius)                 ## Velocity for central force to stay in a circular orbit\n",
      "    while len(particle) < particles:\n",
      "        angle = theta_n*arclen\n",
      "        beta = angle + (pi/2.)          ## Angle beta = angle of the position plus 90 degrees, for velocity vector\n",
      "        theta_n += 1\n",
      "        particle.append((radius*np.cos(angle), radius*np.sin(angle)))   ## x = r*cos(theta)  y = r*sin(theta)\n",
      "        velocity.append((v*np.cos(beta), v*np.sin(beta)))               ## Same concept here as above.\n",
      "    return np.array(particle),np.array(velocity)            ## Returns two arrays, particle position and velocity."
     ],
     "language": "python",
     "metadata": {},
     "outputs": [],
     "prompt_number": 17
    },
    {
     "cell_type": "markdown",
     "metadata": {},
     "source": [
      "I then made a function that initialized all the rings found in the paper by Toomre and Toomre, essentially this function sets up all the initial condititions for the massless particles (position and velocity). It takes G and M as function values because my ring function takes them, which allows further interaction with the interact function later on -- to see how the trajectories change as a function of the different mass."
     ]
    },
    {
     "cell_type": "code",
     "collapsed": false,
     "input": [
      "def init_rings(G,M):\n",
      "    ring1,velocity1 = ring(12,.2,G,M)     ## All of these are dependent on details found in the paper by Toomre et al.\n",
      "    ring2,velocity2 = ring(18,.3,G,M)\n",
      "    ring3,velocity3 = ring(24,.4,G,M)\n",
      "    ring4,velocity4 = ring(30,.5,G,M)\n",
      "    ring5,velocity5 = ring(36,.6,G,M)\n",
      "    rings = np.array([ring1,ring2,ring3,ring4,ring5])\n",
      "    velocity = np.array([velocity1,velocity2,velocity3,velocity4,velocity5])\n",
      "    return rings,velocity             ## Returns arrays of both the positions and velocity."
     ],
     "language": "python",
     "metadata": {},
     "outputs": [],
     "prompt_number": 18
    },
    {
     "cell_type": "markdown",
     "metadata": {},
     "source": [
      "The next function is what I thought of as an unpacking function; it takes the awkward shaped arrays returned by my init_rings function and returns numpy arrays of one dimension, from here you would be able to easily run all of these through the ordinary differential equation solver without having to do much array slicing. "
     ]
    },
    {
     "cell_type": "code",
     "collapsed": false,
     "input": [
      "def unpack_rings_vel(rings,velocity):\n",
      "    rx_points = []                             ## x-coordinates of all massless particles\n",
      "    ry_points = []                             ## y-coordinates\n",
      "    vrx = []                                   ## initial x velocity\n",
      "    vry = []                                   ## initial y velocity\n",
      "    for ring in rings:\n",
      "        for point in ring:\n",
      "            rx_points.append(point[0])\n",
      "            ry_points.append(point[1])\n",
      "    for ring in velocity:\n",
      "        for point in ring:\n",
      "            vrx.append(point[0])\n",
      "            vry.append(point[1])\n",
      "    return np.array(rx_points), np.array(ry_points), np.array(vrx), np.array(vry)  ## Returns numpy arrays of values"
     ],
     "language": "python",
     "metadata": {},
     "outputs": [],
     "prompt_number": 19
    },
    {
     "cell_type": "heading",
     "level": 2,
     "metadata": {},
     "source": [
      "Solving the Ordinary Differential Equations"
     ]
    },
    {
     "cell_type": "markdown",
     "metadata": {},
     "source": [
      "Here is my derivative function that contains the two following differential equations, necessary to determine the motion of both the disruptor galaxy and the massless particles:\n",
      "\n",
      "\\begin{equation}\n",
      "\\ddot{\\mathbf{r}} = -\\gamma \\left\\{ \\frac{M}{r^3}\\mathbf{r} -\\frac{S}{\\rho^3}\\boldsymbol{\\rho} + \\frac{S}{R^3}\\boldsymbol\\Re \\right\\}\n",
      "\\end{equation}\n",
      "\\begin{equation}\n",
      "\\ddot{\\boldsymbol\\Re} = -\\gamma \\frac{M+S}{R^3}\\boldsymbol\\Re\n",
      "\\end{equation}\n",
      "\n",
      "Where:  \n",
      "\n",
      "\\begin{equation} \\boldsymbol{\\rho} = \\boldsymbol{\\Re} - \\boldsymbol{r} \\end{equation}\n",
      "\n",
      "Capital R is equal to the radius vector from M to S\n",
      "\n",
      "Gamma is equal to the Gravitational constant\n",
      "\n",
      "M is the central mass of the main galaxy and S is the mass of the disrupting galaxy.\n",
      "\n",
      "You end up with an eight dimensional array that contains the acceleration and velocity of both an INDIVIDUAL massless particle and the disrupting galaxy. It is evident at this point that we must solve for every massless particle separately."
     ]
    },
    {
     "cell_type": "code",
     "collapsed": false,
     "input": [
      "def derivgalaxy(y,t,M,S):\n",
      "    G = 4.302e-3 #pc(M_solar)^-1 (km/s)^2\n",
      "    vRx = y[0]\n",
      "    vRy = y[2]\n",
      "    Rx = y[1]\n",
      "    Ry = y[3]\n",
      "    vrx = y[4]\n",
      "    vry = y[6]\n",
      "    rx = y[5]\n",
      "    ry = y[7]\n",
      "    R = sqrt(Rx**2+Ry**2)\n",
      "    delta_x = (Rx-rx)\n",
      "    delta_y = (Ry-ry)\n",
      "    \n",
      "    dvrx_dt = -G * ((M/sqrt(rx**2. + ry**2.)**3.)*rx - (S/sqrt(delta_x**2.+delta_y**2.)**3.)*delta_x \n",
      "                                                        + (S/sqrt(Rx**2.+Ry**2.)**3.)*Rx)\n",
      "    dvry_dt = -G * ((M/sqrt(rx**2. + ry**2.)**3.)*ry - (S/sqrt(delta_x**2.+delta_y**2.)**3.)*delta_y \n",
      "                                                        + (S/sqrt(Rx**2.+Ry**2.)**3.)*Ry)\n",
      "    \n",
      "    dvRx_dt = -G * ((M+S)/(sqrt(Rx**2+Ry**2))**3)*Rx\n",
      "    dvRy_dt = -G * ((M+S)/(sqrt(Rx**2+Ry**2))**3)*Ry\n",
      "    \n",
      "    return np.array([dvRx_dt, vRx, dvRy_dt, vRy, dvrx_dt, vrx, dvry_dt, vry])"
     ],
     "language": "python",
     "metadata": {},
     "outputs": [],
     "prompt_number": 20
    },
    {
     "cell_type": "heading",
     "level": 2,
     "metadata": {},
     "source": [
      "Plotting the results"
     ]
    },
    {
     "cell_type": "markdown",
     "metadata": {},
     "source": [
      "Here is my main plot_galaxy function, it starts of by using my init_rings function and my unpack rings function to get all of the initial conditions for the massless particles. I then set up a for loop to run for all particles by using the length of one of the initial condition arrays. I used an if statement so I didn't get 120 values for the position of the disrupting galaxy (Rx). It runs the ODE solver for every iteration so it takes some time to run the program. The rest of the function just plots the galaxy on a plot that I specify."
     ]
    },
    {
     "cell_type": "code",
     "collapsed": false,
     "input": [
      "def plot_galaxy(Initial_velocity_X = 0.85,Initial_velocity_Y = 0.65,t = 11., M=330., S=330.):\n",
      "    G = 4.302e-3 #pc(M_solar)^-1 (km/s)^2\\\n",
      "    \n",
      "    rings,velocity = init_rings(G,M)                          ## Sets up the positions and initial velocities\n",
      "    \n",
      "    rx0,ry0,vrx_0,vry_0 = unpack_rings_vel(rings,velocity)    ## Converts values determined above to 1-D arrays\n",
      "    vRx_0 = Initial_velocity_X                                ## Initial velocity of disruptor galaxy in x\n",
      "    vRy_0 = Initial_velocity_Y                                ## Initial velocity of disruptor galaxy in y\n",
      "    Rx0 = -8                  ## initial position x\n",
      "    Ry0 = -9                  ## initial position y\n",
      "    \n",
      "    ts = np.arange(0.,t+0.1,0.01)\n",
      "    for n in range(len(rx0)):            ## Runs for all 120 particles in initial condition vectors.\n",
      "        if n == 0:\n",
      "            output = odeint(derivgalaxy, np.array([vRx_0,Rx0,vRy_0,Ry0,vrx_0[n],rx0[n],vry_0[n],ry0[n]]),\n",
      "                        ts, args=(M, S))                                  \n",
      "            Rx = output[:,1]                ## Solve the ODE for each index and output the position values\n",
      "            Ry = output[:,3]                ## Used n == 0 for both legend clarity and to minimize the x/y\n",
      "            rx = output[:,5]                ## value of the disruptor galaxy to one point.\n",
      "            ry = output[:,7]\n",
      "            plt.plot(rx[-1],ry[-1],'ro',label = \"Massless particles\")\n",
      "        else:\n",
      "            output = odeint(derivgalaxy, np.array([vRx_0,Rx0,vRy_0,Ry0,vrx_0[n],rx0[n],vry_0[n],ry0[n]]),\n",
      "                        ts, args=(M, S))\n",
      "            rx = output[:,5]                ## Solving for the rest of the 119 particles.\n",
      "            ry = output[:,7]\n",
      "            plt.plot(rx[-1],ry[-1],'ro')    ## Plots each point for every iteration.\n",
      "    \n",
      "    mylabel = r'$Direct\\ Passage\\ Test:\\ Time\\ =\\ %.1fe8\\ years$' % t    ## Title on graph includes present time.\n",
      "    mylabel2 = \"galaxyM_time_%.1f.png\" % t                               ## Label for saving plot images for video.\n",
      "    plt.plot(Rx,Ry,'b--',label = \"Disturbant Galaxy\")         ## Plots the path of disturbing galaxy for ALL time.\n",
      "    plt.plot(Rx0,Ry0,'bo')                                    ## Initial value point of disturbing galaxy.\n",
      "    plt.plot(Rx[-1],Ry[-1],'bd')                              ## Present value of disturbing galaxy\n",
      "    plt.plot(0,0,'y*')                              ## Central star of mass M location\n",
      "    plt.title(mylabel,size=15)                       \n",
      "    plt.ylabel(\"Y\",size=13)\n",
      "    plt.xlabel(\"X\",size=13)\n",
      "    plt.xlim(-7,7)\n",
      "    plt.ylim(-7,7)\n",
      "    plt.grid()\n",
      "    plt.legend(loc=\"best\")\n",
      "    plt.show()                                      ## Shows graph."
     ],
     "language": "python",
     "metadata": {},
     "outputs": [],
     "prompt_number": 21
    },
    {
     "cell_type": "markdown",
     "metadata": {},
     "source": [
      "Here is an interact function that allows you to change the parameters listed to see how they affect the trajectories of the particles."
     ]
    },
    {
     "cell_type": "code",
     "collapsed": false,
     "input": [
      "p = interact(plot_galaxy,Initial_velocity_X= (0.,2.,0.05), Initial_velocity_Y = (0.,2.,0.05),\n",
      "                     t = (0.,20.,.05), M=(100.,500.,5.), S=(100.,500.,5.))"
     ],
     "language": "python",
     "metadata": {},
     "outputs": [
      {
       "metadata": {},
       "output_type": "display_data",
       "png": "[encoded data removed]",
       "text": [
        "<matplotlib.figure.Figure at 0x405cf60>"
       ]
      }
     ],
     "prompt_number": 22
    },
    {
     "cell_type": "heading",
     "level": 2,
     "metadata": {},
     "source": [
      "A video of my results"
     ]
    },
    {
     "cell_type": "markdown",
     "metadata": {},
     "source": [
      "I modified my initial plot galaxy function here to save the figure after it is plotted. I will use it to run through smaller time scales to piece together a rendered, more detailed video of the motion.  *** I will only comment on the changes made from the previous functions, for more clarity on existing function see above ***"
     ]
    },
    {
     "cell_type": "code",
     "collapsed": false,
     "input": [
      "def plot_galaxy_img(Initial_velocity_X = 0.85,Initial_velocity_Y = 0.65,t = 0., M=330., S=330.):\n",
      "    G = 4.302e-3 #pc(M_solar)^-1 (km/s)^2\n",
      "    \n",
      "    rings,velocity = init_rings(G,M)\n",
      "    \n",
      "    rx0,ry0,vrx_0,vry_0 = unpack_rings_vel(rings,velocity)\n",
      "    \n",
      "    vRx_0 = Initial_velocity_X\n",
      "    vRy_0 = Initial_velocity_Y\n",
      "    Rx0 = -8\n",
      "    Ry0 = -9\n",
      "    \n",
      "    \n",
      "    ts = np.arange(0.,t+0.1,0.01)\n",
      "    for n in range(len(rx0)):\n",
      "        if n == 0:\n",
      "            output = odeint(derivgalaxy, np.array([vRx_0,Rx0,vRy_0,Ry0,vrx_0[n],rx0[n],vry_0[n],ry0[n]]),\n",
      "                        ts, args=(M, S))\n",
      "            Rx = output[:,1]\n",
      "            Ry = output[:,3]\n",
      "            rx = output[:,5]\n",
      "            ry = output[:,7]\n",
      "            plt.plot(rx[-1],ry[-1],'ro',label = \"Massless particles\")\n",
      "        else:\n",
      "            output = odeint(derivgalaxy, np.array([vRx_0,Rx0,vRy_0,Ry0,vrx_0[n],rx0[n],vry_0[n],ry0[n]]),\n",
      "                        ts, args=(M, S))\n",
      "            rx = output[:,5]\n",
      "            ry = output[:,7]\n",
      "            plt.plot(rx[-1],ry[-1],'ro')\n",
      "    \n",
      "    mylabel = r'$Direct\\ Passage\\ Test:\\ Time\\ =\\ %.1fe8\\ years$' % t\n",
      "    mylabel2 = \"galaxyM_time_%.1f.png\" % t\n",
      "    plt.plot(Rx,Ry,'b--',label = \"Disturbant Galaxy\")\n",
      "    plt.plot(Rx0,Ry0,'bo')\n",
      "    plt.plot(Rx[-1],Ry[-1],'bd')\n",
      "    plt.plot(0,0,'y*')\n",
      "    plt.title(mylabel,size=15)\n",
      "    plt.ylabel(\"Y\",size=13)\n",
      "    plt.xlabel(\"X\",size=13)\n",
      "    plt.xlim(-5,5)                          ## Changed the x/y limits to more accurately see the behavior\n",
      "    plt.ylim(-3.5,3.5)                      ## of the massless particles around the central mass.\n",
      "    plt.grid()\n",
      "    plt.legend(loc=\"upper right\")\n",
      "    plt.savefig(mylabel2)                   ## Saves the plot figure in the folder for later assessment.\n",
      "    plt.show()"
     ],
     "language": "python",
     "metadata": {},
     "outputs": [],
     "prompt_number": 23
    },
    {
     "cell_type": "markdown",
     "metadata": {},
     "source": [
      "Again this is just a modification of the initial plot galaxy function but I change the x/y limits so that the disruptor point is in the center of the plot. I did this because I was curious about how the particles orbited the disrupting galaxy as it continued along with it's newly aquired massless particles. "
     ]
    },
    {
     "cell_type": "code",
     "collapsed": false,
     "input": [
      "def plot_disruptor(Initial_velocity_X = 0.85,Initial_velocity_Y = 0.65,t = 0., M=330., S=330.):\n",
      "    G = 4.302e-3 #pc(M_solar)^-1 (km/s)^2\n",
      "    \n",
      "    rings,velocity = init_rings(G,M)\n",
      "    \n",
      "    rx0,ry0,vrx_0,vry_0 = unpack_rings_vel(rings,velocity)\n",
      "    \n",
      "    vRx_0 = Initial_velocity_X\n",
      "    vRy_0 = Initial_velocity_Y\n",
      "    Rx0 = -8\n",
      "    Ry0 = -9\n",
      "    \n",
      "    ts = np.arange(0.,t+0.1,0.01)\n",
      "    for n in range(len(rx0)):\n",
      "        if n == 0:\n",
      "            output = odeint(derivgalaxy, np.array([vRx_0,Rx0,vRy_0,Ry0,vrx_0[n],rx0[n],vry_0[n],ry0[n]]),\n",
      "                        ts, args=(M, S))\n",
      "            Rx = output[:,1]\n",
      "            Ry = output[:,3]\n",
      "            rx = output[:,5]\n",
      "            ry = output[:,7]\n",
      "            plt.plot(rx[-1],ry[-1],'ro',label = \"Massless particles\")\n",
      "        else:\n",
      "            output = odeint(derivgalaxy, np.array([vRx_0,Rx0,vRy_0,Ry0,vrx_0[n],rx0[n],vry_0[n],ry0[n]]),\n",
      "                        ts, args=(M, S))\n",
      "            rx = output[:,5]\n",
      "            ry = output[:,7]\n",
      "            plt.plot(rx[-1],ry[-1],'ro')\n",
      "    \n",
      "    mylabel = r'$Direct\\ Passage\\ Test:\\ Time\\ =\\ %.1fe8\\ years$' % t\n",
      "    mylabel2 = \"galaxyM_time_%.1f.png\" % t\n",
      "    plt.plot(Rx,Ry,'b--',label = \"Disturbant Galaxy\")\n",
      "    plt.plot(Rx0,Ry0,'bo')\n",
      "    plt.plot(Rx[-1],Ry[-1],'bd')\n",
      "    plt.plot(0,0,'y*')\n",
      "    plt.title(mylabel,size=15)\n",
      "    plt.ylabel(\"Y\",size=13)\n",
      "    plt.xlabel(\"X\",size=13)\n",
      "    plt.xlim(Rx[-1]-4,Rx[-1]+4)                     ## This sets the x/y limit to be determined by the location of \n",
      "    plt.ylim(Ry[-1]-4,Ry[-1]+4)                     ## the disruptor galaxy.\n",
      "    plt.grid()\n",
      "    plt.legend(loc=\"best\")\n",
      "    plt.show()"
     ],
     "language": "python",
     "metadata": {},
     "outputs": [],
     "prompt_number": 24
    },
    {
     "cell_type": "markdown",
     "metadata": {},
     "source": [
      "This is a similar function to the plot_galaxy_img, it allows me to get the plots of the particles from the point of view of the disruptor and then make a movie of this point of view with smaller a smaller time scale."
     ]
    },
    {
     "cell_type": "code",
     "collapsed": false,
     "input": [
      "def plot_disruptor_img(Initial_velocity_X = 0.85,Initial_velocity_Y = 0.65,t = 0., M=330., S=330.):\n",
      "    G = 4.302e-3 #pc(M_solar)^-1 (km/s)^2\n",
      "    \n",
      "    rings,velocity = init_rings(G,M)\n",
      "    \n",
      "    rx0,ry0,vrx_0,vry_0 = unpack_rings_vel(rings,velocity)\n",
      "    \n",
      "    vRx_0 = Initial_velocity_X\n",
      "    vRy_0 = Initial_velocity_Y\n",
      "    Rx0 = -8\n",
      "    Ry0 = -9\n",
      "    \n",
      "    ts = np.arange(0.,t+0.1,0.01)\n",
      "    for n in range(len(rx0)):\n",
      "        if n == 0:\n",
      "            output = odeint(derivgalaxy, np.array([vRx_0,Rx0,vRy_0,Ry0,vrx_0[n],rx0[n],vry_0[n],ry0[n]]),\n",
      "                        ts, args=(M, S))\n",
      "            Rx = output[:,1]\n",
      "            Ry = output[:,3]\n",
      "            rx = output[:,5]\n",
      "            ry = output[:,7]\n",
      "            plt.plot(rx[-1],ry[-1],'ro',label = \"Massless particles\")\n",
      "        else:\n",
      "            output = odeint(derivgalaxy, np.array([vRx_0,Rx0,vRy_0,Ry0,vrx_0[n],rx0[n],vry_0[n],ry0[n]]),\n",
      "                        ts, args=(M, S))\n",
      "            rx = output[:,5]\n",
      "            ry = output[:,7]\n",
      "            plt.plot(rx[-1],ry[-1],'ro')\n",
      "    \n",
      "    mylabel = r'$Direct\\ Passage\\ Test:\\ Time\\ =\\ %.1fe8\\ years$' % t\n",
      "    mylabel2 = \"disruptorS_time_%.1f.png\" % t\n",
      "    plt.plot(Rx,Ry,'b--',label = \"Disturbant Galaxy\")\n",
      "    plt.plot(Rx0,Ry0,'bo')\n",
      "    plt.plot(Rx[-1],Ry[-1],'bd')\n",
      "    plt.plot(0,0,'y*')\n",
      "    plt.title(mylabel,size=15)\n",
      "    plt.ylabel(\"Y\",size=13)\n",
      "    plt.xlabel(\"X\",size=13)\n",
      "    plt.xlim(Rx[-1]-4,Rx[-1]+4)\n",
      "    plt.ylim(Ry[-1]-4,Ry[-1]+4)\n",
      "    plt.grid()\n",
      "    plt.legend(loc=\"upper right\")\n",
      "    plt.savefig(mylabel2)                             ## Saves the plot figure as an image in the folder for video.\n",
      "    plt.show()"
     ],
     "language": "python",
     "metadata": {},
     "outputs": [],
     "prompt_number": 25
    },
    {
     "cell_type": "markdown",
     "metadata": {},
     "source": [
      "Here are the functions that I used to get the images that I used in the brief movies found below. They take a long time to run so I commented them out here for ease of use."
     ]
    },
    {
     "cell_type": "code",
     "collapsed": false,
     "input": [
      "#for t_step in arange(0.,25.,0.1):\n",
      "    #plot_disruptor_img(Initial_velocity_X = 0.85,Initial_velocity_Y = 0.65,t = t_step, M=330., S=330.)"
     ],
     "language": "python",
     "metadata": {},
     "outputs": [],
     "prompt_number": 26
    },
    {
     "cell_type": "code",
     "collapsed": false,
     "input": [
      "#for t_step in arange(0.,25.,0.1):\n",
      "    #plot_galaxy_img(Initial_velocity_X = 0.85,Initial_velocity_Y = 0.65,t = t_step, M=330., S=330.)"
     ],
     "language": "python",
     "metadata": {},
     "outputs": [],
     "prompt_number": 27
    },
    {
     "cell_type": "markdown",
     "metadata": {},
     "source": [
      "Here is the close view of the galaxy merge."
     ]
    },
    {
     "cell_type": "code",
     "collapsed": false,
     "input": [
      "from IPython.display import YouTubeVideo\n",
      "YouTubeVideo('vavfpLwmT0o')"
     ],
     "language": "python",
     "metadata": {},
     "outputs": [
      {
       "html": [
        "\n",
        "        <iframe\n",
        "            width=\"400\"\n",
        "            height=300\"\n",
        "            src=\"https://www.youtube.com/embed/vavfpLwmT0o\"\n",
        "            frameborder=\"0\"\n",
        "            allowfullscreen\n",
        "        ></iframe>\n",
        "        "
       ],
       "metadata": {},
       "output_type": "pyout",
       "prompt_number": 28,
       "text": [
        "<IPython.lib.display.YouTubeVideo at 0xa575588>"
       ]
      }
     ],
     "prompt_number": 28
    },
    {
     "cell_type": "markdown",
     "metadata": {},
     "source": [
      "Here is from the point of view of the disruptor galaxy."
     ]
    },
    {
     "cell_type": "code",
     "collapsed": false,
     "input": [
      "from IPython.display import YouTubeVideo\n",
      "YouTubeVideo('iy7WvV5LUZg')"
     ],
     "language": "python",
     "metadata": {},
     "outputs": [
      {
       "html": [
        "\n",
        "        <iframe\n",
        "            width=\"400\"\n",
        "            height=300\"\n",
        "            src=\"https://www.youtube.com/embed/iy7WvV5LUZg\"\n",
        "            frameborder=\"0\"\n",
        "            allowfullscreen\n",
        "        ></iframe>\n",
        "        "
       ],
       "metadata": {},
       "output_type": "pyout",
       "prompt_number": 29,
       "text": [
        "<IPython.lib.display.YouTubeVideo at 0xa5754e0>"
       ]
      }
     ],
     "prompt_number": 29
    },
    {
     "cell_type": "markdown",
     "metadata": {},
     "source": [
      "Here is a more broad point of view of the collision to see how the wider arms of the massless particles behave."
     ]
    },
    {
     "cell_type": "code",
     "collapsed": false,
     "input": [
      "from IPython.display import YouTubeVideo\n",
      "YouTubeVideo('ZqzvEzm9k64')"
     ],
     "language": "python",
     "metadata": {},
     "outputs": [
      {
       "html": [
        "\n",
        "        <iframe\n",
        "            width=\"400\"\n",
        "            height=300\"\n",
        "            src=\"https://www.youtube.com/embed/ZqzvEzm9k64\"\n",
        "            frameborder=\"0\"\n",
        "            allowfullscreen\n",
        "        ></iframe>\n",
        "        "
       ],
       "metadata": {},
       "output_type": "pyout",
       "prompt_number": 30,
       "text": [
        "<IPython.lib.display.YouTubeVideo at 0xa575438>"
       ]
      }
     ],
     "prompt_number": 30
    }
   ],
   "metadata": {}
  }
 ]
}