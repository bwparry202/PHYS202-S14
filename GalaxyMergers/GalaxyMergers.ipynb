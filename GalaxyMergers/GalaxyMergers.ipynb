{
 "metadata": {
  "name": "",
  "signature": "sha256:f7412902c9a2dc8d05f6bddcc984889fbc72a57eef3621764e3aa81bb04a9156"
 },
 "nbformat": 3,
 "nbformat_minor": 0,
 "worksheets": [
  {
   "cells": [
    {
     "cell_type": "heading",
     "level": 1,
     "metadata": {},
     "source": [
      "Galaxy Mergers"
     ]
    },
    {
     "cell_type": "code",
     "collapsed": false,
     "input": [
      "%pylab inline\n",
      "import numpy as np"
     ],
     "language": "python",
     "metadata": {},
     "outputs": [
      {
       "output_type": "stream",
       "stream": "stdout",
       "text": [
        "Populating the interactive namespace from numpy and matplotlib\n"
       ]
      }
     ],
     "prompt_number": 2
    },
    {
     "cell_type": "markdown",
     "metadata": {},
     "source": [
      "First I will make a function that initializes galaxy M with the massless particles."
     ]
    },
    {
     "cell_type": "code",
     "collapsed": false,
     "input": [
      "pi = np.pi\n",
      "def ring(particles,radius):\n",
      "    theta = np.empty\n",
      "    position = np.empty\n",
      "    theta_n = 0\n",
      "    particle = 0\n",
      "    arclen = (2*pi)/particles\n",
      "    while len(theta) < particles:\n",
      "        angle = theta_n*arclen\n",
      "        theta_n += 1\n",
      "        theta.append(angle)  ## look up new append\n",
      "    for angle in theta:\n",
      "        x_n = np.cos(angle) * radius\n",
      "        y_n = np.sin(angle) * radius\n",
      "        position.append((x_n,y_n))\n",
      "    return position\n",
      "    \n",
      "rings = []\n",
      "def init_galaxy1():\n",
      "    ring1 = ring(12,2)  ## change these to variables and you can get them out\n",
      "    ring(18,3)\n",
      "    ring(24,4)\n",
      "    ring(30,5)\n",
      "    ring(36,6)\n",
      "    ring(1,0.0000001)\n",
      "\n",
      "def plot_galaxy1():\n",
      "    x1 = []\n",
      "    y1 = []\n",
      "    for ring in rings:\n",
      "        for point in ring:\n",
      "            x1.append(point[0])\n",
      "            y1.append(point[1])\n",
      "    plt.plot(x1,y1, 'ro')\n",
      "    plt.show()\n",
      "        \n",
      "init_galaxy1()\n",
      "plot_galaxy1()\n"
     ],
     "language": "python",
     "metadata": {},
     "outputs": [
      {
       "metadata": {},
       "output_type": "display_data",
       "png": "[encoded data removed]",
       "text": [
        "<matplotlib.figure.Figure at 0x1063389d0>"
       ]
      }
     ],
     "prompt_number": 7
    },
    {
     "cell_type": "code",
     "collapsed": false,
     "input": [],
     "language": "python",
     "metadata": {},
     "outputs": []
    }
   ],
   "metadata": {}
  }
 ]
}