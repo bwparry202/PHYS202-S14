{
 "metadata": {
  "name": "",
  "signature": "sha256:2597fe79ddcae5e6065b3d827a4b87d8399912fef24d6d004eaef15375e1ccc5"
 },
 "nbformat": 3,
 "nbformat_minor": 0,
 "worksheets": [
  {
   "cells": [
    {
     "cell_type": "heading",
     "level": 1,
     "metadata": {},
     "source": [
      "Galaxy Mergers"
     ]
    },
    {
     "cell_type": "code",
     "collapsed": false,
     "input": [
      "%pylab inline\n",
      "import numpy as np"
     ],
     "language": "python",
     "metadata": {},
     "outputs": [
      {
       "output_type": "stream",
       "stream": "stdout",
       "text": [
        "Populating the interactive namespace from numpy and matplotlib\n"
       ]
      }
     ],
     "prompt_number": 55
    },
    {
     "cell_type": "markdown",
     "metadata": {},
     "source": [
      "First I will make a function that initializes galaxy M with the massless particles."
     ]
    },
    {
     "cell_type": "code",
     "collapsed": false,
     "input": [
      "pi = np.pi\n",
      "def ring(particles,radius):\n",
      "    theta = []\n",
      "    position = []\n",
      "    theta_n = 0\n",
      "    particle = 0\n",
      "    arclen = (2*pi)/particles\n",
      "    while len(theta) < particles:\n",
      "        angle = theta_n*arclen\n",
      "        theta_n += 1\n",
      "        theta.append(angle)\n",
      "    for angle in theta:\n",
      "        x_n = np.cos(angle) * radius\n",
      "        y_n = np.sin(angle) * radius\n",
      "        position.append((x_n,y_n))\n",
      "    rings.append(position)\n",
      "    \n",
      "def init_galaxy1():\n",
      "    rings = []\n",
      "    ring(12,2)\n",
      "    ring(18,3)\n",
      "    ring(24,4)\n",
      "    ring(30,5)\n",
      "    ring(36,6)\n",
      "    ring(1,0.0000001)\n",
      "    return rings\n",
      "\n",
      "def plot_galaxy1():\n",
      "    x1 = []\n",
      "    y1 = []\n",
      "    for ring in rings:\n",
      "        for point in ring:\n",
      "            x1.append(point[0])\n",
      "            y1.append(point[1])\n",
      "    plt.plot(x1,y1, 'ro')\n",
      "    plt.show()\n",
      "        \n",
      "init_galaxy1()\n",
      "plot_galaxy1()\n"
     ],
     "language": "python",
     "metadata": {},
     "outputs": [
      {
       "metadata": {},
       "output_type": "display_data",
       "png": "[encoded data removed]",
       "text": [
        "<matplotlib.figure.Figure at 0x3ed4978>"
       ]
      }
     ],
     "prompt_number": 58
    },
    {
     "cell_type": "code",
     "collapsed": false,
     "input": [],
     "language": "python",
     "metadata": {},
     "outputs": []
    }
   ],
   "metadata": {}
  }
 ]
}