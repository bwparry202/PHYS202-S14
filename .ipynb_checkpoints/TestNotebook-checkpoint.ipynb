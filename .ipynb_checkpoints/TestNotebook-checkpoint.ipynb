{
 "metadata": {
  "name": "",
  "signature": "sha256:fae2edf290917296420b6b49617edbb7bcf7ec630ab2136f4be40ec5e683a194"
 },
 "nbformat": 3,
 "nbformat_minor": 0,
 "worksheets": [
  {
   "cells": [
    {
     "cell_type": "code",
     "collapsed": false,
     "input": [
      "%pylab inline\n",
      "import numpy as np\n",
      "import matplotlib.pyplot as plt\n",
      "from scipy.integrate import odeint\n",
      "from IPython.html.widgets import interact, interactive\n",
      "from scipy.interpolate import interp1d"
     ],
     "language": "python",
     "metadata": {},
     "outputs": [
      {
       "output_type": "stream",
       "stream": "stdout",
       "text": [
        "Populating the interactive namespace from numpy and matplotlib\n"
       ]
      }
     ],
     "prompt_number": 1
    },
    {
     "cell_type": "code",
     "collapsed": false,
     "input": [
      "pi = np.pi\n",
      "def ring(particles,radius,G,M):\n",
      "    particle = []\n",
      "    velocity = []\n",
      "    theta_n = 0\n",
      "    arclen = (2*pi)/particles\n",
      "    v = G*M/radius\n",
      "    while len(particle) < particles:\n",
      "        angle = theta_n*arclen\n",
      "        beta = angle + (pi/2.)\n",
      "        theta_n += 1\n",
      "        particle.append((radius*np.cos(angle), radius*np.sin(angle)))\n",
      "        velocity.append((v*np.cos(beta), v*np.sin(beta)))\n",
      "    return np.array(particle),np.array(velocity)\n",
      "\n",
      "def init_rings(G,M):\n",
      "    ring1,velocity1 = ring(12,.2,G,M)  ## change these to variables and you can get them out\n",
      "    ring2,velocity2 = ring(18,.3,G,M)\n",
      "    ring3,velocity3 = ring(24,.4,G,M)\n",
      "    ring4,velocity4 = ring(30,.5,G,M)\n",
      "    ring5,velocity5 = ring(36,.6,G,M)\n",
      "    rings = np.array([ring1,ring2,ring3,ring4,ring5])\n",
      "    velocity = np.array([velocity1,velocity2,velocity3,velocity4,velocity5])\n",
      "    return rings,velocity\n",
      "\n",
      "def unpack_rings_vel(rings,velocity):\n",
      "    rx_points = []\n",
      "    ry_points = []\n",
      "    vrx = []\n",
      "    vry = []\n",
      "    for ring in rings:\n",
      "        for point in ring:\n",
      "            rx_points.append(point[0])\n",
      "            ry_points.append(point[1])\n",
      "    for ring in velocity:\n",
      "        for point in ring:\n",
      "            vrx.append(point[0])\n",
      "            vry.append(point[1])\n",
      "    return np.array(rx_points), np.array(ry_points), np.array(vrx), np.array(vry)"
     ],
     "language": "python",
     "metadata": {},
     "outputs": [],
     "prompt_number": 2
    },
    {
     "cell_type": "code",
     "collapsed": false,
     "input": [
      "def derivgalaxy(y,t,M,S):\n",
      "    G = 4.302e-3 #pc(M_solar)^-1 (km/s)^2\n",
      "    vRx = y[0]\n",
      "    vRy = y[2]\n",
      "    Rx = y[1]\n",
      "    Ry = y[3]\n",
      "    vrx = y[4]\n",
      "    vry = y[6]\n",
      "    rx = y[5]\n",
      "    ry = y[7]\n",
      "    R = sqrt(Rx**2+Ry**2)\n",
      "    delta_x = abs(Rx-rx)\n",
      "    delta_y = abs(Ry-ry)\n",
      "    \n",
      "    dvrx_dt = -G * ((M/sqrt(rx**2. + ry**2.)**3.)*rx - (S/sqrt(delta_x**2.+delta_y**2.)**3)*delta_x \n",
      "                                                        + (S/sqrt(Rx**2+Ry**2)**3)*Rx)\n",
      "    dvry_dt = -G * ((M/sqrt(rx**2. + ry**2.)**3.)*ry - (S/sqrt(delta_x**2.+delta_y**2.)**3)*delta_y \n",
      "                                                        + (S/sqrt(Rx**2+Ry**2)**3)*Ry)\n",
      "    \n",
      "    dvRx_dt = -G * ((M+S)/(sqrt(Rx**2+Ry**2))**3)*Rx\n",
      "    dvRy_dt = -G * ((M+S)/(sqrt(Rx**2+Ry**2))**3)*Ry\n",
      "    \n",
      "    return np.array([dvRx_dt, vRx, dvRy_dt, vRy, dvrx_dt, vrx, dvry_dt, vry])"
     ],
     "language": "python",
     "metadata": {},
     "outputs": [],
     "prompt_number": 3
    },
    {
     "cell_type": "code",
     "collapsed": false,
     "input": [
      "def plot_galaxyX(Initial_velocity_X = 1.,Initial_velocity_Y = 0.,t = 0., M=10., S=30.):\n",
      "    G = 4.302e-3 #pc(M_solar)^-1 (km/s)^2\n",
      "    \n",
      "    rings,velocity = init_rings(G,M)\n",
      "    \n",
      "    rx0,ry0,vrx_0,vry_0 = unpack_rings_vel(rings,velocity)\n",
      "    \n",
      "    vRx_0 = Initial_velocity_X\n",
      "    vRy_0 = Initial_velocity_Y\n",
      "    Rx0 = -5\n",
      "    Ry0 = -5\n",
      "    \n",
      "    t = np.arange(0.,t+0.1,0.1)\n",
      "    \n",
      "    vRx = []\n",
      "    vRy = []\n",
      "    Rx = []\n",
      "    Ry = []\n",
      "    vrx = []\n",
      "    vry = []\n",
      "    rx = []\n",
      "    ry = []    \n",
      "    \n",
      "    #for n in range(len(rx0)):\n",
      "    n=1\n",
      "    output = odeint(derivgalaxy, np.array([vRx_0,Rx0,vRy_0,Ry0,vrx_0[n],rx0[n],vry_0[n],ry0[n]]),\n",
      "                        t, args=(M, S))\n",
      "    #vRx.append(output[:,0])\n",
      "    #vRy.append(output[:,2])\n",
      "    #Rx.append(output[:,1])\n",
      "    #Ry.append(output[:,3])\n",
      "    #vrx.append(output[:,4])\n",
      "    #vry.append(output[:,6])\n",
      "    \n",
      "    Rx = output[:,1]\n",
      "    Ry = output[:,3]\n",
      "    rx = output[:,5]\n",
      "    ry = output[:,7]\n",
      "       \n",
      "    ##### Eccentricity\n",
      "    \n",
      "    x_n = []\n",
      "    for n in range(len(Rx)):\n",
      "        if Rx[n] > -.01 and Rx[n] < 0.01:\n",
      "            x_n.append(n)\n",
      "    xn = abs(np.array(x_n))\n",
      "    try:\n",
      "        x0 = xn.min()\n",
      "        y0 = abs(Ry[x0])\n",
      "        if y0 > 1 and y0 < 2:\n",
      "            eccen = sqrt(1-y0)\n",
      "        elif y0 == 1:\n",
      "            eccen = 0\n",
      "        elif y0 < 1:\n",
      "            a = (Rx.max()-Rx.min())/2.\n",
      "            b = (Ry.max())/2.            \n",
      "            eccen = sqrt(a**2 - b**2)/a\n",
      "        elif y0 > 2:\n",
      "            eccen = sqrt(1+y0)\n",
      "        print y0\n",
      "        print \"Eccentricity of orbit =\",eccen\n",
      "        \n",
      "    except ValueError as err:\n",
      "        print \"No value.\"\n",
      "        \n",
      "    plt.plot(Rx,Ry,'b--')\n",
      "    plt.plot(Rx[-1],Ry[-1],'bd')\n",
      "    plt.plot(rx[-1],ry[-1],'r.')\n",
      "    plt.plot(0,0,'y*')\n",
      "    plt.title(\"Two body central force problem\")\n",
      "    plt.ylabel(\"Y\")\n",
      "    plt.xlabel(\"X\")\n",
      "    plt.xlim(-12,12)\n",
      "    plt.ylim(-8,8)\n",
      "    plt.grid()\n",
      "    plt.legend()\n",
      "    plt.show()\n",
      "    \n",
      "p = interact(plot_galaxyX,Initial_velocity_X= (0.,3.,0.1), Initial_velocity_Y = (0.,3.,0.1),\n",
      "                     t = (0.,100.,0.1), M=(10.,50.,5.), S=(10.,50.,5.))"
     ],
     "language": "python",
     "metadata": {},
     "outputs": [
      {
       "output_type": "stream",
       "stream": "stdout",
       "text": [
        "No value.\n"
       ]
      },
      {
       "metadata": {},
       "output_type": "display_data",
       "png": "[encoded data removed]",
       "text": [
        "<matplotlib.figure.Figure at 0x107275c90>"
       ]
      }
     ],
     "prompt_number": 4
    },
    {
     "cell_type": "code",
     "collapsed": false,
     "input": [
      "def plot_galaxyY(Initial_velocity_X = 0.1,Initial_velocity_Y = 0.1,t = 50., M=10., S=30.):\n",
      "    G = 4.302e-3 #pc(M_solar)^-1 (km/s)^2\n",
      "    \n",
      "    vRx_0 = Initial_velocity_X\n",
      "    vRy_0 = Initial_velocity_Y\n",
      "    Rx0 = 0\n",
      "    Ry0 = 1\n",
      "    t = np.arange(0.,t+0.1,0.1)\n",
      "    \n",
      "    output = odeint(derivgalaxy, np.array([vRx_0,Rx0,vRy_0,Ry0]), t, args=(M, S))\n",
      "    vRx = output[:,0]\n",
      "    vRy = output[:,2]\n",
      "    Rx = output[:,1]\n",
      "    Ry = output[:,3]\n",
      "    \n",
      "    ##### Eccentricity\n",
      "        \n",
      "    \n",
      "       \n",
      "    print \"Eccentricity of orbit =\"\n",
      "    plt.plot(Rx,Ry)\n",
      "    plt.plot(Rx[-1],Ry[-1],'bd')\n",
      "    plt.plot(0,0,'y*')\n",
      "    plt.title(\"Two body central force problem\")\n",
      "    plt.ylabel(\"Y\")\n",
      "    plt.xlabel(\"X\")\n",
      "    plt.xlim(-8,8)\n",
      "    plt.ylim(-5,5)\n",
      "    plt.grid()\n",
      "    plt.legend()\n",
      "    plt.show()\n",
      "    \n"
     ],
     "language": "python",
     "metadata": {},
     "outputs": [],
     "prompt_number": 36
    },
    {
     "cell_type": "code",
     "collapsed": false,
     "input": [
      "def setup():\n",
      "    q = input(\"Would you like to start on X(0) or Y(1) axis:\")\n",
      "    if q == 0: \n",
      "        p = interact(plot_galaxyX,Initial_velocity_X= (-0.000000000001,0.00000000000001), Initial_velocity_Y = (-1.,1.,.01),\n",
      "                     t = (0.,100.,0.1), M=(10.,50.,5.), S=(10.,50.,5.))\n",
      "    elif q == 1:\n",
      "        g = interact(plot_galaxyY,Initial_velocity_X = (-1.,1.,.01), Initial_velocity_Y = (-0.000000000001,0.00000000000001),\n",
      "                 t = (0.,100.,0.1), M=(10.,50.,5.), S=(10.,50.,5.))\n",
      "    else:\n",
      "        print \"Sorry, you must enter, a 0 for X or a 1 for Y.\"\n",
      "        setup()"
     ],
     "language": "python",
     "metadata": {},
     "outputs": [],
     "prompt_number": 9
    },
    {
     "cell_type": "code",
     "collapsed": false,
     "input": [
      "setup()"
     ],
     "language": "python",
     "metadata": {},
     "outputs": [
      {
       "output_type": "stream",
       "stream": "stdout",
       "text": [
        "Eccentricity of orbit = 0.799051516147\n"
       ]
      },
      {
       "metadata": {},
       "output_type": "display_data",
       "png": "[encoded data removed]",
       "text": [
        "<matplotlib.figure.Figure at 0xa4fe8d0>"
       ]
      }
     ],
     "prompt_number": 10
    },
    {
     "cell_type": "code",
     "collapsed": false,
     "input": [],
     "language": "python",
     "metadata": {},
     "outputs": []
    }
   ],
   "metadata": {}
  }
 ]
}