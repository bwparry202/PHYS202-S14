{
 "metadata": {
  "name": "",
  "signature": "sha256:540e9aa3eaf7356127ba3c846e767b63abdc0ffd006fed8018edd53bb95cd913"
 },
 "nbformat": 3,
 "nbformat_minor": 0,
 "worksheets": [
  {
   "cells": [
    {
     "cell_type": "code",
     "collapsed": false,
     "input": [
      "def derivgalaxy(y,t,M,S):\n",
      "    g = 6.67384e-11 #m^3kg^-1s^-1\n",
      "    vR = y[2]\n",
      "    R1 = y[3]\n",
      "    vTHETA = y[6]\n",
      "    THETA = y[7]\n",
      "        \n",
      "    dvR_dt = -g * ( (M+S)/R1**3 )*R1\n",
      "    dvTHETA_dt = 0\n",
      "    \n",
      "    return np.array([dvR_dt, vR, dvTHETA_dt, vTHETA])"
     ],
     "language": "python",
     "metadata": {},
     "outputs": [],
     "prompt_number": 4
    },
    {
     "cell_type": "code",
     "collapsed": false,
     "input": [
      "def plot_galaxy(,t = 200.,M):\n",
      "    vx_0 = init_v*np.cos(init_angle/180. * np.pi)\n",
      "    vy_0 = init_v*np.sin(init_angle/180. * np.pi)\n",
      "    x0 = init_x\n",
      "    y0 = init_y\n",
      "    t = np.arange(0.,t+0.1,0.1)\n",
      "    \n",
      "    output = odeint(derivQuadD, np.array([vx_0,x0,vy_0,y0]), t, args=(g, vter))\n",
      "    vx = output[:,0]\n",
      "    vy = output[:,2]\n",
      "    x = output[:,1]\n",
      "    y = output[:,3]\n",
      "        \n",
      "    plt.plot(x,y)\n",
      "    plt.title(\"Two body central force problem\")\n",
      "    plt.ylabel(\"Y\")\n",
      "    plt.xlabel(\"X\")\n",
      "    plt.xlim(0,100)\n",
      "    plt.ylim(0,40)\n",
      "    plt.grid()\n",
      "    plt.legend()\n",
      "    plt.show()"
     ],
     "language": "python",
     "metadata": {},
     "outputs": []
    }
   ],
   "metadata": {}
  }
 ]
}