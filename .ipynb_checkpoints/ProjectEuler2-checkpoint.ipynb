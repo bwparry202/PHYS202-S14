{
 "metadata": {
  "name": "",
  "signature": "sha256:025a7befbad6637f43e2f853e5024598ecf78b2d7f560486f7de89df0bb7f3f4"
 },
 "nbformat": 3,
 "nbformat_minor": 0,
 "worksheets": [
  {
   "cells": [
    {
     "cell_type": "code",
     "collapsed": false,
     "input": [
      "def sum_even_fibonacci(maximum):\n",
      "    n = 1\n",
      "    o = 2\n",
      "    p = 0\n",
      "    sum = o\n",
      "    while p < maximum:\n",
      "        p = n+o\n",
      "        if p % 2 == 0:\n",
      "            sum += p\n",
      "        n = o\n",
      "        o = p\n",
      "    print sum\n",
      "\n",
      "#Here I used a test to see if my code works.    \n",
      "    \n",
      "sum_even_fibonacci(35)       "
     ],
     "language": "python",
     "metadata": {},
     "outputs": [
      {
       "output_type": "stream",
       "stream": "stdout",
       "text": [
        "44\n"
       ]
      }
     ],
     "prompt_number": 6
    },
    {
     "cell_type": "code",
     "collapsed": false,
     "input": [
      "sum_even_fibonacci(4000000)"
     ],
     "language": "python",
     "metadata": {},
     "outputs": [
      {
       "output_type": "stream",
       "stream": "stdout",
       "text": [
        "4613732\n"
       ]
      }
     ],
     "prompt_number": 7
    },
    {
     "cell_type": "code",
     "collapsed": false,
     "input": [],
     "language": "python",
     "metadata": {},
     "outputs": []
    }
   ],
   "metadata": {}
  }
 ]
}