{
 "metadata": {
  "name": "",
  "signature": "sha256:f6926d1c9b0659c6028f24acd99a4c946cef36402cef400802de2715b047ba14"
 },
 "nbformat": 3,
 "nbformat_minor": 0,
 "worksheets": [
  {
   "cells": [
    {
     "cell_type": "heading",
     "level": 1,
     "metadata": {},
     "source": [
      "Project Euler 4"
     ]
    },
    {
     "cell_type": "markdown",
     "metadata": {},
     "source": [
      "A palindromic number reads the same both ways. The largest palindrome made from the product of two 2-digit numbers is 9009 = 91 \u00d7 99.\n",
      "\n",
      "Find the largest palindrome made from the product of two 3-digit numbers."
     ]
    },
    {
     "cell_type": "code",
     "collapsed": false,
     "input": [
      "s = \"abcde\"\n",
      "d = s[::-1]\n",
      "print s\n",
      "print d"
     ],
     "language": "python",
     "metadata": {},
     "outputs": [
      {
       "output_type": "stream",
       "stream": "stdout",
       "text": [
        "abcde\n",
        "edcba\n"
       ]
      }
     ],
     "prompt_number": 1
    },
    {
     "cell_type": "code",
     "collapsed": false,
     "input": [
      "def palindrome_check(s):\n",
      "    if s == s[::-1]:\n",
      "        return True\n",
      "    else:\n",
      "        return False"
     ],
     "language": "python",
     "metadata": {},
     "outputs": [],
     "prompt_number": 2
    },
    {
     "cell_type": "code",
     "collapsed": false,
     "input": [
      "largest = 0\n",
      "a = 0\n",
      "b = 0\n",
      "\n",
      "for n in range(100):\n",
      "    for p in range(100):\n",
      "        num = n*p\n",
      "        if num > largest and str(num) == str(num)[::-1]:\n",
      "            largest = num\n",
      "            a = n\n",
      "            b = p\n",
      "            \n",
      "print \"The largest palindrome product of 2 digit numbers: %s * %s = %s\" % (a,b,largest)"
     ],
     "language": "python",
     "metadata": {},
     "outputs": [
      {
       "output_type": "stream",
       "stream": "stdout",
       "text": [
        "The largest palindrome product of 2 digit numbers: 91 * 99 = 9009\n"
       ]
      }
     ],
     "prompt_number": 3
    },
    {
     "cell_type": "code",
     "collapsed": false,
     "input": [
      "# Using strings I will check all numbers and see if what I have as s, will equal\n",
      "# what I have as d above. \n",
      "\n",
      "largest = 0\n",
      "a = 0\n",
      "b = 0\n",
      "\n",
      "for n in range(100,1000):\n",
      "    for p in range(100,1000):\n",
      "        num = n*p\n",
      "        if num > largest and palindrome_check(str(num)):\n",
      "            largest = num\n",
      "            a = n\n",
      "            b = p\n",
      "\n",
      "print \"The largest palindrome product of 3 digit numbers: %s * %s = %s\" % (a,b,largest)"
     ],
     "language": "python",
     "metadata": {},
     "outputs": [
      {
       "output_type": "stream",
       "stream": "stdout",
       "text": [
        "The largest palindrome product of 3 digit numbers: 913 * 993 = 906609\n"
       ]
      }
     ],
     "prompt_number": 4
    },
    {
     "cell_type": "markdown",
     "metadata": {},
     "source": [
      "906609 is the largest palindrome product of two 3-digit numbers."
     ]
    }
   ],
   "metadata": {}
  }
 ]
}