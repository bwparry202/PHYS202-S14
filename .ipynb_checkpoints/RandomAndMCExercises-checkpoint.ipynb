{
 "metadata": {
  "name": "",
  "signature": "sha256:b741aea9902655f8b1d67c941bf56e8cb09ca1cecb3d16866de45145c806631c"
 },
 "nbformat": 3,
 "nbformat_minor": 0,
 "worksheets": [
  {
   "cells": [
    {
     "cell_type": "heading",
     "level": 1,
     "metadata": {},
     "source": [
      "Random Numbers, Monte Carlo Sampling and Simulation Exercises "
     ]
    },
    {
     "cell_type": "code",
     "collapsed": false,
     "input": [
      "%pylab inline\n",
      "import numpy as np\n",
      "import "
     ],
     "language": "python",
     "metadata": {},
     "outputs": [
      {
       "output_type": "stream",
       "stream": "stdout",
       "text": [
        "Populating the interactive namespace from numpy and matplotlib\n"
       ]
      }
     ],
     "prompt_number": 5
    },
    {
     "cell_type": "heading",
     "level": 2,
     "metadata": {},
     "source": [
      "Question 1"
     ]
    },
    {
     "cell_type": "markdown",
     "metadata": {},
     "source": [
      "The Weibull distribution, with parameters \u03b1>0 and \u03b2>0 is described by the density function\n",
      "\\begin{equation}\n",
      "f(x) = \\begin{cases} \\alpha\\beta^{-\\alpha}x^{\\alpha -1}e^{-(x/\\beta)^{\\alpha}} & x > 0 \\\\ 0 & \\text{otherwise} \\end{cases}\n",
      "\\end{equation}\n",
      "(a) Solve for the CDF of the Weibull distribution analytically, using\n",
      "\\begin{equation}\n",
      "F(x) = \\int_{-\\infty}^x f(t)dt\n",
      "\\end{equation}"
     ]
    },
    {
     "cell_type": "markdown",
     "metadata": {},
     "source": [
      "CDF of the Weibull distribution:\n",
      "\\begin{equation}\n",
      "F(x) = -e^{-(x/\\beta)^{\\alpha}}+1\n",
      "\\end{equation}"
     ]
    },
    {
     "cell_type": "markdown",
     "metadata": {},
     "source": [
      "(b) Find the inverse of the CDF F\u22121(x) analytically."
     ]
    },
    {
     "cell_type": "markdown",
     "metadata": {},
     "source": [
      "Inverse of the CDF:\n",
      "\\begin{equation}\n",
      "F^{-1}(x)=\\beta\\ ln(x-1)^{1/\\alpha}\n",
      "\\end{equation}"
     ]
    },
    {
     "cell_type": "code",
     "collapsed": false,
     "input": [
      "alpha = 1.5\n",
      "beta = 6.\n",
      "\n",
      "f = lambda x: alpha*beta**(-alpha) * x**(alpha-1) * exp(-(x/beta)**alpha)\n",
      "F = lambda x: -exp(-(x/beta)**alpha) + 1\n",
      "Finv = lambda x: beta*(-np.log(1-x))**(1/alpha)\n",
      "\n",
      "N = 10000\n",
      "\n",
      "#N random numbers between 0 and 1\n",
      "x = np.random.random_sample(N);\n",
      "\n",
      "#sampled x values    \n",
      "xsamples = Finv(x);\n",
      "x1 = np.arange(0.,15.,0.01)\n",
      "\n",
      "#how do they compare to the original?\n",
      "plt.hist(xsamples,100,normed=True,label=\"Sampled distribution\")\n",
      "plt.plot(x1,F(x1),label='Cumulative Function',lw=3,color='red')\n",
      "plt.plot(x1,f(x1),label='Weibull distribution',lw=3,color='green')\n",
      "\n",
      "plt.xlim(0.,15.)\n",
      "plt.ylim(0)\n",
      "\n",
      "plt.legend(loc=0)\n",
      "plt.show()"
     ],
     "language": "python",
     "metadata": {},
     "outputs": [
      {
       "metadata": {},
       "output_type": "display_data",
       "png": "[encoded data removed]",
       "text": [
        "<matplotlib.figure.Figure at 0x1064224d0>"
       ]
      }
     ],
     "prompt_number": 24
    },
    {
     "cell_type": "code",
     "collapsed": false,
     "input": [
      "## Mean\n",
      "def mean_samples(values,sample):\n",
      "    sumn"
     ],
     "language": "python",
     "metadata": {},
     "outputs": []
    }
   ],
   "metadata": {}
  }
 ]
}