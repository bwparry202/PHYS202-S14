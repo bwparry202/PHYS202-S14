{
 "metadata": {
  "name": "",
  "signature": "sha256:fbebee796c5ede0b1d7c111152d97a9c276f9a20da42ed6bc07793539f4e500b"
 },
 "nbformat": 3,
 "nbformat_minor": 0,
 "worksheets": [
  {
   "cells": [
    {
     "cell_type": "heading",
     "level": 1,
     "metadata": {},
     "source": [
      "Galaxy Mergers"
     ]
    },
    {
     "cell_type": "markdown",
     "metadata": {},
     "source": [
      "First I will make a function that initializes galaxy M with the massless particles."
     ]
    },
    {
     "cell_type": "code",
     "collapsed": false,
     "input": [
      "rings=[]\n",
      "def ring(particles,radius):      \n",
      "\n",
      "def init_galaxy1():\n",
      "    ri\n",
      "    "
     ],
     "language": "python",
     "metadata": {},
     "outputs": []
    }
   ],
   "metadata": {}
  }
 ]
}