{
 "metadata": {
  "name": "",
  "signature": "sha256:52dd841a5446b419e124a96bad042909ab7c6db0e311231241b68cca93ee4f40"
 },
 "nbformat": 3,
 "nbformat_minor": 0,
 "worksheets": [
  {
   "cells": [
    {
     "cell_type": "heading",
     "level": 1,
     "metadata": {},
     "source": [
      "Galaxy Mergers"
     ]
    },
    {
     "cell_type": "code",
     "collapsed": false,
     "input": [
      "%pylab inline\n",
      "import numpy as np\n",
      "import matplotlib.pyplot as plt"
     ],
     "language": "python",
     "metadata": {},
     "outputs": [
      {
       "output_type": "stream",
       "stream": "stdout",
       "text": [
        "Populating the interactive namespace from numpy and matplotlib\n"
       ]
      }
     ],
     "prompt_number": 1
    },
    {
     "cell_type": "markdown",
     "metadata": {},
     "source": [
      "First I will make a function that initializes galaxy M with the massless particles."
     ]
    },
    {
     "cell_type": "code",
     "collapsed": false,
     "input": [
      "pi = np.pi\n",
      "def ring(particles,radius):\n",
      "    theta = []\n",
      "    position = []\n",
      "    theta_n = 0\n",
      "    particle = 0\n",
      "    arclen = (2*pi)/particles\n",
      "    while len(theta) < particles:\n",
      "        angle = theta_n*arclen\n",
      "        theta_n += 1\n",
      "        theta.append(angle)\n",
      "    for angle in theta:\n",
      "        x_n = np.cos(angle) * radius\n",
      "        y_n = np.sin(angle) * radius\n",
      "        position.append((x_n,y_n))\n",
      "    return np.array(position)\n",
      "\n",
      "def init_galaxy1():\n",
      "    ring1 = ring(12,2)  ## change these to variables and you can get them out\n",
      "    ring2 = ring(18,3)\n",
      "    ring3 = ring(24,4)\n",
      "    ring4 = ring(30,5)\n",
      "    ring5 = ring(36,6)\n",
      "    ring6 = ring(1,0.0000001)\n",
      "    rings = np.array([ring1,ring2,ring3,ring4,ring5,ring6])\n",
      "    return rings\n",
      "\n",
      "def init_disruptor(pos_x,pos_y,vel_x,vel_y):\n",
      "    position = np.array([pos_x,pos_y])\n",
      "    velocity = np.array([vel_x,vel_y])\n",
      "    return position,velocity\n",
      "\n",
      "def plot_galaxy1(rings,disruptor):\n",
      "    x1 = []\n",
      "    y1 = []\n",
      "    for ring in rings:\n",
      "        for point in ring:\n",
      "            x1.append(point[0])\n",
      "            y1.append(point[1])\n",
      "    plt.plot(x1,y1,'ro')\n",
      "    plt.plot(disruptor[0],disruptor[1],'bo')\n",
      "    plt.xlim(-12,12)\n",
      "    plt.ylim(-8,8)\n",
      "    plt.show()    \n",
      "\n",
      "pos_d,vel_d = init_disruptor(10,6,-1,0)\n",
      "rings = init_galaxy1()\n",
      "plot_galaxy1(rings,pos_d)"
     ],
     "language": "python",
     "metadata": {},
     "outputs": [
      {
       "metadata": {},
       "output_type": "display_data",
       "png": "[encoded data removed]",
       "text": [
        "<matplotlib.figure.Figure at 0xaa37ba8>"
       ]
      }
     ],
     "prompt_number": 54
    },
    {
     "cell_type": "code",
     "collapsed": false,
     "input": [],
     "language": "python",
     "metadata": {},
     "outputs": []
    }
   ],
   "metadata": {}
  }
 ]
}