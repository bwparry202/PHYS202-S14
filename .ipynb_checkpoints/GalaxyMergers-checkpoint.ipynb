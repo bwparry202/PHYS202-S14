{
 "metadata": {
  "name": "",
  "signature": "sha256:c8be5885c96dc20fb43762b294328c8da5c95287166771c45712ad3b8049eb6b"
 },
 "nbformat": 3,
 "nbformat_minor": 0,
 "worksheets": [
  {
   "cells": [
    {
     "cell_type": "heading",
     "level": 1,
     "metadata": {},
     "source": [
      "Galaxy Mergers"
     ]
    },
    {
     "cell_type": "code",
     "collapsed": false,
     "input": [
      "%pylab inline\n",
      "import numpy as np\n",
      "import matplotlib.pyplot as plt\n",
      "from scipy.integrate import odeint"
     ],
     "language": "python",
     "metadata": {},
     "outputs": [
      {
       "output_type": "stream",
       "stream": "stdout",
       "text": [
        "Populating the interactive namespace from numpy and matplotlib\n"
       ]
      }
     ],
     "prompt_number": 50
    },
    {
     "cell_type": "markdown",
     "metadata": {},
     "source": [
      "First I will make a function that initializes galaxy M with the massless particles."
     ]
    },
    {
     "cell_type": "code",
     "collapsed": false,
     "input": [
      "pi = np.pi\n",
      "def ring(particles,radius):\n",
      "    particle = []\n",
      "    theta_n = 0\n",
      "    arclen = (2*pi)/particles\n",
      "    while len(particle) < particles:\n",
      "        angle = theta_n*arclen\n",
      "        theta_n += 1\n",
      "        particle.append((radius,angle))\n",
      "    return np.array(particle)\n",
      "\n",
      "def init_rings():\n",
      "    ring1 = ring(12,2)  ## change these to variables and you can get them out\n",
      "    ring2 = ring(18,3)\n",
      "    ring3 = ring(24,4)\n",
      "    ring4 = ring(30,5)\n",
      "    ring5 = ring(36,6)\n",
      "    rings = np.array([ring1,ring2,ring3,ring4,ring5])\n",
      "    return rings\n",
      "\n",
      "def init_disruptor(R,theta,dxdt,dydt):\n",
      "    position = np.array([R,theta])\n",
      "    velocity = np.array([dxdt,dydt])\n",
      "    return position,velocity\n",
      "\n",
      "def plot_galaxy(rings,disruptor):\n",
      "    x1 = []\n",
      "    y1 = []\n",
      "    X = 0\n",
      "    Y = 0\n",
      "    for ring in rings:\n",
      "        for point in ring:\n",
      "            x1.append(point[0]*np.cos(point[1]))\n",
      "            y1.append(point[0]*np.sin(point[1]))\n",
      "    plt.plot(x1,y1,'ro')\n",
      "    plt.plot(X,Y,'gd')\n",
      "    plt.plot(disruptor[0]*np.cos(disruptor[1]),disruptor[0]*np.sin(disruptor[1]),'bd')\n",
      "    plt.xlim(-20,20)\n",
      "    plt.ylim(-15,15)\n",
      "    plt.show()    \n",
      "\n",
      "pos_d,vel_d = init_disruptor(10,0.5,-1,0)\n",
      "rings = init_rings()\n",
      "plot_galaxy(rings,pos_d)"
     ],
     "language": "python",
     "metadata": {},
     "outputs": [
      {
       "metadata": {},
       "output_type": "display_data",
       "png": "[encoded data removed]",
       "text": [
        "<matplotlib.figure.Figure at 0x3f99a58>"
       ]
      }
     ],
     "prompt_number": 2
    },
    {
     "cell_type": "code",
     "collapsed": false,
     "input": [
      "def derivgalaxy(y,t,M,S):\n",
      "    g = 6.67384e-11 #m^3kg^-1s^-1\n",
      "    vr = y[0]\n",
      "    vR = y[2]\n",
      "    r1 = y[1]\n",
      "    R1 = y[3]\n",
      "    vtheta = y[4]\n",
      "    vTHETA = y[6]\n",
      "    theta = y[5]\n",
      "    THETA = y[7]\n",
      "    rho = R1 - r1\n",
      "    \n",
      "    dvr_dt = -g * ( (M / r1**3)*r1 - (S / rho**3)*rho + (S / R1**3)*R1 )\n",
      "    dvR_dt = -g * ( (M+S)/R1**3 )*R1\n",
      "    dvtheta_dt = 0\n",
      "    dvTHETA_dt = 0\n",
      "    \n",
      "    return np.array([dvr_dt, vr, dvR_dt, vR,dvtheta_dt,vtheta,dvTHETA_dt,vTHETA])\n",
      "\n",
      "\n",
      "def plot_galaxymerg(init_vtheta = 30.,init_disruptorX = 0.,init_disruptorY = 10.,\n",
      "                    init_disruptor_vX = 0.1,init_disruptor_vY = 0.1,t = 200.,M=1.,S=3.):\n",
      "    rings = init_rings()\n",
      "    particle_r = []\n",
      "    particle_t = []\n",
      "    ones = []\n",
      "    zeros = []\n",
      "    for n in range(len(rings)):\n",
      "        for p in rings[n]:\n",
      "            particle_r.append(p[0])\n",
      "            particle_t.append(p[1])\n",
      "            ones.append(1)\n",
      "            zeros.append(0)\n",
      "            \n",
      "    vr_0 = 0#np.array(zeros)\n",
      "    vR_0 = 0\n",
      "    r1_0 = 0#np.array(particle_r)\n",
      "    R1_0 = sqrt(init_disruptorX**2 + init_disruptorY**2)\n",
      "    vtheta_0 = 0#init_vtheta*np.array(ones)\n",
      "    vTHETA_0 = 0#np.arctan(init_disruptor_vY / init_disruptor_vX)\n",
      "    theta_0 = 0#np.array(particle_t)\n",
      "    THETA_0 = 0#np.arctan(init_disruptorY / init_disruptorX)\n",
      "    \n",
      "    t = np.arange(0.,t+0.1,0.1)\n",
      "    output = odeint(derivgalaxy, np.array([vr_0,r1_0,vR_0,R1_0,vtheta_0,theta_0,vTHETA_0,THETA_0]), t, args=(M, S))\n",
      "    vr = output[:,0]\n",
      "    vR = output[:,2]\n",
      "    r1 = output[:,1]\n",
      "    R1 = output[:,3]\n",
      "    vtheta = output[:,4]\n",
      "    vTHETA = output[:,6]\n",
      "    theta = output[:,5]\n",
      "    THETA = output[:,7]\n",
      "    \n",
      "    x_R = R1*np.cos(THETA)\n",
      "    y_R = R1*np.sin(THETA)\n",
      "    plt.plot(x_R,y_R)\n",
      "    plt.grid()\n",
      "    plt.show()\n",
      "    \n",
      "plot_galaxymerg(init_vtheta = 30.,init_disruptorX = 0.,init_disruptorY = 1.,\n",
      "                    init_disruptor_vX = 0.,init_disruptor_vY = 0.,t = 200.,M=1.,S=3.)\n",
      "    "
     ],
     "language": "python",
     "metadata": {},
     "outputs": [
      {
       "metadata": {},
       "output_type": "display_data",
       "png": "[encoded data removed]",
       "text": [
        "<matplotlib.figure.Figure at 0xaaa7cc0>"
       ]
      }
     ],
     "prompt_number": 62
    },
    {
     "cell_type": "code",
     "collapsed": false,
     "input": [
      "rings = init_rings()\n",
      "particle_r = []\n",
      "particle_t = []\n",
      "ones = []\n",
      "zeros = []\n",
      "for n in range(len(rings)):\n",
      "    for p in rings[n]:\n",
      "        particle_r.append(p[0])\n",
      "        particle_t.append(p[1])\n",
      "        ones.append(1)\n",
      "        zeros.append(0)\n"
     ],
     "language": "python",
     "metadata": {},
     "outputs": [
      {
       "output_type": "stream",
       "stream": "stdout",
       "text": [
        "[2.0, 2.0, 2.0, 2.0, 2.0, 2.0, 2.0, 2.0, 2.0, 2.0, 2.0, 2.0, 3.0, 3.0, 3.0, 3.0, 3.0, 3.0, 3.0, 3.0, 3.0, 3.0, 3.0, 3.0, 3.0, 3.0, 3.0, 3.0, 3.0, 3.0, 4.0, 4.0, 4.0, 4.0, 4.0, 4.0, 4.0, 4.0, 4.0, 4.0, 4.0, 4.0, 4.0, 4.0, 4.0, 4.0, 4.0, 4.0, 4.0, 4.0, 4.0, 4.0, 4.0, 4.0, 5.0, 5.0, 5.0, 5.0, 5.0, 5.0, 5.0, 5.0, 5.0, 5.0, 5.0, 5.0, 5.0, 5.0, 5.0, 5.0, 5.0, 5.0, 5.0, 5.0, 5.0, 5.0, 5.0, 5.0, 5.0, 5.0, 5.0, 5.0, 5.0, 5.0, 6.0, 6.0, 6.0, 6.0, 6.0, 6.0, 6.0, 6.0, 6.0, 6.0, 6.0, 6.0, 6.0, 6.0, 6.0, 6.0, 6.0, 6.0, 6.0, 6.0, 6.0, 6.0, 6.0, 6.0, 6.0, 6.0, 6.0, 6.0, 6.0, 6.0, 6.0, 6.0, 6.0, 6.0, 6.0, 6.0]\n"
       ]
      }
     ],
     "prompt_number": 43
    },
    {
     "cell_type": "code",
     "collapsed": false,
     "input": [],
     "language": "python",
     "metadata": {},
     "outputs": []
    }
   ],
   "metadata": {}
  }
 ]
}