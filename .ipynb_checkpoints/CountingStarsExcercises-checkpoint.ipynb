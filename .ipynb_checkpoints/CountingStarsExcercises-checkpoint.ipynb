{
 "metadata": {
  "name": "",
  "signature": "sha256:dc17167a3db3187db75f910567b3b7cb5a2498094995063f5188c98f3c91d9f5"
 },
 "nbformat": 3,
 "nbformat_minor": 0,
 "worksheets": [
  {
   "cells": [
    {
     "cell_type": "heading",
     "level": 1,
     "metadata": {},
     "source": [
      "Counting Stars Excercises"
     ]
    },
    {
     "cell_type": "code",
     "collapsed": false,
     "input": [
      "%pylab inline\n",
      "import numpy as np\n",
      "import matplotlib.pyplot as plt\n",
      "from PIL import Image\n",
      "import requests\n",
      "from StringIO import StringIO"
     ],
     "language": "python",
     "metadata": {},
     "outputs": [
      {
       "output_type": "stream",
       "stream": "stdout",
       "text": [
        "Populating the interactive namespace from numpy and matplotlib\n"
       ]
      }
     ],
     "prompt_number": 73
    },
    {
     "cell_type": "code",
     "collapsed": false,
     "input": [
      "##The monochrome function that while output the image we will analyze. As\n",
      "##well as the picture we will be working with, image_p.\n",
      "\n",
      "def monochrome(picture, threshold):\n",
      "    black = (0, 0, 0)\n",
      "    white = (255, 255, 255)\n",
      "    xsize, ysize = picture.size\n",
      "    temp = picture.load()\n",
      "    for x in range(xsize):\n",
      "        for y in range(ysize):\n",
      "            r,g,b = temp[x,y]\n",
      "            if r+g+b >= threshold: \n",
      "                temp[x,y] = black\n",
      "            else:\n",
      "                temp[x,y] = white\n",
      "                \n",
      "response = requests.get(\"http://imgsrc.hubblesite.org/hu/db/images/hs-2004-20-a-large_web.jpg\")\n",
      "pic = Image.open(StringIO(response.content))\n",
      "                \n",
      "bwpic = Image.open(StringIO(response.content))\n",
      "\n",
      "monochrome(bwpic,200+200+200)\n",
      "plt.imshow(bwpic);"
     ],
     "language": "python",
     "metadata": {},
     "outputs": [
      {
       "metadata": {},
       "output_type": "display_data",
       "png": "[encoded data removed]",
       "text": [
        "<matplotlib.figure.Figure at 0xa893828>"
       ]
      }
     ],
     "prompt_number": 74
    },
    {
     "cell_type": "markdown",
     "metadata": {},
     "source": [
      "1. Modify the fill function so that it never looks at the same pixel twice. There are at least two ways to do this. Name your new function fastfill. The function prototype might look something like this:\n",
      "def fastfill(picture, xsize, ysize, xstart, ystart):\n",
      "    \"\"\"Faster fill algorithm that doesn't look at any pixel more than once.\"\"\"\n",
      "Be sure to include comments and add detail to the docstring to describe what it is doing."
     ]
    },
    {
     "cell_type": "code",
     "collapsed": false,
     "input": [
      "##The set function deletes duplicates in the queue. This will delete \n",
      "##the duplicates in the queue as they are added and only check it once.\n",
      "\n",
      "def fastfill(picture, xsize, ysize, xstart, ystart):\n",
      "    queue = [(xstart,ystart)]\n",
      "    queue2 = set(queue)\n",
      "    while queue2:\n",
      "        x,y,queue = queue[0][0], queue[0][1], queue[1:]\n",
      "        if picture[x,y] == BLACK:\n",
      "            picture[x,y] = RED\n",
      "            if x > 0:\n",
      "                queue.append((x-1,y))\n",
      "            if x < (xsize-1):\n",
      "                queue.append((x+1,y))\n",
      "            if y > 0:\n",
      "                queue.append((x, y-1))\n",
      "            if y < (ysize-1):\n",
      "                queue.append((x, y+1))\n",
      "                \n",
      "#decided to write the other fill functions here just so my count function\n",
      "#in the next cell will work.\n",
      "                \n",
      "def fill(picture, xsize, ysize, xstart, ystart):\n",
      "    queue = [(xstart,ystart)]\n",
      "    while queue:\n",
      "        x,y,queue = queue[0][0], queue[0][1], queue[1:]\n",
      "        if picture[x,y] == BLACK:\n",
      "            picture[x,y] = RED\n",
      "            if x > 0:\n",
      "                queue.append((x-1,y))\n",
      "            if x < (xsize-1):\n",
      "                queue.append((x+1,y))\n",
      "            if y > 0:\n",
      "                queue.append((x, y-1))\n",
      "            if y < (ysize-1):\n",
      "                queue.append((x, y+1))\n",
      "                \n",
      "#Here's the fillrec function.\n",
      "                \n",
      "def fillrec(picture, xsize, ysize, x, y):\n",
      "    if picture[x,y] != BLACK:\n",
      "        return\n",
      "        picture[x,y] = RED\n",
      "    if x > 0:\n",
      "        fillrec(picture, xsize, ysize, x-1, y)\n",
      "    if x < (xsize-1):\n",
      "        fillrec(picture, xsize, ysize, x+1, y)\n",
      "    if y > 0:\n",
      "        fillrec(picture, xsize, ysize, x, y-1)\n",
      "    if y < (ysize-1):\n",
      "        fillrec(picture, xsize, ysize, x, y+1) "
     ],
     "language": "python",
     "metadata": {},
     "outputs": [],
     "prompt_number": 75
    },
    {
     "cell_type": "markdown",
     "metadata": {},
     "source": [
      "2. Modify your count function to take another argument - which fill function to use - and compare the time it takes to count the stars using the original fill, your improved fastfill, and the recursive recfill."
     ]
    },
    {
     "cell_type": "code",
     "collapsed": false,
     "input": [
      "BLACK = (0,0,0)\n",
      "RED = (255,0,0)\n",
      "from time import time\n",
      "\n",
      "plt.imshow(bwpic)\n",
      "\n",
      "def count(picture,function):\n",
      "    xsize, ysize = picture.size\n",
      "    temp = picture.load()\n",
      "    result = 0\n",
      "    for x in range(xsize):\n",
      "        for y in range(ysize):\n",
      "            if temp[x,y] == BLACK:\n",
      "                result += 1\n",
      "                xstart= x\n",
      "                ystart= y\n",
      "                if function == 'fastfill':\n",
      "                    fastfill(temp, xsize, ysize, xstart, ystart)\n",
      "                if function == 'fillrec':\n",
      "                    fillrec(temp, xsize, ysize, x, y)\n",
      "                if function == 'fill':\n",
      "                    fill(temp, xsize, ysize, x, y)\n",
      "    return result\n",
      "\n",
      "\n",
      "def elapsed(func, picture, filltype):\n",
      "    start = time()\n",
      "    result = func(picture, filltype)\n",
      "    return time() - start, result\n",
      "\n",
      "print \"Elapsed time for original fill: \", elapsed(count,bwpic,fill)\n",
      "print \"Elapsed time for recursive fill: \", elapsed(count,bwpic,fillrec)\n",
      "print \"Elapsed time for my fill: \", elapsed(count,bwpic,fastfill)\n",
      "print \n",
      "print \"My fill is slightly faster than the recursive fill that took the same point several\"\n",
      "print \"times, I would consider mine to be succesful.\""
     ],
     "language": "python",
     "metadata": {},
     "outputs": [
      {
       "output_type": "stream",
       "stream": "stdout",
       "text": [
        "Elapsed time for original fill:  "
       ]
      },
      {
       "output_type": "stream",
       "stream": "stdout",
       "text": [
        "(0.09500002861022949, 1501)\n",
        "Elapsed time for recursive fill:  "
       ]
      },
      {
       "output_type": "stream",
       "stream": "stdout",
       "text": [
        "(0.0989999771118164, 1501)\n",
        "Elapsed time for my fill:  "
       ]
      },
      {
       "output_type": "stream",
       "stream": "stdout",
       "text": [
        "(0.0969998836517334, 1501)\n",
        "\n",
        "My fill is slightly faster than the recursive fill that took the same point several\n",
        "times, I would consider mine to be succesful.\n"
       ]
      },
      {
       "metadata": {},
       "output_type": "display_data",
       "png": "[encoded data removed]",
       "text": [
        "<matplotlib.figure.Figure at 0xb370ac8>"
       ]
      }
     ],
     "prompt_number": 76
    },
    {
     "cell_type": "markdown",
     "metadata": {},
     "source": [
      "3. Use the fastest algorithm from question 2 to count the stars above a threshold in all of the images listed at the top of the page. How does the count for each image change if you lower the threshold from 600 to 500? Comment on any changes to the count. Why do they happen?"
     ]
    },
    {
     "cell_type": "code",
     "collapsed": false,
     "input": [
      "##The fastest algorithm from question 2 was my fill by one thousandth\n",
      "##of a second. I will use that one. \n",
      "\n",
      "######-------Picture 1-------######\n",
      "print \"#####-----Picture 1-----######\"\n",
      "response1 = requests.get(\"http://imgsrc.hubblesite.org/hu/db/images/hs-2004-20-a-large_web.jpg\")\n",
      "pic1a = Image.open(StringIO(response1.content))\n",
      "pic1b = Image.open(StringIO(response1.content))\n",
      "monochrome(pic1a,100+200+200)\n",
      "monochrome(pic1b,200+200+200)\n",
      "\n",
      "plt.imshow(pic1a)\n",
      "print \"Elapsed time for threshold=500\", elapsed(count,pic1a,fastfill)\n",
      "print \"Elapsed time for threshold=600\", elapsed(count,pic1b,fastfill)\n"
     ],
     "language": "python",
     "metadata": {},
     "outputs": [
      {
       "output_type": "stream",
       "stream": "stdout",
       "text": [
        "#####-----Picture 1-----######\n",
        "Elapsed time for threshold=500"
       ]
      },
      {
       "output_type": "stream",
       "stream": "stdout",
       "text": [
        " (0.10500001907348633, 4573)\n",
        "Elapsed time for threshold=600 "
       ]
      },
      {
       "output_type": "stream",
       "stream": "stdout",
       "text": [
        "(0.09500002861022949, 1501)\n"
       ]
      },
      {
       "metadata": {},
       "output_type": "display_data",
       "png": "[encoded data removed]",
       "text": [
        "<matplotlib.figure.Figure at 0xac33860>"
       ]
      }
     ],
     "prompt_number": 77
    },
    {
     "cell_type": "code",
     "collapsed": false,
     "input": [
      "######-------Picture 2-------######\n",
      "print \"#####-----Picture 2-----######\"\n",
      "response2 = requests.get(\"http://imgsrc.hubblesite.org/hu/db/images/hs-1993-13-a-large_web.jpg\")\n",
      "pic2a = Image.open(StringIO(response2.content))\n",
      "pic2b = Image.open(StringIO(response2.content))\n",
      "monochrome(pic2a,100+200+200)\n",
      "monochrome(pic2b,200+200+200)\n",
      "\n",
      "plt.imshow(pic1a)\n",
      "print \"Elapsed time for threshold=500\", elapsed(count,pic2a,fastfill)\n",
      "print \"Elapsed time for threshold=600\", elapsed(count,pic2b,fastfill)\n"
     ],
     "language": "python",
     "metadata": {},
     "outputs": [
      {
       "output_type": "stream",
       "stream": "stdout",
       "text": [
        "#####-----Picture 2-----######\n",
        "Elapsed time for threshold=500"
       ]
      },
      {
       "output_type": "stream",
       "stream": "stdout",
       "text": [
        " (0.11399984359741211, 3064)\n",
        "Elapsed time for threshold=600 "
       ]
      },
      {
       "output_type": "stream",
       "stream": "stdout",
       "text": [
        "(0.10800004005432129, 2359)\n"
       ]
      },
      {
       "metadata": {},
       "output_type": "display_data",
       "png": "[encoded data removed]",
       "text": [
        "<matplotlib.figure.Figure at 0xac24128>"
       ]
      }
     ],
     "prompt_number": 78
    },
    {
     "cell_type": "code",
     "collapsed": false,
     "input": [
      "######-------Picture 3-------######\n",
      "print \"#####-----Picture 3-----######\"\n",
      "response3 = requests.get(\"http://imgsrc.hubblesite.org/hu/db/images/hs-1995-32-c-full_jpg.jpg\")\n",
      "pic3a = Image.open(StringIO(response3.content))\n",
      "pic3b = Image.open(StringIO(response3.content))\n",
      "monochrome(pic3a,100+200+200)\n",
      "monochrome(pic3b,200+200+200)\n",
      "\n",
      "plt.imshow(pic3a)\n",
      "print \"Elapsed time for threshold=500\", elapsed(count,pic3a,fastfill)\n",
      "print \"Elapsed time for threshold=600\", elapsed(count,pic3b,fastfill)\n"
     ],
     "language": "python",
     "metadata": {},
     "outputs": [
      {
       "output_type": "stream",
       "stream": "stdout",
       "text": [
        "#####-----Picture 3-----######\n",
        "Elapsed time for threshold=500"
       ]
      },
      {
       "output_type": "stream",
       "stream": "stdout",
       "text": [
        " (0.04199981689453125, 6098)\n",
        "Elapsed time for threshold=600 (0.03899979591369629, 4215)\n"
       ]
      },
      {
       "metadata": {},
       "output_type": "display_data",
       "png": "[encoded data removed]",
       "text": [
        "<matplotlib.figure.Figure at 0x3e2b828>"
       ]
      }
     ],
     "prompt_number": 79
    },
    {
     "cell_type": "code",
     "collapsed": false,
     "input": [
      "######-------Picture 4-------######\n",
      "print \"#####-----Picture 4-----######\"\n",
      "response4 = requests.get(\"http://imgsrc.hubblesite.org/hu/db/images/hs-1993-13-a-large_web.jpg\")\n",
      "pic4a = Image.open(StringIO(response4.content))\n",
      "pic4b = Image.open(StringIO(response4.content))\n",
      "monochrome(pic4a,100+200+200)\n",
      "monochrome(pic4b,200+200+200)\n",
      "\n",
      "plt.imshow(pic4a)\n",
      "print \"Elapsed time for threshold=500\", elapsed(count,pic4a,fastfill)\n",
      "print \"Elapsed time for threshold=600\", elapsed(count,pic4b,fastfill)\n"
     ],
     "language": "python",
     "metadata": {},
     "outputs": [
      {
       "output_type": "stream",
       "stream": "stdout",
       "text": [
        "#####-----Picture 4-----######\n",
        "Elapsed time for threshold=500"
       ]
      },
      {
       "output_type": "stream",
       "stream": "stdout",
       "text": [
        " (0.11299991607666016, 3064)\n",
        "Elapsed time for threshold=600 "
       ]
      },
      {
       "output_type": "stream",
       "stream": "stdout",
       "text": [
        "(0.11100006103515625, 2359)\n"
       ]
      },
      {
       "metadata": {},
       "output_type": "display_data",
       "png": "[encoded data removed]",
       "text": [
        "<matplotlib.figure.Figure at 0xb00b668>"
       ]
      }
     ],
     "prompt_number": 80
    },
    {
     "cell_type": "code",
     "collapsed": false,
     "input": [
      "######-------Picture 5-------######\n",
      "print \"#####-----Picture 5-----######\"\n",
      "response5 = requests.get(\"http://imgsrc.hubblesite.org/hu/db/images/hs-2002-10-a-large_web.jpg\")\n",
      "pic5a = Image.open(StringIO(response5.content))\n",
      "pic5b = Image.open(StringIO(response5.content))\n",
      "monochrome(pic5a,100+200+200)\n",
      "monochrome(pic5b,200+200+200)\n",
      "\n",
      "plt.imshow(pic5a)\n",
      "print \"Elapsed time for threshold=500\", elapsed(count,pic5a,fastfill)\n",
      "print \"Elapsed time for threshold=600\", elapsed(count,pic5b,fastfill)\n"
     ],
     "language": "python",
     "metadata": {},
     "outputs": [
      {
       "output_type": "stream",
       "stream": "stdout",
       "text": [
        "#####-----Picture 5-----######\n",
        "Elapsed time for threshold=500"
       ]
      },
      {
       "output_type": "stream",
       "stream": "stdout",
       "text": [
        " (0.08599996566772461, 28602)\n",
        "Elapsed time for threshold=600 "
       ]
      },
      {
       "output_type": "stream",
       "stream": "stdout",
       "text": [
        "(0.0839998722076416, 17954)\n"
       ]
      },
      {
       "metadata": {},
       "output_type": "display_data",
       "png": "[encoded data removed]",
       "text": [
        "<matplotlib.figure.Figure at 0xac013c8>"
       ]
      }
     ],
     "prompt_number": 81
    },
    {
     "cell_type": "code",
     "collapsed": false,
     "input": [
      "######-------Picture 6-------######\n",
      "print \"#####-----Picture 6-----######\"\n",
      "response6 = requests.get(\"http://imgsrc.hubblesite.org/hu/db/images/hs-1999-30-b-full_jpg.jpg\")\n",
      "pic6a = Image.open(StringIO(response6.content))\n",
      "pic6b = Image.open(StringIO(response6.content))\n",
      "monochrome(pic6a,100+200+200)\n",
      "monochrome(pic6b,200+200+200)\n",
      "\n",
      "plt.imshow(pic6a)\n",
      "print \"Elapsed time for threshold=500\", elapsed(count,pic6a,fastfill)\n",
      "print \"Elapsed time for threshold=600\", elapsed(count,pic6b,fastfill)\n"
     ],
     "language": "python",
     "metadata": {},
     "outputs": [
      {
       "output_type": "stream",
       "stream": "stdout",
       "text": [
        "#####-----Picture 6-----######\n",
        "Elapsed time for threshold=500"
       ]
      },
      {
       "output_type": "stream",
       "stream": "stdout",
       "text": [
        " (0.0559999942779541, 9490)\n",
        "Elapsed time for threshold=600 "
       ]
      },
      {
       "output_type": "stream",
       "stream": "stdout",
       "text": [
        "(0.054000139236450195, 7022)\n"
       ]
      },
      {
       "metadata": {},
       "output_type": "display_data",
       "png": "[encoded data removed]",
       "text": [
        "<matplotlib.figure.Figure at 0xb1580f0>"
       ]
      }
     ],
     "prompt_number": 82
    },
    {
     "cell_type": "markdown",
     "metadata": {},
     "source": [
      "After looking at all of the results it is a general trend that the lower threshold takes longer and finds more stars than the higher threshold which is what one would expect considering that the dimmer stars might be visible (black dots) at a lower threshold and not visible (white space) when you change the threshold."
     ]
    },
    {
     "cell_type": "markdown",
     "metadata": {},
     "source": [
      "4. Write a variation on your count function to keep track of the pixels in a given blob and use the brightest pixel in the blob as the \"location\" of the star. Use the data I/O skills we learned to write out a text (not binary) file containing\n",
      "a header which includes\n",
      "the link to the image\n",
      "the threshold value used in the conversion to monochrome\n",
      "the algorithm used to count its stars\n",
      "how fast it processed the image\n",
      "how many stars were found,\n",
      "a description of the data in the subsequent columns\n",
      "a list of the star data organized in three columns and formatted for easy reading as follows:\n",
      "location (x,y in pixel units)\n",
      "maximum brightness value for the star\n",
      "Apply your function to the six images at the top of the page."
     ]
    },
    {
     "cell_type": "code",
     "collapsed": false,
     "input": [
      "def count(picture,function):\n",
      "    xsize, ysize = picture.size\n",
      "    temp = picture.load()\n",
      "    result = 0\n",
      "    stars=[]\n",
      "    for x in range(xsize):\n",
      "        for y in range(ysize):\n",
      "            pixels=[]\n",
      "            if temp[x,y] == BLACK:\n",
      "                result += 1\n",
      "                pixels.append((x,y))\n",
      "                xstart= x\n",
      "                ystart= y\n",
      "                if function == 'fastfill':\n",
      "                    fastfill(temp, xsize, ysize, xstart, ystart)\n",
      "                if function == 'fillrec':\n",
      "                    fillrec(temp, xsize, ysize, x, y)\n",
      "                if function == 'fill':\n",
      "                    fill(temp, xsize, ysize, x, y)\n",
      "                stars.append(pixels)\n",
      "    return result\n",
      "\n",
      "###brightest function looks like this\n",
      "\n",
      "\n"
     ],
     "language": "python",
     "metadata": {},
     "outputs": []
    }
   ],
   "metadata": {}
  }
 ]
}