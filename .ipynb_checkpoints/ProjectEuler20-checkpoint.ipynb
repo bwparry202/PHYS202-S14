{
 "metadata": {
  "name": "",
  "signature": "sha256:fc887610913c375ff521a7da0315c69c0bd7e9d74b78e1dd764d7771f041475a"
 },
 "nbformat": 3,
 "nbformat_minor": 0,
 "worksheets": [
  {
   "cells": [
    {
     "cell_type": "heading",
     "level": 1,
     "metadata": {},
     "source": [
      "Factorial Digit Sum"
     ]
    },
    {
     "cell_type": "markdown",
     "metadata": {},
     "source": [
      "n! means n \u00d7 (n \u2212 1) \u00d7 ... \u00d7 3 \u00d7 2 \u00d7 1\n",
      "\n",
      "For example, 10! = 10 \u00d7 9 \u00d7 ... \u00d7 3 \u00d7 2 \u00d7 1 = 3628800,\n",
      "and the sum of the digits in the number 10! is 3 + 6 + 2 + 8 + 8 + 0 + 0 = 27.\n",
      "\n",
      "Find the sum of the digits in the number 100!"
     ]
    },
    {
     "cell_type": "code",
     "collapsed": false,
     "input": [
      "## First write a factorial program.\n",
      "\n",
      "def factorial(num):\n",
      "    init_value = 1\n",
      "    for n in range(1,num+1):\n",
      "        init_value = init_value * n\n",
      "    return init_value\n",
      "\n",
      "print factorial(10)        "
     ],
     "language": "python",
     "metadata": {},
     "outputs": [
      {
       "output_type": "stream",
       "stream": "stdout",
       "text": [
        "3628800\n"
       ]
      }
     ],
     "prompt_number": 10
    },
    {
     "cell_type": "code",
     "collapsed": false,
     "input": [
      "## Now that my factorial program works now we need to write a program\n",
      "## that adds the individual numbers.\n",
      "\n",
      "def sum_individual(num):\n",
      "    total = 0\n",
      "    s = str(num)\n",
      "    for n in range(len(s)):\n",
      "        total += int(s[n])\n",
      "    return total\n",
      "\n",
      "print sum_individual(factorial(10))"
     ],
     "language": "python",
     "metadata": {},
     "outputs": [
      {
       "output_type": "stream",
       "stream": "stdout",
       "text": [
        "27\n"
       ]
      }
     ],
     "prompt_number": 24
    },
    {
     "cell_type": "markdown",
     "metadata": {},
     "source": [
      "Perfect now that we have our test case and that works we can now use our two functions to compute the sum of the digits in 100! (How exciting!)"
     ]
    },
    {
     "cell_type": "code",
     "collapsed": false,
     "input": [
      "print \"100! =\",factorial(100)\n",
      "print \"The sum of the digits in 100! is:\",sum_individual(factorial(100))"
     ],
     "language": "python",
     "metadata": {},
     "outputs": [
      {
       "output_type": "stream",
       "stream": "stdout",
       "text": [
        "100! = 93326215443944152681699238856266700490715968264381621468592963895217599993229915608941463976156518286253697920827223758251185210916864000000000000000000000000\n",
        "The sum of the digits in 100! is: 648\n"
       ]
      }
     ],
     "prompt_number": 27
    }
   ],
   "metadata": {}
  }
 ]
}