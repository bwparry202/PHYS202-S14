{
 "metadata": {
  "name": "",
  "signature": "sha256:b9526471f856c47343ededfd09d466fa06aba141105f15b665f2aff05e680d33"
 },
 "nbformat": 3,
 "nbformat_minor": 0,
 "worksheets": []
}