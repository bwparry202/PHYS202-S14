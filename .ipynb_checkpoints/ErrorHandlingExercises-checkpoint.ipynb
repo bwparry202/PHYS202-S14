{
 "metadata": {
  "name": "",
  "signature": "sha256:25d815b6b1e63ba1222618099bac050afea35806d63dbe3b7dd5ae45ae5fde37"
 },
 "nbformat": 3,
 "nbformat_minor": 0,
 "worksheets": [
  {
   "cells": [
    {
     "cell_type": "heading",
     "level": 1,
     "metadata": {},
     "source": [
      "Error Handling Exercises"
     ]
    },
    {
     "cell_type": "code",
     "collapsed": false,
     "input": [
      "%pylab inline"
     ],
     "language": "python",
     "metadata": {},
     "outputs": [
      {
       "output_type": "stream",
       "stream": "stdout",
       "text": [
        "Populating the interactive namespace from numpy and matplotlib\n"
       ]
      }
     ],
     "prompt_number": 1
    },
    {
     "cell_type": "markdown",
     "metadata": {},
     "source": [
      "1. Find a partner. Choose a driver and a navigator. The driver should copy their Battleship code to a cell in the driver's ErrorHandlingExercises notebook. The driver should explain to the navigator the basics of how their program works. Work together to add some error handling to the program. Include a markdown cell identifying the driver and navigator. When you are done, switch roles and let the navigator be the driver and vice versa. At the end you should both have a Battleship program that includes some error handling."
     ]
    },
    {
     "cell_type": "code",
     "collapsed": false,
     "input": [
      "from ipythonblocks import BlockGrid\n",
      "from random import randint\n",
      "\n",
      "print \"Let's play Battleship!!\"\n",
      "\n",
      "#Creating the grid\n",
      "grid_size = int(raw_input(\"How large of a grid do you want to play on? (Inputting 8 will return an 8x8 grid)(Input values range from 8 to 14): \"))    \n",
      "\n",
      "#This function checks to see if the grid size is acceptable.\n",
      "\n",
      "def grid_checker(grid_size):\n",
      "    if grid_size < 7:\n",
      "        print \"Ooops, that's too small, needs to be at least 8\"\n",
      "        grid_size_repeat = int(raw_input(\"How large of a grid: \"))\n",
      "        grid_checker(grid_size_repeat)\n",
      "    elif grid_size > 15:\n",
      "        print \"Ooops, that's too big, needs to be 14 or less\"\n",
      "        grid_size_repeat = int(raw_input(\"How large of a grid: \"))\n",
      "        grid_checker(grid_size_repeat)\n",
      "    else:\n",
      "        return grid_size\n",
      "                \n",
      "p = grid_checker(grid_size)\n",
      "grid = BlockGrid(p, p, fill=(123,195,220))\n",
      "        \n",
      "#Defining how many turns you want\n",
      "try:\n",
      "    turns = int(raw_input(\"Enter the number of turns you want(10+ is reccomended): \"))\n",
      "except:\n",
      "    print \"Oops that's not a number we want! Try an integer from 8-20.\"\n",
      "    turns = int(raw_input(\"How many turns:\"))\n",
      "finally:\n",
      "    print \"Awesome! Let's play Battleship!\"\n",
      "    grid.show()\n",
      "\n",
      "#Now we will define where our ship is\n",
      "#Generally, my function will pick whether the ship will be oriented by\n",
      "#the column or the row, then it will place the battleship\n",
      "\n",
      "#This is just a few random generator functions that I will use later.\n",
      "\n",
      "def rand_column(grid_size):\n",
      "    return randint(0,grid_size)\n",
      "\n",
      "def rand_row(grid_size):\n",
      "    return randint(0,grid_size)\n",
      "\n",
      "def rand_direction_up_down():\n",
      "    d = randint(1,2)\n",
      "    if d == 1:\n",
      "        return \"down\"\n",
      "    elif d == 2:\n",
      "        return \"up\"\n",
      "    \n",
      "def rand_direction_right_left():    \n",
      "    r = randint(1,2)\n",
      "    if r == 1:\n",
      "        return \"right\"\n",
      "    elif r == 2:\n",
      "        return \"left\"\n",
      "\n",
      "#This is the column/row orientation, if z = 0 the ship will be oriented vertically, \n",
      "#if z = 1 the ship will be oriented horizontally. The ship will be anywhere \n",
      "#from 4 to 6 blocks long, depending on how big the board is. 4 ships long\n",
      "#It tests to see how far away it is from the wall and then adds the other blocks\n",
      "#either up down right or left of the inital random position.\n",
      "\n",
      "def ship_placer():\n",
      "    z = randint(0,1)       \n",
      "    x1 = rand_column(p)\n",
      "    y1 = rand_row(p)\n",
      "    if z == 0:                         \n",
      "        updown = rand_direction_up_down()\n",
      "        x2 = x1\n",
      "        x3 = x1\n",
      "        if updown == \"up\":\n",
      "            if y1 >= 2:\n",
      "                y2 = y1 - 1\n",
      "                y3 = y1 - 2\n",
      "            elif y1 >= 1:\n",
      "                y2 = y1 + 1\n",
      "                y3 = y1 - 1\n",
      "            else:\n",
      "                y2 = y1 + 1\n",
      "                y3 = y1 + 2\n",
      "        if updown == \"down\":\n",
      "            if y1 <= p-2:\n",
      "                y2 = y1 + 1\n",
      "                y3 = y1 + 2\n",
      "            elif y1 <= p-1:\n",
      "                y2 = y1 - 1\n",
      "                y3 = y1 + 1\n",
      "            else:\n",
      "                y2 = y1 - 1\n",
      "                y3 = y1 - 2               \n",
      "        \n",
      "    if z == 1:\n",
      "        rightleft = rand_direction_right_left()\n",
      "        y2 = y1\n",
      "        y3 = y1\n",
      "        if rightleft == \"right\":\n",
      "            if x1 >= 2:\n",
      "                x2 = x1 - 1\n",
      "                x3 = x1 - 2\n",
      "            elif x1 >= 1:\n",
      "                x2 = x1 + 1\n",
      "                x3 = x1 - 1\n",
      "            else:\n",
      "                x2 = x1 + 1\n",
      "                x3 = x1 + 2\n",
      "        if rightleft == \"left\":\n",
      "            if x1 <= p-2:\n",
      "                x2 = x1 + 1\n",
      "                x3 = x1 + 2\n",
      "            elif x1 <= p-1:\n",
      "                x2 = x1 - 1\n",
      "                x3 = x1 + 1\n",
      "            else:\n",
      "                x2 = x1 - 1\n",
      "                x3 = x1 - 2\n",
      "    ship = [x1,y1,x2,y2,x3,y3]\n",
      "    return ship\n",
      "\n",
      "#The following just extracts the data from the random ship placer, and puts it into variables we can work\n",
      "#with for the guesser section of the code.\n",
      "\n",
      "ship = ship_placer()\n",
      "y1 = ship[0]\n",
      "x1 = ship[1]\n",
      "y2 = ship[2]\n",
      "x2 = ship[3]\n",
      "y3 = ship[4]\n",
      "x3 = ship[5]\n",
      "    \n",
      "\n",
      "#Here is the code for the steps and when the player guesses where the ship is.\n",
      "#It works by testing if you have won first, then it tests if your guess is one of the\n",
      "#places where the ship is. It also includes the cases from the previous battleship code,\n",
      "#where it tests if you have gone off of the board.\n",
      "\n",
      "turn = 1\n",
      "while turn <= turns:\n",
      "    print \"Turn: \"+str(turn)\n",
      "    if grid[x1,y1] == (255,0,0) and grid[x2,y2] == (255,0,0) and grid[x3,y3] == (255,0,0):\n",
      "        print \"Congratulations! You sunk my battleship!\"\n",
      "        grid.show()\n",
      "        break\n",
      "    elif (guess_y < 0 or guess_y >= grid.height) or (guess_x < 0 or guess_x >= grid.width):\n",
      "        print \"Oops, that's not even in the ocean.\"\n",
      "    elif [guess_x,guess_y] == [x1,y1] or [guess_x,guess_y] == [x2,y2] or [guess_x,guess_y] == [x3,y3]:\n",
      "        grid[guess_x,guess_y] = (255,0,0)\n",
      "        grid.show()\n",
      "        turn += 1\n",
      "        if turn >= turns+1:\n",
      "            print \"Game Over, here's where the battleship was\"\n",
      "            if grid[x1,y1] == (123,195,220):\n",
      "                grid[x1,y1] = (128,128,128)\n",
      "            else:\n",
      "                grid[x1,y1] = (255,0,0)\n",
      "                \n",
      "            if grid[x2,y2] == (123,195,220):\n",
      "                grid[x2,y2] = (128,128,128)\n",
      "            else:\n",
      "                grid[x2,y2] = (255,0,0)\n",
      "        \n",
      "            if grid[x3,y3] == (123,195,220):\n",
      "                grid[x3,y3] = (128,128,128)\n",
      "            else:\n",
      "                grid[x3,y3] = (255,0,0)\n",
      "            grid.show()\n",
      "        \n",
      "    else:\n",
      "        guessblock = grid[guess_x,guess_y]\n",
      "        if (guessblock.red,guessblock.green,guessblock.blue) == (0,0,139):\n",
      "            print \"You guessed that one already.\"\n",
      "        else:\n",
      "            print \"You missed my battleship!\"\n",
      "            grid[guess_x,guess_y] = (0,0,139)\n",
      "            grid.show()\n",
      "            turn += 1\n",
      "        if turn >= turns+1:\n",
      "            print \"Game Over, here's where the battleship was\"\n",
      "            if grid[x1,y1] == (123,195,220):\n",
      "                grid[x1,y1] = (128,128,128)\n",
      "            else:\n",
      "                grid[x1,y1] = (255,0,0)\n",
      "                \n",
      "            if grid[x2,y2] == (123,195,220):\n",
      "                grid[x2,y2] = (128,128,128)\n",
      "            else:\n",
      "                grid[x2,y2] = (255,0,0)\n",
      "        \n",
      "            if grid[x3,y3] == (123,195,220):\n",
      "                grid[x3,y3] = (128,128,128)\n",
      "            else:\n",
      "                grid[x3,y3] = (255,0,0)\n",
      "            grid.show()"
     ],
     "language": "python",
     "metadata": {},
     "outputs": [
      {
       "output_type": "stream",
       "stream": "stdout",
       "text": [
        "Let's play Battleship!!\n"
       ]
      },
      {
       "name": "stdout",
       "output_type": "stream",
       "stream": "stdout",
       "text": [
        "How large of a grid do you want to play on? (Inputting 8 will return an 8x8 grid)(Input values range from 8 to 14): 9\n"
       ]
      },
      {
       "name": "stdout",
       "output_type": "stream",
       "stream": "stdout",
       "text": [
        "Enter the number of turns you want(10+ is reccomended): 5\n"
       ]
      },
      {
       "output_type": "stream",
       "stream": "stdout",
       "text": [
        "Awesome! Let's play Battleship!\n"
       ]
      },
      {
       "html": [
        "<style type=\"text/css\">table.blockgrid {border: none;} .blockgrid tr {border: none;} .blockgrid td {padding: 0px;} #blocks4a6cb532-8127-477b-a01e-da0961d2a9e5 td {border: 1px solid white;}</style><table id=\"blocks4a6cb532-8127-477b-a01e-da0961d2a9e5\" class=\"blockgrid\"><tbody><tr><td title=\"Index: [0, 0]&#10;Color: (123, 195, 220)\" style=\"width: 20px; height: 20px;background-color: rgb(123, 195, 220);\"></td><td title=\"Index: [0, 1]&#10;Color: (123, 195, 220)\" style=\"width: 20px; height: 20px;background-color: rgb(123, 195, 220);\"></td><td title=\"Index: [0, 2]&#10;Color: (123, 195, 220)\" style=\"width: 20px; height: 20px;background-color: rgb(123, 195, 220);\"></td><td title=\"Index: [0, 3]&#10;Color: (123, 195, 220)\" style=\"width: 20px; height: 20px;background-color: rgb(123, 195, 220);\"></td><td title=\"Index: [0, 4]&#10;Color: (123, 195, 220)\" style=\"width: 20px; height: 20px;background-color: rgb(123, 195, 220);\"></td><td title=\"Index: [0, 5]&#10;Color: (123, 195, 220)\" style=\"width: 20px; height: 20px;background-color: rgb(123, 195, 220);\"></td><td title=\"Index: [0, 6]&#10;Color: (123, 195, 220)\" style=\"width: 20px; height: 20px;background-color: rgb(123, 195, 220);\"></td><td title=\"Index: [0, 7]&#10;Color: (123, 195, 220)\" style=\"width: 20px; height: 20px;background-color: rgb(123, 195, 220);\"></td><td title=\"Index: [0, 8]&#10;Color: (123, 195, 220)\" style=\"width: 20px; height: 20px;background-color: rgb(123, 195, 220);\"></td></tr><tr><td title=\"Index: [1, 0]&#10;Color: (123, 195, 220)\" style=\"width: 20px; height: 20px;background-color: rgb(123, 195, 220);\"></td><td title=\"Index: [1, 1]&#10;Color: (123, 195, 220)\" style=\"width: 20px; height: 20px;background-color: rgb(123, 195, 220);\"></td><td title=\"Index: [1, 2]&#10;Color: (123, 195, 220)\" style=\"width: 20px; height: 20px;background-color: rgb(123, 195, 220);\"></td><td title=\"Index: [1, 3]&#10;Color: (123, 195, 220)\" style=\"width: 20px; height: 20px;background-color: rgb(123, 195, 220);\"></td><td title=\"Index: [1, 4]&#10;Color: (123, 195, 220)\" style=\"width: 20px; height: 20px;background-color: rgb(123, 195, 220);\"></td><td title=\"Index: [1, 5]&#10;Color: (123, 195, 220)\" style=\"width: 20px; height: 20px;background-color: rgb(123, 195, 220);\"></td><td title=\"Index: [1, 6]&#10;Color: (123, 195, 220)\" style=\"width: 20px; height: 20px;background-color: rgb(123, 195, 220);\"></td><td title=\"Index: [1, 7]&#10;Color: (123, 195, 220)\" style=\"width: 20px; height: 20px;background-color: rgb(123, 195, 220);\"></td><td title=\"Index: [1, 8]&#10;Color: (123, 195, 220)\" style=\"width: 20px; height: 20px;background-color: rgb(123, 195, 220);\"></td></tr><tr><td title=\"Index: [2, 0]&#10;Color: (123, 195, 220)\" style=\"width: 20px; height: 20px;background-color: rgb(123, 195, 220);\"></td><td title=\"Index: [2, 1]&#10;Color: (123, 195, 220)\" style=\"width: 20px; height: 20px;background-color: rgb(123, 195, 220);\"></td><td title=\"Index: [2, 2]&#10;Color: (123, 195, 220)\" style=\"width: 20px; height: 20px;background-color: rgb(123, 195, 220);\"></td><td title=\"Index: [2, 3]&#10;Color: (123, 195, 220)\" style=\"width: 20px; height: 20px;background-color: rgb(123, 195, 220);\"></td><td title=\"Index: [2, 4]&#10;Color: (123, 195, 220)\" style=\"width: 20px; height: 20px;background-color: rgb(123, 195, 220);\"></td><td title=\"Index: [2, 5]&#10;Color: (123, 195, 220)\" style=\"width: 20px; height: 20px;background-color: rgb(123, 195, 220);\"></td><td title=\"Index: [2, 6]&#10;Color: (123, 195, 220)\" style=\"width: 20px; height: 20px;background-color: rgb(123, 195, 220);\"></td><td title=\"Index: [2, 7]&#10;Color: (123, 195, 220)\" style=\"width: 20px; height: 20px;background-color: rgb(123, 195, 220);\"></td><td title=\"Index: [2, 8]&#10;Color: (123, 195, 220)\" style=\"width: 20px; height: 20px;background-color: rgb(123, 195, 220);\"></td></tr><tr><td title=\"Index: [3, 0]&#10;Color: (123, 195, 220)\" style=\"width: 20px; height: 20px;background-color: rgb(123, 195, 220);\"></td><td title=\"Index: [3, 1]&#10;Color: (123, 195, 220)\" style=\"width: 20px; height: 20px;background-color: rgb(123, 195, 220);\"></td><td title=\"Index: [3, 2]&#10;Color: (123, 195, 220)\" style=\"width: 20px; height: 20px;background-color: rgb(123, 195, 220);\"></td><td title=\"Index: [3, 3]&#10;Color: (123, 195, 220)\" style=\"width: 20px; height: 20px;background-color: rgb(123, 195, 220);\"></td><td title=\"Index: [3, 4]&#10;Color: (123, 195, 220)\" style=\"width: 20px; height: 20px;background-color: rgb(123, 195, 220);\"></td><td title=\"Index: [3, 5]&#10;Color: (123, 195, 220)\" style=\"width: 20px; height: 20px;background-color: rgb(123, 195, 220);\"></td><td title=\"Index: [3, 6]&#10;Color: (123, 195, 220)\" style=\"width: 20px; height: 20px;background-color: rgb(123, 195, 220);\"></td><td title=\"Index: [3, 7]&#10;Color: (123, 195, 220)\" style=\"width: 20px; height: 20px;background-color: rgb(123, 195, 220);\"></td><td title=\"Index: [3, 8]&#10;Color: (123, 195, 220)\" style=\"width: 20px; height: 20px;background-color: rgb(123, 195, 220);\"></td></tr><tr><td title=\"Index: [4, 0]&#10;Color: (123, 195, 220)\" style=\"width: 20px; height: 20px;background-color: rgb(123, 195, 220);\"></td><td title=\"Index: [4, 1]&#10;Color: (123, 195, 220)\" style=\"width: 20px; height: 20px;background-color: rgb(123, 195, 220);\"></td><td title=\"Index: [4, 2]&#10;Color: (123, 195, 220)\" style=\"width: 20px; height: 20px;background-color: rgb(123, 195, 220);\"></td><td title=\"Index: [4, 3]&#10;Color: (123, 195, 220)\" style=\"width: 20px; height: 20px;background-color: rgb(123, 195, 220);\"></td><td title=\"Index: [4, 4]&#10;Color: (123, 195, 220)\" style=\"width: 20px; height: 20px;background-color: rgb(123, 195, 220);\"></td><td title=\"Index: [4, 5]&#10;Color: (123, 195, 220)\" style=\"width: 20px; height: 20px;background-color: rgb(123, 195, 220);\"></td><td title=\"Index: [4, 6]&#10;Color: (123, 195, 220)\" style=\"width: 20px; height: 20px;background-color: rgb(123, 195, 220);\"></td><td title=\"Index: [4, 7]&#10;Color: (123, 195, 220)\" style=\"width: 20px; height: 20px;background-color: rgb(123, 195, 220);\"></td><td title=\"Index: [4, 8]&#10;Color: (123, 195, 220)\" style=\"width: 20px; height: 20px;background-color: rgb(123, 195, 220);\"></td></tr><tr><td title=\"Index: [5, 0]&#10;Color: (123, 195, 220)\" style=\"width: 20px; height: 20px;background-color: rgb(123, 195, 220);\"></td><td title=\"Index: [5, 1]&#10;Color: (123, 195, 220)\" style=\"width: 20px; height: 20px;background-color: rgb(123, 195, 220);\"></td><td title=\"Index: [5, 2]&#10;Color: (123, 195, 220)\" style=\"width: 20px; height: 20px;background-color: rgb(123, 195, 220);\"></td><td title=\"Index: [5, 3]&#10;Color: (123, 195, 220)\" style=\"width: 20px; height: 20px;background-color: rgb(123, 195, 220);\"></td><td title=\"Index: [5, 4]&#10;Color: (123, 195, 220)\" style=\"width: 20px; height: 20px;background-color: rgb(123, 195, 220);\"></td><td title=\"Index: [5, 5]&#10;Color: (123, 195, 220)\" style=\"width: 20px; height: 20px;background-color: rgb(123, 195, 220);\"></td><td title=\"Index: [5, 6]&#10;Color: (123, 195, 220)\" style=\"width: 20px; height: 20px;background-color: rgb(123, 195, 220);\"></td><td title=\"Index: [5, 7]&#10;Color: (123, 195, 220)\" style=\"width: 20px; height: 20px;background-color: rgb(123, 195, 220);\"></td><td title=\"Index: [5, 8]&#10;Color: (123, 195, 220)\" style=\"width: 20px; height: 20px;background-color: rgb(123, 195, 220);\"></td></tr><tr><td title=\"Index: [6, 0]&#10;Color: (123, 195, 220)\" style=\"width: 20px; height: 20px;background-color: rgb(123, 195, 220);\"></td><td title=\"Index: [6, 1]&#10;Color: (123, 195, 220)\" style=\"width: 20px; height: 20px;background-color: rgb(123, 195, 220);\"></td><td title=\"Index: [6, 2]&#10;Color: (123, 195, 220)\" style=\"width: 20px; height: 20px;background-color: rgb(123, 195, 220);\"></td><td title=\"Index: [6, 3]&#10;Color: (123, 195, 220)\" style=\"width: 20px; height: 20px;background-color: rgb(123, 195, 220);\"></td><td title=\"Index: [6, 4]&#10;Color: (123, 195, 220)\" style=\"width: 20px; height: 20px;background-color: rgb(123, 195, 220);\"></td><td title=\"Index: [6, 5]&#10;Color: (123, 195, 220)\" style=\"width: 20px; height: 20px;background-color: rgb(123, 195, 220);\"></td><td title=\"Index: [6, 6]&#10;Color: (123, 195, 220)\" style=\"width: 20px; height: 20px;background-color: rgb(123, 195, 220);\"></td><td title=\"Index: [6, 7]&#10;Color: (123, 195, 220)\" style=\"width: 20px; height: 20px;background-color: rgb(123, 195, 220);\"></td><td title=\"Index: [6, 8]&#10;Color: (123, 195, 220)\" style=\"width: 20px; height: 20px;background-color: rgb(123, 195, 220);\"></td></tr><tr><td title=\"Index: [7, 0]&#10;Color: (123, 195, 220)\" style=\"width: 20px; height: 20px;background-color: rgb(123, 195, 220);\"></td><td title=\"Index: [7, 1]&#10;Color: (123, 195, 220)\" style=\"width: 20px; height: 20px;background-color: rgb(123, 195, 220);\"></td><td title=\"Index: [7, 2]&#10;Color: (123, 195, 220)\" style=\"width: 20px; height: 20px;background-color: rgb(123, 195, 220);\"></td><td title=\"Index: [7, 3]&#10;Color: (123, 195, 220)\" style=\"width: 20px; height: 20px;background-color: rgb(123, 195, 220);\"></td><td title=\"Index: [7, 4]&#10;Color: (123, 195, 220)\" style=\"width: 20px; height: 20px;background-color: rgb(123, 195, 220);\"></td><td title=\"Index: [7, 5]&#10;Color: (123, 195, 220)\" style=\"width: 20px; height: 20px;background-color: rgb(123, 195, 220);\"></td><td title=\"Index: [7, 6]&#10;Color: (123, 195, 220)\" style=\"width: 20px; height: 20px;background-color: rgb(123, 195, 220);\"></td><td title=\"Index: [7, 7]&#10;Color: (123, 195, 220)\" style=\"width: 20px; height: 20px;background-color: rgb(123, 195, 220);\"></td><td title=\"Index: [7, 8]&#10;Color: (123, 195, 220)\" style=\"width: 20px; height: 20px;background-color: rgb(123, 195, 220);\"></td></tr><tr><td title=\"Index: [8, 0]&#10;Color: (123, 195, 220)\" style=\"width: 20px; height: 20px;background-color: rgb(123, 195, 220);\"></td><td title=\"Index: [8, 1]&#10;Color: (123, 195, 220)\" style=\"width: 20px; height: 20px;background-color: rgb(123, 195, 220);\"></td><td title=\"Index: [8, 2]&#10;Color: (123, 195, 220)\" style=\"width: 20px; height: 20px;background-color: rgb(123, 195, 220);\"></td><td title=\"Index: [8, 3]&#10;Color: (123, 195, 220)\" style=\"width: 20px; height: 20px;background-color: rgb(123, 195, 220);\"></td><td title=\"Index: [8, 4]&#10;Color: (123, 195, 220)\" style=\"width: 20px; height: 20px;background-color: rgb(123, 195, 220);\"></td><td title=\"Index: [8, 5]&#10;Color: (123, 195, 220)\" style=\"width: 20px; height: 20px;background-color: rgb(123, 195, 220);\"></td><td title=\"Index: [8, 6]&#10;Color: (123, 195, 220)\" style=\"width: 20px; height: 20px;background-color: rgb(123, 195, 220);\"></td><td title=\"Index: [8, 7]&#10;Color: (123, 195, 220)\" style=\"width: 20px; height: 20px;background-color: rgb(123, 195, 220);\"></td><td title=\"Index: [8, 8]&#10;Color: (123, 195, 220)\" style=\"width: 20px; height: 20px;background-color: rgb(123, 195, 220);\"></td></tr></tbody></table>"
       ],
       "metadata": {},
       "output_type": "display_data",
       "text": [
        "<IPython.core.display.HTML at 0x3d0da58>"
       ]
      },
      {
       "output_type": "stream",
       "stream": "stdout",
       "text": [
        "Turn: 1\n"
       ]
      },
      {
       "name": "stdout",
       "output_type": "stream",
       "stream": "stdout",
       "text": [
        "Guess Row: 5\n"
       ]
      },
      {
       "name": "stdout",
       "output_type": "stream",
       "stream": "stdout",
       "text": [
        "Guess Column: 5\n"
       ]
      },
      {
       "output_type": "stream",
       "stream": "stdout",
       "text": [
        "You missed my battleship!\n"
       ]
      },
      {
       "html": [
        "<style type=\"text/css\">table.blockgrid {border: none;} .blockgrid tr {border: none;} .blockgrid td {padding: 0px;} #blocks347e44f2-b03c-489e-818a-5f5f0a5d2f25 td {border: 1px solid white;}</style><table id=\"blocks347e44f2-b03c-489e-818a-5f5f0a5d2f25\" class=\"blockgrid\"><tbody><tr><td title=\"Index: [0, 0]&#10;Color: (123, 195, 220)\" style=\"width: 20px; height: 20px;background-color: rgb(123, 195, 220);\"></td><td title=\"Index: [0, 1]&#10;Color: (123, 195, 220)\" style=\"width: 20px; height: 20px;background-color: rgb(123, 195, 220);\"></td><td title=\"Index: [0, 2]&#10;Color: (123, 195, 220)\" style=\"width: 20px; height: 20px;background-color: rgb(123, 195, 220);\"></td><td title=\"Index: [0, 3]&#10;Color: (123, 195, 220)\" style=\"width: 20px; height: 20px;background-color: rgb(123, 195, 220);\"></td><td title=\"Index: [0, 4]&#10;Color: (123, 195, 220)\" style=\"width: 20px; height: 20px;background-color: rgb(123, 195, 220);\"></td><td title=\"Index: [0, 5]&#10;Color: (123, 195, 220)\" style=\"width: 20px; height: 20px;background-color: rgb(123, 195, 220);\"></td><td title=\"Index: [0, 6]&#10;Color: (123, 195, 220)\" style=\"width: 20px; height: 20px;background-color: rgb(123, 195, 220);\"></td><td title=\"Index: [0, 7]&#10;Color: (123, 195, 220)\" style=\"width: 20px; height: 20px;background-color: rgb(123, 195, 220);\"></td><td title=\"Index: [0, 8]&#10;Color: (123, 195, 220)\" style=\"width: 20px; height: 20px;background-color: rgb(123, 195, 220);\"></td></tr><tr><td title=\"Index: [1, 0]&#10;Color: (123, 195, 220)\" style=\"width: 20px; height: 20px;background-color: rgb(123, 195, 220);\"></td><td title=\"Index: [1, 1]&#10;Color: (123, 195, 220)\" style=\"width: 20px; height: 20px;background-color: rgb(123, 195, 220);\"></td><td title=\"Index: [1, 2]&#10;Color: (123, 195, 220)\" style=\"width: 20px; height: 20px;background-color: rgb(123, 195, 220);\"></td><td title=\"Index: [1, 3]&#10;Color: (123, 195, 220)\" style=\"width: 20px; height: 20px;background-color: rgb(123, 195, 220);\"></td><td title=\"Index: [1, 4]&#10;Color: (123, 195, 220)\" style=\"width: 20px; height: 20px;background-color: rgb(123, 195, 220);\"></td><td title=\"Index: [1, 5]&#10;Color: (123, 195, 220)\" style=\"width: 20px; height: 20px;background-color: rgb(123, 195, 220);\"></td><td title=\"Index: [1, 6]&#10;Color: (123, 195, 220)\" style=\"width: 20px; height: 20px;background-color: rgb(123, 195, 220);\"></td><td title=\"Index: [1, 7]&#10;Color: (123, 195, 220)\" style=\"width: 20px; height: 20px;background-color: rgb(123, 195, 220);\"></td><td title=\"Index: [1, 8]&#10;Color: (123, 195, 220)\" style=\"width: 20px; height: 20px;background-color: rgb(123, 195, 220);\"></td></tr><tr><td title=\"Index: [2, 0]&#10;Color: (123, 195, 220)\" style=\"width: 20px; height: 20px;background-color: rgb(123, 195, 220);\"></td><td title=\"Index: [2, 1]&#10;Color: (123, 195, 220)\" style=\"width: 20px; height: 20px;background-color: rgb(123, 195, 220);\"></td><td title=\"Index: [2, 2]&#10;Color: (123, 195, 220)\" style=\"width: 20px; height: 20px;background-color: rgb(123, 195, 220);\"></td><td title=\"Index: [2, 3]&#10;Color: (123, 195, 220)\" style=\"width: 20px; height: 20px;background-color: rgb(123, 195, 220);\"></td><td title=\"Index: [2, 4]&#10;Color: (123, 195, 220)\" style=\"width: 20px; height: 20px;background-color: rgb(123, 195, 220);\"></td><td title=\"Index: [2, 5]&#10;Color: (123, 195, 220)\" style=\"width: 20px; height: 20px;background-color: rgb(123, 195, 220);\"></td><td title=\"Index: [2, 6]&#10;Color: (123, 195, 220)\" style=\"width: 20px; height: 20px;background-color: rgb(123, 195, 220);\"></td><td title=\"Index: [2, 7]&#10;Color: (123, 195, 220)\" style=\"width: 20px; height: 20px;background-color: rgb(123, 195, 220);\"></td><td title=\"Index: [2, 8]&#10;Color: (123, 195, 220)\" style=\"width: 20px; height: 20px;background-color: rgb(123, 195, 220);\"></td></tr><tr><td title=\"Index: [3, 0]&#10;Color: (123, 195, 220)\" style=\"width: 20px; height: 20px;background-color: rgb(123, 195, 220);\"></td><td title=\"Index: [3, 1]&#10;Color: (123, 195, 220)\" style=\"width: 20px; height: 20px;background-color: rgb(123, 195, 220);\"></td><td title=\"Index: [3, 2]&#10;Color: (123, 195, 220)\" style=\"width: 20px; height: 20px;background-color: rgb(123, 195, 220);\"></td><td title=\"Index: [3, 3]&#10;Color: (123, 195, 220)\" style=\"width: 20px; height: 20px;background-color: rgb(123, 195, 220);\"></td><td title=\"Index: [3, 4]&#10;Color: (123, 195, 220)\" style=\"width: 20px; height: 20px;background-color: rgb(123, 195, 220);\"></td><td title=\"Index: [3, 5]&#10;Color: (123, 195, 220)\" style=\"width: 20px; height: 20px;background-color: rgb(123, 195, 220);\"></td><td title=\"Index: [3, 6]&#10;Color: (123, 195, 220)\" style=\"width: 20px; height: 20px;background-color: rgb(123, 195, 220);\"></td><td title=\"Index: [3, 7]&#10;Color: (123, 195, 220)\" style=\"width: 20px; height: 20px;background-color: rgb(123, 195, 220);\"></td><td title=\"Index: [3, 8]&#10;Color: (123, 195, 220)\" style=\"width: 20px; height: 20px;background-color: rgb(123, 195, 220);\"></td></tr><tr><td title=\"Index: [4, 0]&#10;Color: (123, 195, 220)\" style=\"width: 20px; height: 20px;background-color: rgb(123, 195, 220);\"></td><td title=\"Index: [4, 1]&#10;Color: (123, 195, 220)\" style=\"width: 20px; height: 20px;background-color: rgb(123, 195, 220);\"></td><td title=\"Index: [4, 2]&#10;Color: (123, 195, 220)\" style=\"width: 20px; height: 20px;background-color: rgb(123, 195, 220);\"></td><td title=\"Index: [4, 3]&#10;Color: (123, 195, 220)\" style=\"width: 20px; height: 20px;background-color: rgb(123, 195, 220);\"></td><td title=\"Index: [4, 4]&#10;Color: (123, 195, 220)\" style=\"width: 20px; height: 20px;background-color: rgb(123, 195, 220);\"></td><td title=\"Index: [4, 5]&#10;Color: (123, 195, 220)\" style=\"width: 20px; height: 20px;background-color: rgb(123, 195, 220);\"></td><td title=\"Index: [4, 6]&#10;Color: (123, 195, 220)\" style=\"width: 20px; height: 20px;background-color: rgb(123, 195, 220);\"></td><td title=\"Index: [4, 7]&#10;Color: (123, 195, 220)\" style=\"width: 20px; height: 20px;background-color: rgb(123, 195, 220);\"></td><td title=\"Index: [4, 8]&#10;Color: (123, 195, 220)\" style=\"width: 20px; height: 20px;background-color: rgb(123, 195, 220);\"></td></tr><tr><td title=\"Index: [5, 0]&#10;Color: (123, 195, 220)\" style=\"width: 20px; height: 20px;background-color: rgb(123, 195, 220);\"></td><td title=\"Index: [5, 1]&#10;Color: (123, 195, 220)\" style=\"width: 20px; height: 20px;background-color: rgb(123, 195, 220);\"></td><td title=\"Index: [5, 2]&#10;Color: (123, 195, 220)\" style=\"width: 20px; height: 20px;background-color: rgb(123, 195, 220);\"></td><td title=\"Index: [5, 3]&#10;Color: (123, 195, 220)\" style=\"width: 20px; height: 20px;background-color: rgb(123, 195, 220);\"></td><td title=\"Index: [5, 4]&#10;Color: (123, 195, 220)\" style=\"width: 20px; height: 20px;background-color: rgb(123, 195, 220);\"></td><td title=\"Index: [5, 5]&#10;Color: (0, 0, 139)\" style=\"width: 20px; height: 20px;background-color: rgb(0, 0, 139);\"></td><td title=\"Index: [5, 6]&#10;Color: (123, 195, 220)\" style=\"width: 20px; height: 20px;background-color: rgb(123, 195, 220);\"></td><td title=\"Index: [5, 7]&#10;Color: (123, 195, 220)\" style=\"width: 20px; height: 20px;background-color: rgb(123, 195, 220);\"></td><td title=\"Index: [5, 8]&#10;Color: (123, 195, 220)\" style=\"width: 20px; height: 20px;background-color: rgb(123, 195, 220);\"></td></tr><tr><td title=\"Index: [6, 0]&#10;Color: (123, 195, 220)\" style=\"width: 20px; height: 20px;background-color: rgb(123, 195, 220);\"></td><td title=\"Index: [6, 1]&#10;Color: (123, 195, 220)\" style=\"width: 20px; height: 20px;background-color: rgb(123, 195, 220);\"></td><td title=\"Index: [6, 2]&#10;Color: (123, 195, 220)\" style=\"width: 20px; height: 20px;background-color: rgb(123, 195, 220);\"></td><td title=\"Index: [6, 3]&#10;Color: (123, 195, 220)\" style=\"width: 20px; height: 20px;background-color: rgb(123, 195, 220);\"></td><td title=\"Index: [6, 4]&#10;Color: (123, 195, 220)\" style=\"width: 20px; height: 20px;background-color: rgb(123, 195, 220);\"></td><td title=\"Index: [6, 5]&#10;Color: (123, 195, 220)\" style=\"width: 20px; height: 20px;background-color: rgb(123, 195, 220);\"></td><td title=\"Index: [6, 6]&#10;Color: (123, 195, 220)\" style=\"width: 20px; height: 20px;background-color: rgb(123, 195, 220);\"></td><td title=\"Index: [6, 7]&#10;Color: (123, 195, 220)\" style=\"width: 20px; height: 20px;background-color: rgb(123, 195, 220);\"></td><td title=\"Index: [6, 8]&#10;Color: (123, 195, 220)\" style=\"width: 20px; height: 20px;background-color: rgb(123, 195, 220);\"></td></tr><tr><td title=\"Index: [7, 0]&#10;Color: (123, 195, 220)\" style=\"width: 20px; height: 20px;background-color: rgb(123, 195, 220);\"></td><td title=\"Index: [7, 1]&#10;Color: (123, 195, 220)\" style=\"width: 20px; height: 20px;background-color: rgb(123, 195, 220);\"></td><td title=\"Index: [7, 2]&#10;Color: (123, 195, 220)\" style=\"width: 20px; height: 20px;background-color: rgb(123, 195, 220);\"></td><td title=\"Index: [7, 3]&#10;Color: (123, 195, 220)\" style=\"width: 20px; height: 20px;background-color: rgb(123, 195, 220);\"></td><td title=\"Index: [7, 4]&#10;Color: (123, 195, 220)\" style=\"width: 20px; height: 20px;background-color: rgb(123, 195, 220);\"></td><td title=\"Index: [7, 5]&#10;Color: (123, 195, 220)\" style=\"width: 20px; height: 20px;background-color: rgb(123, 195, 220);\"></td><td title=\"Index: [7, 6]&#10;Color: (123, 195, 220)\" style=\"width: 20px; height: 20px;background-color: rgb(123, 195, 220);\"></td><td title=\"Index: [7, 7]&#10;Color: (123, 195, 220)\" style=\"width: 20px; height: 20px;background-color: rgb(123, 195, 220);\"></td><td title=\"Index: [7, 8]&#10;Color: (123, 195, 220)\" style=\"width: 20px; height: 20px;background-color: rgb(123, 195, 220);\"></td></tr><tr><td title=\"Index: [8, 0]&#10;Color: (123, 195, 220)\" style=\"width: 20px; height: 20px;background-color: rgb(123, 195, 220);\"></td><td title=\"Index: [8, 1]&#10;Color: (123, 195, 220)\" style=\"width: 20px; height: 20px;background-color: rgb(123, 195, 220);\"></td><td title=\"Index: [8, 2]&#10;Color: (123, 195, 220)\" style=\"width: 20px; height: 20px;background-color: rgb(123, 195, 220);\"></td><td title=\"Index: [8, 3]&#10;Color: (123, 195, 220)\" style=\"width: 20px; height: 20px;background-color: rgb(123, 195, 220);\"></td><td title=\"Index: [8, 4]&#10;Color: (123, 195, 220)\" style=\"width: 20px; height: 20px;background-color: rgb(123, 195, 220);\"></td><td title=\"Index: [8, 5]&#10;Color: (123, 195, 220)\" style=\"width: 20px; height: 20px;background-color: rgb(123, 195, 220);\"></td><td title=\"Index: [8, 6]&#10;Color: (123, 195, 220)\" style=\"width: 20px; height: 20px;background-color: rgb(123, 195, 220);\"></td><td title=\"Index: [8, 7]&#10;Color: (123, 195, 220)\" style=\"width: 20px; height: 20px;background-color: rgb(123, 195, 220);\"></td><td title=\"Index: [8, 8]&#10;Color: (123, 195, 220)\" style=\"width: 20px; height: 20px;background-color: rgb(123, 195, 220);\"></td></tr></tbody></table>"
       ],
       "metadata": {},
       "output_type": "display_data",
       "text": [
        "<IPython.core.display.HTML at 0x1dd7f28>"
       ]
      },
      {
       "output_type": "stream",
       "stream": "stdout",
       "text": [
        "Turn: 2\n"
       ]
      },
      {
       "name": "stdout",
       "output_type": "stream",
       "stream": "stdout",
       "text": [
        "Guess Row: 5\n"
       ]
      },
      {
       "name": "stdout",
       "output_type": "stream",
       "stream": "stdout",
       "text": [
        "Guess Column: 5\n"
       ]
      },
      {
       "output_type": "stream",
       "stream": "stdout",
       "text": [
        "You guessed that one already.\n",
        "Turn: 2\n"
       ]
      },
      {
       "name": "stdout",
       "output_type": "stream",
       "stream": "stdout",
       "text": [
        "Guess Row: 9\n"
       ]
      },
      {
       "name": "stdout",
       "output_type": "stream",
       "stream": "stdout",
       "text": [
        "Guess Column: 0\n"
       ]
      },
      {
       "output_type": "stream",
       "stream": "stdout",
       "text": [
        "Oops, that's not even in the ocean.\n",
        "Turn: 2\n"
       ]
      },
      {
       "name": "stdout",
       "output_type": "stream",
       "stream": "stdout",
       "text": [
        "Guess Row: 4\n"
       ]
      },
      {
       "name": "stdout",
       "output_type": "stream",
       "stream": "stdout",
       "text": [
        "Guess Column: 5\n"
       ]
      },
      {
       "output_type": "stream",
       "stream": "stdout",
       "text": [
        "You missed my battleship!\n"
       ]
      },
      {
       "html": [
        "<style type=\"text/css\">table.blockgrid {border: none;} .blockgrid tr {border: none;} .blockgrid td {padding: 0px;} #blocks9a9fd9a7-4e2c-4b0e-846f-5cb514f770c2 td {border: 1px solid white;}</style><table id=\"blocks9a9fd9a7-4e2c-4b0e-846f-5cb514f770c2\" class=\"blockgrid\"><tbody><tr><td title=\"Index: [0, 0]&#10;Color: (123, 195, 220)\" style=\"width: 20px; height: 20px;background-color: rgb(123, 195, 220);\"></td><td title=\"Index: [0, 1]&#10;Color: (123, 195, 220)\" style=\"width: 20px; height: 20px;background-color: rgb(123, 195, 220);\"></td><td title=\"Index: [0, 2]&#10;Color: (123, 195, 220)\" style=\"width: 20px; height: 20px;background-color: rgb(123, 195, 220);\"></td><td title=\"Index: [0, 3]&#10;Color: (123, 195, 220)\" style=\"width: 20px; height: 20px;background-color: rgb(123, 195, 220);\"></td><td title=\"Index: [0, 4]&#10;Color: (123, 195, 220)\" style=\"width: 20px; height: 20px;background-color: rgb(123, 195, 220);\"></td><td title=\"Index: [0, 5]&#10;Color: (123, 195, 220)\" style=\"width: 20px; height: 20px;background-color: rgb(123, 195, 220);\"></td><td title=\"Index: [0, 6]&#10;Color: (123, 195, 220)\" style=\"width: 20px; height: 20px;background-color: rgb(123, 195, 220);\"></td><td title=\"Index: [0, 7]&#10;Color: (123, 195, 220)\" style=\"width: 20px; height: 20px;background-color: rgb(123, 195, 220);\"></td><td title=\"Index: [0, 8]&#10;Color: (123, 195, 220)\" style=\"width: 20px; height: 20px;background-color: rgb(123, 195, 220);\"></td></tr><tr><td title=\"Index: [1, 0]&#10;Color: (123, 195, 220)\" style=\"width: 20px; height: 20px;background-color: rgb(123, 195, 220);\"></td><td title=\"Index: [1, 1]&#10;Color: (123, 195, 220)\" style=\"width: 20px; height: 20px;background-color: rgb(123, 195, 220);\"></td><td title=\"Index: [1, 2]&#10;Color: (123, 195, 220)\" style=\"width: 20px; height: 20px;background-color: rgb(123, 195, 220);\"></td><td title=\"Index: [1, 3]&#10;Color: (123, 195, 220)\" style=\"width: 20px; height: 20px;background-color: rgb(123, 195, 220);\"></td><td title=\"Index: [1, 4]&#10;Color: (123, 195, 220)\" style=\"width: 20px; height: 20px;background-color: rgb(123, 195, 220);\"></td><td title=\"Index: [1, 5]&#10;Color: (123, 195, 220)\" style=\"width: 20px; height: 20px;background-color: rgb(123, 195, 220);\"></td><td title=\"Index: [1, 6]&#10;Color: (123, 195, 220)\" style=\"width: 20px; height: 20px;background-color: rgb(123, 195, 220);\"></td><td title=\"Index: [1, 7]&#10;Color: (123, 195, 220)\" style=\"width: 20px; height: 20px;background-color: rgb(123, 195, 220);\"></td><td title=\"Index: [1, 8]&#10;Color: (123, 195, 220)\" style=\"width: 20px; height: 20px;background-color: rgb(123, 195, 220);\"></td></tr><tr><td title=\"Index: [2, 0]&#10;Color: (123, 195, 220)\" style=\"width: 20px; height: 20px;background-color: rgb(123, 195, 220);\"></td><td title=\"Index: [2, 1]&#10;Color: (123, 195, 220)\" style=\"width: 20px; height: 20px;background-color: rgb(123, 195, 220);\"></td><td title=\"Index: [2, 2]&#10;Color: (123, 195, 220)\" style=\"width: 20px; height: 20px;background-color: rgb(123, 195, 220);\"></td><td title=\"Index: [2, 3]&#10;Color: (123, 195, 220)\" style=\"width: 20px; height: 20px;background-color: rgb(123, 195, 220);\"></td><td title=\"Index: [2, 4]&#10;Color: (123, 195, 220)\" style=\"width: 20px; height: 20px;background-color: rgb(123, 195, 220);\"></td><td title=\"Index: [2, 5]&#10;Color: (123, 195, 220)\" style=\"width: 20px; height: 20px;background-color: rgb(123, 195, 220);\"></td><td title=\"Index: [2, 6]&#10;Color: (123, 195, 220)\" style=\"width: 20px; height: 20px;background-color: rgb(123, 195, 220);\"></td><td title=\"Index: [2, 7]&#10;Color: (123, 195, 220)\" style=\"width: 20px; height: 20px;background-color: rgb(123, 195, 220);\"></td><td title=\"Index: [2, 8]&#10;Color: (123, 195, 220)\" style=\"width: 20px; height: 20px;background-color: rgb(123, 195, 220);\"></td></tr><tr><td title=\"Index: [3, 0]&#10;Color: (123, 195, 220)\" style=\"width: 20px; height: 20px;background-color: rgb(123, 195, 220);\"></td><td title=\"Index: [3, 1]&#10;Color: (123, 195, 220)\" style=\"width: 20px; height: 20px;background-color: rgb(123, 195, 220);\"></td><td title=\"Index: [3, 2]&#10;Color: (123, 195, 220)\" style=\"width: 20px; height: 20px;background-color: rgb(123, 195, 220);\"></td><td title=\"Index: [3, 3]&#10;Color: (123, 195, 220)\" style=\"width: 20px; height: 20px;background-color: rgb(123, 195, 220);\"></td><td title=\"Index: [3, 4]&#10;Color: (123, 195, 220)\" style=\"width: 20px; height: 20px;background-color: rgb(123, 195, 220);\"></td><td title=\"Index: [3, 5]&#10;Color: (123, 195, 220)\" style=\"width: 20px; height: 20px;background-color: rgb(123, 195, 220);\"></td><td title=\"Index: [3, 6]&#10;Color: (123, 195, 220)\" style=\"width: 20px; height: 20px;background-color: rgb(123, 195, 220);\"></td><td title=\"Index: [3, 7]&#10;Color: (123, 195, 220)\" style=\"width: 20px; height: 20px;background-color: rgb(123, 195, 220);\"></td><td title=\"Index: [3, 8]&#10;Color: (123, 195, 220)\" style=\"width: 20px; height: 20px;background-color: rgb(123, 195, 220);\"></td></tr><tr><td title=\"Index: [4, 0]&#10;Color: (123, 195, 220)\" style=\"width: 20px; height: 20px;background-color: rgb(123, 195, 220);\"></td><td title=\"Index: [4, 1]&#10;Color: (123, 195, 220)\" style=\"width: 20px; height: 20px;background-color: rgb(123, 195, 220);\"></td><td title=\"Index: [4, 2]&#10;Color: (123, 195, 220)\" style=\"width: 20px; height: 20px;background-color: rgb(123, 195, 220);\"></td><td title=\"Index: [4, 3]&#10;Color: (123, 195, 220)\" style=\"width: 20px; height: 20px;background-color: rgb(123, 195, 220);\"></td><td title=\"Index: [4, 4]&#10;Color: (123, 195, 220)\" style=\"width: 20px; height: 20px;background-color: rgb(123, 195, 220);\"></td><td title=\"Index: [4, 5]&#10;Color: (123, 195, 220)\" style=\"width: 20px; height: 20px;background-color: rgb(123, 195, 220);\"></td><td title=\"Index: [4, 6]&#10;Color: (123, 195, 220)\" style=\"width: 20px; height: 20px;background-color: rgb(123, 195, 220);\"></td><td title=\"Index: [4, 7]&#10;Color: (123, 195, 220)\" style=\"width: 20px; height: 20px;background-color: rgb(123, 195, 220);\"></td><td title=\"Index: [4, 8]&#10;Color: (123, 195, 220)\" style=\"width: 20px; height: 20px;background-color: rgb(123, 195, 220);\"></td></tr><tr><td title=\"Index: [5, 0]&#10;Color: (123, 195, 220)\" style=\"width: 20px; height: 20px;background-color: rgb(123, 195, 220);\"></td><td title=\"Index: [5, 1]&#10;Color: (123, 195, 220)\" style=\"width: 20px; height: 20px;background-color: rgb(123, 195, 220);\"></td><td title=\"Index: [5, 2]&#10;Color: (123, 195, 220)\" style=\"width: 20px; height: 20px;background-color: rgb(123, 195, 220);\"></td><td title=\"Index: [5, 3]&#10;Color: (123, 195, 220)\" style=\"width: 20px; height: 20px;background-color: rgb(123, 195, 220);\"></td><td title=\"Index: [5, 4]&#10;Color: (0, 0, 139)\" style=\"width: 20px; height: 20px;background-color: rgb(0, 0, 139);\"></td><td title=\"Index: [5, 5]&#10;Color: (0, 0, 139)\" style=\"width: 20px; height: 20px;background-color: rgb(0, 0, 139);\"></td><td title=\"Index: [5, 6]&#10;Color: (123, 195, 220)\" style=\"width: 20px; height: 20px;background-color: rgb(123, 195, 220);\"></td><td title=\"Index: [5, 7]&#10;Color: (123, 195, 220)\" style=\"width: 20px; height: 20px;background-color: rgb(123, 195, 220);\"></td><td title=\"Index: [5, 8]&#10;Color: (123, 195, 220)\" style=\"width: 20px; height: 20px;background-color: rgb(123, 195, 220);\"></td></tr><tr><td title=\"Index: [6, 0]&#10;Color: (123, 195, 220)\" style=\"width: 20px; height: 20px;background-color: rgb(123, 195, 220);\"></td><td title=\"Index: [6, 1]&#10;Color: (123, 195, 220)\" style=\"width: 20px; height: 20px;background-color: rgb(123, 195, 220);\"></td><td title=\"Index: [6, 2]&#10;Color: (123, 195, 220)\" style=\"width: 20px; height: 20px;background-color: rgb(123, 195, 220);\"></td><td title=\"Index: [6, 3]&#10;Color: (123, 195, 220)\" style=\"width: 20px; height: 20px;background-color: rgb(123, 195, 220);\"></td><td title=\"Index: [6, 4]&#10;Color: (123, 195, 220)\" style=\"width: 20px; height: 20px;background-color: rgb(123, 195, 220);\"></td><td title=\"Index: [6, 5]&#10;Color: (123, 195, 220)\" style=\"width: 20px; height: 20px;background-color: rgb(123, 195, 220);\"></td><td title=\"Index: [6, 6]&#10;Color: (123, 195, 220)\" style=\"width: 20px; height: 20px;background-color: rgb(123, 195, 220);\"></td><td title=\"Index: [6, 7]&#10;Color: (123, 195, 220)\" style=\"width: 20px; height: 20px;background-color: rgb(123, 195, 220);\"></td><td title=\"Index: [6, 8]&#10;Color: (123, 195, 220)\" style=\"width: 20px; height: 20px;background-color: rgb(123, 195, 220);\"></td></tr><tr><td title=\"Index: [7, 0]&#10;Color: (123, 195, 220)\" style=\"width: 20px; height: 20px;background-color: rgb(123, 195, 220);\"></td><td title=\"Index: [7, 1]&#10;Color: (123, 195, 220)\" style=\"width: 20px; height: 20px;background-color: rgb(123, 195, 220);\"></td><td title=\"Index: [7, 2]&#10;Color: (123, 195, 220)\" style=\"width: 20px; height: 20px;background-color: rgb(123, 195, 220);\"></td><td title=\"Index: [7, 3]&#10;Color: (123, 195, 220)\" style=\"width: 20px; height: 20px;background-color: rgb(123, 195, 220);\"></td><td title=\"Index: [7, 4]&#10;Color: (123, 195, 220)\" style=\"width: 20px; height: 20px;background-color: rgb(123, 195, 220);\"></td><td title=\"Index: [7, 5]&#10;Color: (123, 195, 220)\" style=\"width: 20px; height: 20px;background-color: rgb(123, 195, 220);\"></td><td title=\"Index: [7, 6]&#10;Color: (123, 195, 220)\" style=\"width: 20px; height: 20px;background-color: rgb(123, 195, 220);\"></td><td title=\"Index: [7, 7]&#10;Color: (123, 195, 220)\" style=\"width: 20px; height: 20px;background-color: rgb(123, 195, 220);\"></td><td title=\"Index: [7, 8]&#10;Color: (123, 195, 220)\" style=\"width: 20px; height: 20px;background-color: rgb(123, 195, 220);\"></td></tr><tr><td title=\"Index: [8, 0]&#10;Color: (123, 195, 220)\" style=\"width: 20px; height: 20px;background-color: rgb(123, 195, 220);\"></td><td title=\"Index: [8, 1]&#10;Color: (123, 195, 220)\" style=\"width: 20px; height: 20px;background-color: rgb(123, 195, 220);\"></td><td title=\"Index: [8, 2]&#10;Color: (123, 195, 220)\" style=\"width: 20px; height: 20px;background-color: rgb(123, 195, 220);\"></td><td title=\"Index: [8, 3]&#10;Color: (123, 195, 220)\" style=\"width: 20px; height: 20px;background-color: rgb(123, 195, 220);\"></td><td title=\"Index: [8, 4]&#10;Color: (123, 195, 220)\" style=\"width: 20px; height: 20px;background-color: rgb(123, 195, 220);\"></td><td title=\"Index: [8, 5]&#10;Color: (123, 195, 220)\" style=\"width: 20px; height: 20px;background-color: rgb(123, 195, 220);\"></td><td title=\"Index: [8, 6]&#10;Color: (123, 195, 220)\" style=\"width: 20px; height: 20px;background-color: rgb(123, 195, 220);\"></td><td title=\"Index: [8, 7]&#10;Color: (123, 195, 220)\" style=\"width: 20px; height: 20px;background-color: rgb(123, 195, 220);\"></td><td title=\"Index: [8, 8]&#10;Color: (123, 195, 220)\" style=\"width: 20px; height: 20px;background-color: rgb(123, 195, 220);\"></td></tr></tbody></table>"
       ],
       "metadata": {},
       "output_type": "display_data",
       "text": [
        "<IPython.core.display.HTML at 0x2c487f0>"
       ]
      },
      {
       "output_type": "stream",
       "stream": "stdout",
       "text": [
        "Turn: 3\n"
       ]
      },
      {
       "name": "stdout",
       "output_type": "stream",
       "stream": "stdout",
       "text": [
        "Guess Row: 4\n"
       ]
      },
      {
       "name": "stdout",
       "output_type": "stream",
       "stream": "stdout",
       "text": [
        "Guess Column: 4\n"
       ]
      },
      {
       "output_type": "stream",
       "stream": "stdout",
       "text": [
        "You missed my battleship!\n"
       ]
      },
      {
       "html": [
        "<style type=\"text/css\">table.blockgrid {border: none;} .blockgrid tr {border: none;} .blockgrid td {padding: 0px;} #blocksd1b06d12-f96b-486a-b36b-e6fdf52831f7 td {border: 1px solid white;}</style><table id=\"blocksd1b06d12-f96b-486a-b36b-e6fdf52831f7\" class=\"blockgrid\"><tbody><tr><td title=\"Index: [0, 0]&#10;Color: (123, 195, 220)\" style=\"width: 20px; height: 20px;background-color: rgb(123, 195, 220);\"></td><td title=\"Index: [0, 1]&#10;Color: (123, 195, 220)\" style=\"width: 20px; height: 20px;background-color: rgb(123, 195, 220);\"></td><td title=\"Index: [0, 2]&#10;Color: (123, 195, 220)\" style=\"width: 20px; height: 20px;background-color: rgb(123, 195, 220);\"></td><td title=\"Index: [0, 3]&#10;Color: (123, 195, 220)\" style=\"width: 20px; height: 20px;background-color: rgb(123, 195, 220);\"></td><td title=\"Index: [0, 4]&#10;Color: (123, 195, 220)\" style=\"width: 20px; height: 20px;background-color: rgb(123, 195, 220);\"></td><td title=\"Index: [0, 5]&#10;Color: (123, 195, 220)\" style=\"width: 20px; height: 20px;background-color: rgb(123, 195, 220);\"></td><td title=\"Index: [0, 6]&#10;Color: (123, 195, 220)\" style=\"width: 20px; height: 20px;background-color: rgb(123, 195, 220);\"></td><td title=\"Index: [0, 7]&#10;Color: (123, 195, 220)\" style=\"width: 20px; height: 20px;background-color: rgb(123, 195, 220);\"></td><td title=\"Index: [0, 8]&#10;Color: (123, 195, 220)\" style=\"width: 20px; height: 20px;background-color: rgb(123, 195, 220);\"></td></tr><tr><td title=\"Index: [1, 0]&#10;Color: (123, 195, 220)\" style=\"width: 20px; height: 20px;background-color: rgb(123, 195, 220);\"></td><td title=\"Index: [1, 1]&#10;Color: (123, 195, 220)\" style=\"width: 20px; height: 20px;background-color: rgb(123, 195, 220);\"></td><td title=\"Index: [1, 2]&#10;Color: (123, 195, 220)\" style=\"width: 20px; height: 20px;background-color: rgb(123, 195, 220);\"></td><td title=\"Index: [1, 3]&#10;Color: (123, 195, 220)\" style=\"width: 20px; height: 20px;background-color: rgb(123, 195, 220);\"></td><td title=\"Index: [1, 4]&#10;Color: (123, 195, 220)\" style=\"width: 20px; height: 20px;background-color: rgb(123, 195, 220);\"></td><td title=\"Index: [1, 5]&#10;Color: (123, 195, 220)\" style=\"width: 20px; height: 20px;background-color: rgb(123, 195, 220);\"></td><td title=\"Index: [1, 6]&#10;Color: (123, 195, 220)\" style=\"width: 20px; height: 20px;background-color: rgb(123, 195, 220);\"></td><td title=\"Index: [1, 7]&#10;Color: (123, 195, 220)\" style=\"width: 20px; height: 20px;background-color: rgb(123, 195, 220);\"></td><td title=\"Index: [1, 8]&#10;Color: (123, 195, 220)\" style=\"width: 20px; height: 20px;background-color: rgb(123, 195, 220);\"></td></tr><tr><td title=\"Index: [2, 0]&#10;Color: (123, 195, 220)\" style=\"width: 20px; height: 20px;background-color: rgb(123, 195, 220);\"></td><td title=\"Index: [2, 1]&#10;Color: (123, 195, 220)\" style=\"width: 20px; height: 20px;background-color: rgb(123, 195, 220);\"></td><td title=\"Index: [2, 2]&#10;Color: (123, 195, 220)\" style=\"width: 20px; height: 20px;background-color: rgb(123, 195, 220);\"></td><td title=\"Index: [2, 3]&#10;Color: (123, 195, 220)\" style=\"width: 20px; height: 20px;background-color: rgb(123, 195, 220);\"></td><td title=\"Index: [2, 4]&#10;Color: (123, 195, 220)\" style=\"width: 20px; height: 20px;background-color: rgb(123, 195, 220);\"></td><td title=\"Index: [2, 5]&#10;Color: (123, 195, 220)\" style=\"width: 20px; height: 20px;background-color: rgb(123, 195, 220);\"></td><td title=\"Index: [2, 6]&#10;Color: (123, 195, 220)\" style=\"width: 20px; height: 20px;background-color: rgb(123, 195, 220);\"></td><td title=\"Index: [2, 7]&#10;Color: (123, 195, 220)\" style=\"width: 20px; height: 20px;background-color: rgb(123, 195, 220);\"></td><td title=\"Index: [2, 8]&#10;Color: (123, 195, 220)\" style=\"width: 20px; height: 20px;background-color: rgb(123, 195, 220);\"></td></tr><tr><td title=\"Index: [3, 0]&#10;Color: (123, 195, 220)\" style=\"width: 20px; height: 20px;background-color: rgb(123, 195, 220);\"></td><td title=\"Index: [3, 1]&#10;Color: (123, 195, 220)\" style=\"width: 20px; height: 20px;background-color: rgb(123, 195, 220);\"></td><td title=\"Index: [3, 2]&#10;Color: (123, 195, 220)\" style=\"width: 20px; height: 20px;background-color: rgb(123, 195, 220);\"></td><td title=\"Index: [3, 3]&#10;Color: (123, 195, 220)\" style=\"width: 20px; height: 20px;background-color: rgb(123, 195, 220);\"></td><td title=\"Index: [3, 4]&#10;Color: (123, 195, 220)\" style=\"width: 20px; height: 20px;background-color: rgb(123, 195, 220);\"></td><td title=\"Index: [3, 5]&#10;Color: (123, 195, 220)\" style=\"width: 20px; height: 20px;background-color: rgb(123, 195, 220);\"></td><td title=\"Index: [3, 6]&#10;Color: (123, 195, 220)\" style=\"width: 20px; height: 20px;background-color: rgb(123, 195, 220);\"></td><td title=\"Index: [3, 7]&#10;Color: (123, 195, 220)\" style=\"width: 20px; height: 20px;background-color: rgb(123, 195, 220);\"></td><td title=\"Index: [3, 8]&#10;Color: (123, 195, 220)\" style=\"width: 20px; height: 20px;background-color: rgb(123, 195, 220);\"></td></tr><tr><td title=\"Index: [4, 0]&#10;Color: (123, 195, 220)\" style=\"width: 20px; height: 20px;background-color: rgb(123, 195, 220);\"></td><td title=\"Index: [4, 1]&#10;Color: (123, 195, 220)\" style=\"width: 20px; height: 20px;background-color: rgb(123, 195, 220);\"></td><td title=\"Index: [4, 2]&#10;Color: (123, 195, 220)\" style=\"width: 20px; height: 20px;background-color: rgb(123, 195, 220);\"></td><td title=\"Index: [4, 3]&#10;Color: (123, 195, 220)\" style=\"width: 20px; height: 20px;background-color: rgb(123, 195, 220);\"></td><td title=\"Index: [4, 4]&#10;Color: (0, 0, 139)\" style=\"width: 20px; height: 20px;background-color: rgb(0, 0, 139);\"></td><td title=\"Index: [4, 5]&#10;Color: (123, 195, 220)\" style=\"width: 20px; height: 20px;background-color: rgb(123, 195, 220);\"></td><td title=\"Index: [4, 6]&#10;Color: (123, 195, 220)\" style=\"width: 20px; height: 20px;background-color: rgb(123, 195, 220);\"></td><td title=\"Index: [4, 7]&#10;Color: (123, 195, 220)\" style=\"width: 20px; height: 20px;background-color: rgb(123, 195, 220);\"></td><td title=\"Index: [4, 8]&#10;Color: (123, 195, 220)\" style=\"width: 20px; height: 20px;background-color: rgb(123, 195, 220);\"></td></tr><tr><td title=\"Index: [5, 0]&#10;Color: (123, 195, 220)\" style=\"width: 20px; height: 20px;background-color: rgb(123, 195, 220);\"></td><td title=\"Index: [5, 1]&#10;Color: (123, 195, 220)\" style=\"width: 20px; height: 20px;background-color: rgb(123, 195, 220);\"></td><td title=\"Index: [5, 2]&#10;Color: (123, 195, 220)\" style=\"width: 20px; height: 20px;background-color: rgb(123, 195, 220);\"></td><td title=\"Index: [5, 3]&#10;Color: (123, 195, 220)\" style=\"width: 20px; height: 20px;background-color: rgb(123, 195, 220);\"></td><td title=\"Index: [5, 4]&#10;Color: (0, 0, 139)\" style=\"width: 20px; height: 20px;background-color: rgb(0, 0, 139);\"></td><td title=\"Index: [5, 5]&#10;Color: (0, 0, 139)\" style=\"width: 20px; height: 20px;background-color: rgb(0, 0, 139);\"></td><td title=\"Index: [5, 6]&#10;Color: (123, 195, 220)\" style=\"width: 20px; height: 20px;background-color: rgb(123, 195, 220);\"></td><td title=\"Index: [5, 7]&#10;Color: (123, 195, 220)\" style=\"width: 20px; height: 20px;background-color: rgb(123, 195, 220);\"></td><td title=\"Index: [5, 8]&#10;Color: (123, 195, 220)\" style=\"width: 20px; height: 20px;background-color: rgb(123, 195, 220);\"></td></tr><tr><td title=\"Index: [6, 0]&#10;Color: (123, 195, 220)\" style=\"width: 20px; height: 20px;background-color: rgb(123, 195, 220);\"></td><td title=\"Index: [6, 1]&#10;Color: (123, 195, 220)\" style=\"width: 20px; height: 20px;background-color: rgb(123, 195, 220);\"></td><td title=\"Index: [6, 2]&#10;Color: (123, 195, 220)\" style=\"width: 20px; height: 20px;background-color: rgb(123, 195, 220);\"></td><td title=\"Index: [6, 3]&#10;Color: (123, 195, 220)\" style=\"width: 20px; height: 20px;background-color: rgb(123, 195, 220);\"></td><td title=\"Index: [6, 4]&#10;Color: (123, 195, 220)\" style=\"width: 20px; height: 20px;background-color: rgb(123, 195, 220);\"></td><td title=\"Index: [6, 5]&#10;Color: (123, 195, 220)\" style=\"width: 20px; height: 20px;background-color: rgb(123, 195, 220);\"></td><td title=\"Index: [6, 6]&#10;Color: (123, 195, 220)\" style=\"width: 20px; height: 20px;background-color: rgb(123, 195, 220);\"></td><td title=\"Index: [6, 7]&#10;Color: (123, 195, 220)\" style=\"width: 20px; height: 20px;background-color: rgb(123, 195, 220);\"></td><td title=\"Index: [6, 8]&#10;Color: (123, 195, 220)\" style=\"width: 20px; height: 20px;background-color: rgb(123, 195, 220);\"></td></tr><tr><td title=\"Index: [7, 0]&#10;Color: (123, 195, 220)\" style=\"width: 20px; height: 20px;background-color: rgb(123, 195, 220);\"></td><td title=\"Index: [7, 1]&#10;Color: (123, 195, 220)\" style=\"width: 20px; height: 20px;background-color: rgb(123, 195, 220);\"></td><td title=\"Index: [7, 2]&#10;Color: (123, 195, 220)\" style=\"width: 20px; height: 20px;background-color: rgb(123, 195, 220);\"></td><td title=\"Index: [7, 3]&#10;Color: (123, 195, 220)\" style=\"width: 20px; height: 20px;background-color: rgb(123, 195, 220);\"></td><td title=\"Index: [7, 4]&#10;Color: (123, 195, 220)\" style=\"width: 20px; height: 20px;background-color: rgb(123, 195, 220);\"></td><td title=\"Index: [7, 5]&#10;Color: (123, 195, 220)\" style=\"width: 20px; height: 20px;background-color: rgb(123, 195, 220);\"></td><td title=\"Index: [7, 6]&#10;Color: (123, 195, 220)\" style=\"width: 20px; height: 20px;background-color: rgb(123, 195, 220);\"></td><td title=\"Index: [7, 7]&#10;Color: (123, 195, 220)\" style=\"width: 20px; height: 20px;background-color: rgb(123, 195, 220);\"></td><td title=\"Index: [7, 8]&#10;Color: (123, 195, 220)\" style=\"width: 20px; height: 20px;background-color: rgb(123, 195, 220);\"></td></tr><tr><td title=\"Index: [8, 0]&#10;Color: (123, 195, 220)\" style=\"width: 20px; height: 20px;background-color: rgb(123, 195, 220);\"></td><td title=\"Index: [8, 1]&#10;Color: (123, 195, 220)\" style=\"width: 20px; height: 20px;background-color: rgb(123, 195, 220);\"></td><td title=\"Index: [8, 2]&#10;Color: (123, 195, 220)\" style=\"width: 20px; height: 20px;background-color: rgb(123, 195, 220);\"></td><td title=\"Index: [8, 3]&#10;Color: (123, 195, 220)\" style=\"width: 20px; height: 20px;background-color: rgb(123, 195, 220);\"></td><td title=\"Index: [8, 4]&#10;Color: (123, 195, 220)\" style=\"width: 20px; height: 20px;background-color: rgb(123, 195, 220);\"></td><td title=\"Index: [8, 5]&#10;Color: (123, 195, 220)\" style=\"width: 20px; height: 20px;background-color: rgb(123, 195, 220);\"></td><td title=\"Index: [8, 6]&#10;Color: (123, 195, 220)\" style=\"width: 20px; height: 20px;background-color: rgb(123, 195, 220);\"></td><td title=\"Index: [8, 7]&#10;Color: (123, 195, 220)\" style=\"width: 20px; height: 20px;background-color: rgb(123, 195, 220);\"></td><td title=\"Index: [8, 8]&#10;Color: (123, 195, 220)\" style=\"width: 20px; height: 20px;background-color: rgb(123, 195, 220);\"></td></tr></tbody></table>"
       ],
       "metadata": {},
       "output_type": "display_data",
       "text": [
        "<IPython.core.display.HTML at 0x1e76400>"
       ]
      },
      {
       "output_type": "stream",
       "stream": "stdout",
       "text": [
        "Turn: 4\n"
       ]
      },
      {
       "name": "stdout",
       "output_type": "stream",
       "stream": "stdout",
       "text": [
        "Guess Row: 3\n"
       ]
      },
      {
       "name": "stdout",
       "output_type": "stream",
       "stream": "stdout",
       "text": [
        "Guess Column: 3\n"
       ]
      },
      {
       "output_type": "stream",
       "stream": "stdout",
       "text": [
        "You missed my battleship!\n"
       ]
      },
      {
       "html": [
        "<style type=\"text/css\">table.blockgrid {border: none;} .blockgrid tr {border: none;} .blockgrid td {padding: 0px;} #blocks9bf25a4f-1516-4e74-93d7-d3a6ae7811ef td {border: 1px solid white;}</style><table id=\"blocks9bf25a4f-1516-4e74-93d7-d3a6ae7811ef\" class=\"blockgrid\"><tbody><tr><td title=\"Index: [0, 0]&#10;Color: (123, 195, 220)\" style=\"width: 20px; height: 20px;background-color: rgb(123, 195, 220);\"></td><td title=\"Index: [0, 1]&#10;Color: (123, 195, 220)\" style=\"width: 20px; height: 20px;background-color: rgb(123, 195, 220);\"></td><td title=\"Index: [0, 2]&#10;Color: (123, 195, 220)\" style=\"width: 20px; height: 20px;background-color: rgb(123, 195, 220);\"></td><td title=\"Index: [0, 3]&#10;Color: (123, 195, 220)\" style=\"width: 20px; height: 20px;background-color: rgb(123, 195, 220);\"></td><td title=\"Index: [0, 4]&#10;Color: (123, 195, 220)\" style=\"width: 20px; height: 20px;background-color: rgb(123, 195, 220);\"></td><td title=\"Index: [0, 5]&#10;Color: (123, 195, 220)\" style=\"width: 20px; height: 20px;background-color: rgb(123, 195, 220);\"></td><td title=\"Index: [0, 6]&#10;Color: (123, 195, 220)\" style=\"width: 20px; height: 20px;background-color: rgb(123, 195, 220);\"></td><td title=\"Index: [0, 7]&#10;Color: (123, 195, 220)\" style=\"width: 20px; height: 20px;background-color: rgb(123, 195, 220);\"></td><td title=\"Index: [0, 8]&#10;Color: (123, 195, 220)\" style=\"width: 20px; height: 20px;background-color: rgb(123, 195, 220);\"></td></tr><tr><td title=\"Index: [1, 0]&#10;Color: (123, 195, 220)\" style=\"width: 20px; height: 20px;background-color: rgb(123, 195, 220);\"></td><td title=\"Index: [1, 1]&#10;Color: (123, 195, 220)\" style=\"width: 20px; height: 20px;background-color: rgb(123, 195, 220);\"></td><td title=\"Index: [1, 2]&#10;Color: (123, 195, 220)\" style=\"width: 20px; height: 20px;background-color: rgb(123, 195, 220);\"></td><td title=\"Index: [1, 3]&#10;Color: (123, 195, 220)\" style=\"width: 20px; height: 20px;background-color: rgb(123, 195, 220);\"></td><td title=\"Index: [1, 4]&#10;Color: (123, 195, 220)\" style=\"width: 20px; height: 20px;background-color: rgb(123, 195, 220);\"></td><td title=\"Index: [1, 5]&#10;Color: (123, 195, 220)\" style=\"width: 20px; height: 20px;background-color: rgb(123, 195, 220);\"></td><td title=\"Index: [1, 6]&#10;Color: (123, 195, 220)\" style=\"width: 20px; height: 20px;background-color: rgb(123, 195, 220);\"></td><td title=\"Index: [1, 7]&#10;Color: (123, 195, 220)\" style=\"width: 20px; height: 20px;background-color: rgb(123, 195, 220);\"></td><td title=\"Index: [1, 8]&#10;Color: (123, 195, 220)\" style=\"width: 20px; height: 20px;background-color: rgb(123, 195, 220);\"></td></tr><tr><td title=\"Index: [2, 0]&#10;Color: (123, 195, 220)\" style=\"width: 20px; height: 20px;background-color: rgb(123, 195, 220);\"></td><td title=\"Index: [2, 1]&#10;Color: (123, 195, 220)\" style=\"width: 20px; height: 20px;background-color: rgb(123, 195, 220);\"></td><td title=\"Index: [2, 2]&#10;Color: (123, 195, 220)\" style=\"width: 20px; height: 20px;background-color: rgb(123, 195, 220);\"></td><td title=\"Index: [2, 3]&#10;Color: (123, 195, 220)\" style=\"width: 20px; height: 20px;background-color: rgb(123, 195, 220);\"></td><td title=\"Index: [2, 4]&#10;Color: (123, 195, 220)\" style=\"width: 20px; height: 20px;background-color: rgb(123, 195, 220);\"></td><td title=\"Index: [2, 5]&#10;Color: (123, 195, 220)\" style=\"width: 20px; height: 20px;background-color: rgb(123, 195, 220);\"></td><td title=\"Index: [2, 6]&#10;Color: (123, 195, 220)\" style=\"width: 20px; height: 20px;background-color: rgb(123, 195, 220);\"></td><td title=\"Index: [2, 7]&#10;Color: (123, 195, 220)\" style=\"width: 20px; height: 20px;background-color: rgb(123, 195, 220);\"></td><td title=\"Index: [2, 8]&#10;Color: (123, 195, 220)\" style=\"width: 20px; height: 20px;background-color: rgb(123, 195, 220);\"></td></tr><tr><td title=\"Index: [3, 0]&#10;Color: (123, 195, 220)\" style=\"width: 20px; height: 20px;background-color: rgb(123, 195, 220);\"></td><td title=\"Index: [3, 1]&#10;Color: (123, 195, 220)\" style=\"width: 20px; height: 20px;background-color: rgb(123, 195, 220);\"></td><td title=\"Index: [3, 2]&#10;Color: (123, 195, 220)\" style=\"width: 20px; height: 20px;background-color: rgb(123, 195, 220);\"></td><td title=\"Index: [3, 3]&#10;Color: (0, 0, 139)\" style=\"width: 20px; height: 20px;background-color: rgb(0, 0, 139);\"></td><td title=\"Index: [3, 4]&#10;Color: (123, 195, 220)\" style=\"width: 20px; height: 20px;background-color: rgb(123, 195, 220);\"></td><td title=\"Index: [3, 5]&#10;Color: (123, 195, 220)\" style=\"width: 20px; height: 20px;background-color: rgb(123, 195, 220);\"></td><td title=\"Index: [3, 6]&#10;Color: (123, 195, 220)\" style=\"width: 20px; height: 20px;background-color: rgb(123, 195, 220);\"></td><td title=\"Index: [3, 7]&#10;Color: (123, 195, 220)\" style=\"width: 20px; height: 20px;background-color: rgb(123, 195, 220);\"></td><td title=\"Index: [3, 8]&#10;Color: (123, 195, 220)\" style=\"width: 20px; height: 20px;background-color: rgb(123, 195, 220);\"></td></tr><tr><td title=\"Index: [4, 0]&#10;Color: (123, 195, 220)\" style=\"width: 20px; height: 20px;background-color: rgb(123, 195, 220);\"></td><td title=\"Index: [4, 1]&#10;Color: (123, 195, 220)\" style=\"width: 20px; height: 20px;background-color: rgb(123, 195, 220);\"></td><td title=\"Index: [4, 2]&#10;Color: (123, 195, 220)\" style=\"width: 20px; height: 20px;background-color: rgb(123, 195, 220);\"></td><td title=\"Index: [4, 3]&#10;Color: (123, 195, 220)\" style=\"width: 20px; height: 20px;background-color: rgb(123, 195, 220);\"></td><td title=\"Index: [4, 4]&#10;Color: (0, 0, 139)\" style=\"width: 20px; height: 20px;background-color: rgb(0, 0, 139);\"></td><td title=\"Index: [4, 5]&#10;Color: (123, 195, 220)\" style=\"width: 20px; height: 20px;background-color: rgb(123, 195, 220);\"></td><td title=\"Index: [4, 6]&#10;Color: (123, 195, 220)\" style=\"width: 20px; height: 20px;background-color: rgb(123, 195, 220);\"></td><td title=\"Index: [4, 7]&#10;Color: (123, 195, 220)\" style=\"width: 20px; height: 20px;background-color: rgb(123, 195, 220);\"></td><td title=\"Index: [4, 8]&#10;Color: (123, 195, 220)\" style=\"width: 20px; height: 20px;background-color: rgb(123, 195, 220);\"></td></tr><tr><td title=\"Index: [5, 0]&#10;Color: (123, 195, 220)\" style=\"width: 20px; height: 20px;background-color: rgb(123, 195, 220);\"></td><td title=\"Index: [5, 1]&#10;Color: (123, 195, 220)\" style=\"width: 20px; height: 20px;background-color: rgb(123, 195, 220);\"></td><td title=\"Index: [5, 2]&#10;Color: (123, 195, 220)\" style=\"width: 20px; height: 20px;background-color: rgb(123, 195, 220);\"></td><td title=\"Index: [5, 3]&#10;Color: (123, 195, 220)\" style=\"width: 20px; height: 20px;background-color: rgb(123, 195, 220);\"></td><td title=\"Index: [5, 4]&#10;Color: (0, 0, 139)\" style=\"width: 20px; height: 20px;background-color: rgb(0, 0, 139);\"></td><td title=\"Index: [5, 5]&#10;Color: (0, 0, 139)\" style=\"width: 20px; height: 20px;background-color: rgb(0, 0, 139);\"></td><td title=\"Index: [5, 6]&#10;Color: (123, 195, 220)\" style=\"width: 20px; height: 20px;background-color: rgb(123, 195, 220);\"></td><td title=\"Index: [5, 7]&#10;Color: (123, 195, 220)\" style=\"width: 20px; height: 20px;background-color: rgb(123, 195, 220);\"></td><td title=\"Index: [5, 8]&#10;Color: (123, 195, 220)\" style=\"width: 20px; height: 20px;background-color: rgb(123, 195, 220);\"></td></tr><tr><td title=\"Index: [6, 0]&#10;Color: (123, 195, 220)\" style=\"width: 20px; height: 20px;background-color: rgb(123, 195, 220);\"></td><td title=\"Index: [6, 1]&#10;Color: (123, 195, 220)\" style=\"width: 20px; height: 20px;background-color: rgb(123, 195, 220);\"></td><td title=\"Index: [6, 2]&#10;Color: (123, 195, 220)\" style=\"width: 20px; height: 20px;background-color: rgb(123, 195, 220);\"></td><td title=\"Index: [6, 3]&#10;Color: (123, 195, 220)\" style=\"width: 20px; height: 20px;background-color: rgb(123, 195, 220);\"></td><td title=\"Index: [6, 4]&#10;Color: (123, 195, 220)\" style=\"width: 20px; height: 20px;background-color: rgb(123, 195, 220);\"></td><td title=\"Index: [6, 5]&#10;Color: (123, 195, 220)\" style=\"width: 20px; height: 20px;background-color: rgb(123, 195, 220);\"></td><td title=\"Index: [6, 6]&#10;Color: (123, 195, 220)\" style=\"width: 20px; height: 20px;background-color: rgb(123, 195, 220);\"></td><td title=\"Index: [6, 7]&#10;Color: (123, 195, 220)\" style=\"width: 20px; height: 20px;background-color: rgb(123, 195, 220);\"></td><td title=\"Index: [6, 8]&#10;Color: (123, 195, 220)\" style=\"width: 20px; height: 20px;background-color: rgb(123, 195, 220);\"></td></tr><tr><td title=\"Index: [7, 0]&#10;Color: (123, 195, 220)\" style=\"width: 20px; height: 20px;background-color: rgb(123, 195, 220);\"></td><td title=\"Index: [7, 1]&#10;Color: (123, 195, 220)\" style=\"width: 20px; height: 20px;background-color: rgb(123, 195, 220);\"></td><td title=\"Index: [7, 2]&#10;Color: (123, 195, 220)\" style=\"width: 20px; height: 20px;background-color: rgb(123, 195, 220);\"></td><td title=\"Index: [7, 3]&#10;Color: (123, 195, 220)\" style=\"width: 20px; height: 20px;background-color: rgb(123, 195, 220);\"></td><td title=\"Index: [7, 4]&#10;Color: (123, 195, 220)\" style=\"width: 20px; height: 20px;background-color: rgb(123, 195, 220);\"></td><td title=\"Index: [7, 5]&#10;Color: (123, 195, 220)\" style=\"width: 20px; height: 20px;background-color: rgb(123, 195, 220);\"></td><td title=\"Index: [7, 6]&#10;Color: (123, 195, 220)\" style=\"width: 20px; height: 20px;background-color: rgb(123, 195, 220);\"></td><td title=\"Index: [7, 7]&#10;Color: (123, 195, 220)\" style=\"width: 20px; height: 20px;background-color: rgb(123, 195, 220);\"></td><td title=\"Index: [7, 8]&#10;Color: (123, 195, 220)\" style=\"width: 20px; height: 20px;background-color: rgb(123, 195, 220);\"></td></tr><tr><td title=\"Index: [8, 0]&#10;Color: (123, 195, 220)\" style=\"width: 20px; height: 20px;background-color: rgb(123, 195, 220);\"></td><td title=\"Index: [8, 1]&#10;Color: (123, 195, 220)\" style=\"width: 20px; height: 20px;background-color: rgb(123, 195, 220);\"></td><td title=\"Index: [8, 2]&#10;Color: (123, 195, 220)\" style=\"width: 20px; height: 20px;background-color: rgb(123, 195, 220);\"></td><td title=\"Index: [8, 3]&#10;Color: (123, 195, 220)\" style=\"width: 20px; height: 20px;background-color: rgb(123, 195, 220);\"></td><td title=\"Index: [8, 4]&#10;Color: (123, 195, 220)\" style=\"width: 20px; height: 20px;background-color: rgb(123, 195, 220);\"></td><td title=\"Index: [8, 5]&#10;Color: (123, 195, 220)\" style=\"width: 20px; height: 20px;background-color: rgb(123, 195, 220);\"></td><td title=\"Index: [8, 6]&#10;Color: (123, 195, 220)\" style=\"width: 20px; height: 20px;background-color: rgb(123, 195, 220);\"></td><td title=\"Index: [8, 7]&#10;Color: (123, 195, 220)\" style=\"width: 20px; height: 20px;background-color: rgb(123, 195, 220);\"></td><td title=\"Index: [8, 8]&#10;Color: (123, 195, 220)\" style=\"width: 20px; height: 20px;background-color: rgb(123, 195, 220);\"></td></tr></tbody></table>"
       ],
       "metadata": {},
       "output_type": "display_data",
       "text": [
        "<IPython.core.display.HTML at 0x1e764e0>"
       ]
      },
      {
       "output_type": "stream",
       "stream": "stdout",
       "text": [
        "Turn: 5\n"
       ]
      },
      {
       "name": "stdout",
       "output_type": "stream",
       "stream": "stdout",
       "text": [
        "Guess Row: 2\n"
       ]
      },
      {
       "name": "stdout",
       "output_type": "stream",
       "stream": "stdout",
       "text": [
        "Guess Column: 2\n"
       ]
      },
      {
       "output_type": "stream",
       "stream": "stdout",
       "text": [
        "You missed my battleship!\n"
       ]
      },
      {
       "html": [
        "<style type=\"text/css\">table.blockgrid {border: none;} .blockgrid tr {border: none;} .blockgrid td {padding: 0px;} #blocks37b267c3-e8a6-4204-b4b1-722ea6f20d69 td {border: 1px solid white;}</style><table id=\"blocks37b267c3-e8a6-4204-b4b1-722ea6f20d69\" class=\"blockgrid\"><tbody><tr><td title=\"Index: [0, 0]&#10;Color: (123, 195, 220)\" style=\"width: 20px; height: 20px;background-color: rgb(123, 195, 220);\"></td><td title=\"Index: [0, 1]&#10;Color: (123, 195, 220)\" style=\"width: 20px; height: 20px;background-color: rgb(123, 195, 220);\"></td><td title=\"Index: [0, 2]&#10;Color: (123, 195, 220)\" style=\"width: 20px; height: 20px;background-color: rgb(123, 195, 220);\"></td><td title=\"Index: [0, 3]&#10;Color: (123, 195, 220)\" style=\"width: 20px; height: 20px;background-color: rgb(123, 195, 220);\"></td><td title=\"Index: [0, 4]&#10;Color: (123, 195, 220)\" style=\"width: 20px; height: 20px;background-color: rgb(123, 195, 220);\"></td><td title=\"Index: [0, 5]&#10;Color: (123, 195, 220)\" style=\"width: 20px; height: 20px;background-color: rgb(123, 195, 220);\"></td><td title=\"Index: [0, 6]&#10;Color: (123, 195, 220)\" style=\"width: 20px; height: 20px;background-color: rgb(123, 195, 220);\"></td><td title=\"Index: [0, 7]&#10;Color: (123, 195, 220)\" style=\"width: 20px; height: 20px;background-color: rgb(123, 195, 220);\"></td><td title=\"Index: [0, 8]&#10;Color: (123, 195, 220)\" style=\"width: 20px; height: 20px;background-color: rgb(123, 195, 220);\"></td></tr><tr><td title=\"Index: [1, 0]&#10;Color: (123, 195, 220)\" style=\"width: 20px; height: 20px;background-color: rgb(123, 195, 220);\"></td><td title=\"Index: [1, 1]&#10;Color: (123, 195, 220)\" style=\"width: 20px; height: 20px;background-color: rgb(123, 195, 220);\"></td><td title=\"Index: [1, 2]&#10;Color: (123, 195, 220)\" style=\"width: 20px; height: 20px;background-color: rgb(123, 195, 220);\"></td><td title=\"Index: [1, 3]&#10;Color: (123, 195, 220)\" style=\"width: 20px; height: 20px;background-color: rgb(123, 195, 220);\"></td><td title=\"Index: [1, 4]&#10;Color: (123, 195, 220)\" style=\"width: 20px; height: 20px;background-color: rgb(123, 195, 220);\"></td><td title=\"Index: [1, 5]&#10;Color: (123, 195, 220)\" style=\"width: 20px; height: 20px;background-color: rgb(123, 195, 220);\"></td><td title=\"Index: [1, 6]&#10;Color: (123, 195, 220)\" style=\"width: 20px; height: 20px;background-color: rgb(123, 195, 220);\"></td><td title=\"Index: [1, 7]&#10;Color: (123, 195, 220)\" style=\"width: 20px; height: 20px;background-color: rgb(123, 195, 220);\"></td><td title=\"Index: [1, 8]&#10;Color: (123, 195, 220)\" style=\"width: 20px; height: 20px;background-color: rgb(123, 195, 220);\"></td></tr><tr><td title=\"Index: [2, 0]&#10;Color: (123, 195, 220)\" style=\"width: 20px; height: 20px;background-color: rgb(123, 195, 220);\"></td><td title=\"Index: [2, 1]&#10;Color: (123, 195, 220)\" style=\"width: 20px; height: 20px;background-color: rgb(123, 195, 220);\"></td><td title=\"Index: [2, 2]&#10;Color: (0, 0, 139)\" style=\"width: 20px; height: 20px;background-color: rgb(0, 0, 139);\"></td><td title=\"Index: [2, 3]&#10;Color: (123, 195, 220)\" style=\"width: 20px; height: 20px;background-color: rgb(123, 195, 220);\"></td><td title=\"Index: [2, 4]&#10;Color: (123, 195, 220)\" style=\"width: 20px; height: 20px;background-color: rgb(123, 195, 220);\"></td><td title=\"Index: [2, 5]&#10;Color: (123, 195, 220)\" style=\"width: 20px; height: 20px;background-color: rgb(123, 195, 220);\"></td><td title=\"Index: [2, 6]&#10;Color: (123, 195, 220)\" style=\"width: 20px; height: 20px;background-color: rgb(123, 195, 220);\"></td><td title=\"Index: [2, 7]&#10;Color: (123, 195, 220)\" style=\"width: 20px; height: 20px;background-color: rgb(123, 195, 220);\"></td><td title=\"Index: [2, 8]&#10;Color: (123, 195, 220)\" style=\"width: 20px; height: 20px;background-color: rgb(123, 195, 220);\"></td></tr><tr><td title=\"Index: [3, 0]&#10;Color: (123, 195, 220)\" style=\"width: 20px; height: 20px;background-color: rgb(123, 195, 220);\"></td><td title=\"Index: [3, 1]&#10;Color: (123, 195, 220)\" style=\"width: 20px; height: 20px;background-color: rgb(123, 195, 220);\"></td><td title=\"Index: [3, 2]&#10;Color: (123, 195, 220)\" style=\"width: 20px; height: 20px;background-color: rgb(123, 195, 220);\"></td><td title=\"Index: [3, 3]&#10;Color: (0, 0, 139)\" style=\"width: 20px; height: 20px;background-color: rgb(0, 0, 139);\"></td><td title=\"Index: [3, 4]&#10;Color: (123, 195, 220)\" style=\"width: 20px; height: 20px;background-color: rgb(123, 195, 220);\"></td><td title=\"Index: [3, 5]&#10;Color: (123, 195, 220)\" style=\"width: 20px; height: 20px;background-color: rgb(123, 195, 220);\"></td><td title=\"Index: [3, 6]&#10;Color: (123, 195, 220)\" style=\"width: 20px; height: 20px;background-color: rgb(123, 195, 220);\"></td><td title=\"Index: [3, 7]&#10;Color: (123, 195, 220)\" style=\"width: 20px; height: 20px;background-color: rgb(123, 195, 220);\"></td><td title=\"Index: [3, 8]&#10;Color: (123, 195, 220)\" style=\"width: 20px; height: 20px;background-color: rgb(123, 195, 220);\"></td></tr><tr><td title=\"Index: [4, 0]&#10;Color: (123, 195, 220)\" style=\"width: 20px; height: 20px;background-color: rgb(123, 195, 220);\"></td><td title=\"Index: [4, 1]&#10;Color: (123, 195, 220)\" style=\"width: 20px; height: 20px;background-color: rgb(123, 195, 220);\"></td><td title=\"Index: [4, 2]&#10;Color: (123, 195, 220)\" style=\"width: 20px; height: 20px;background-color: rgb(123, 195, 220);\"></td><td title=\"Index: [4, 3]&#10;Color: (123, 195, 220)\" style=\"width: 20px; height: 20px;background-color: rgb(123, 195, 220);\"></td><td title=\"Index: [4, 4]&#10;Color: (0, 0, 139)\" style=\"width: 20px; height: 20px;background-color: rgb(0, 0, 139);\"></td><td title=\"Index: [4, 5]&#10;Color: (123, 195, 220)\" style=\"width: 20px; height: 20px;background-color: rgb(123, 195, 220);\"></td><td title=\"Index: [4, 6]&#10;Color: (123, 195, 220)\" style=\"width: 20px; height: 20px;background-color: rgb(123, 195, 220);\"></td><td title=\"Index: [4, 7]&#10;Color: (123, 195, 220)\" style=\"width: 20px; height: 20px;background-color: rgb(123, 195, 220);\"></td><td title=\"Index: [4, 8]&#10;Color: (123, 195, 220)\" style=\"width: 20px; height: 20px;background-color: rgb(123, 195, 220);\"></td></tr><tr><td title=\"Index: [5, 0]&#10;Color: (123, 195, 220)\" style=\"width: 20px; height: 20px;background-color: rgb(123, 195, 220);\"></td><td title=\"Index: [5, 1]&#10;Color: (123, 195, 220)\" style=\"width: 20px; height: 20px;background-color: rgb(123, 195, 220);\"></td><td title=\"Index: [5, 2]&#10;Color: (123, 195, 220)\" style=\"width: 20px; height: 20px;background-color: rgb(123, 195, 220);\"></td><td title=\"Index: [5, 3]&#10;Color: (123, 195, 220)\" style=\"width: 20px; height: 20px;background-color: rgb(123, 195, 220);\"></td><td title=\"Index: [5, 4]&#10;Color: (0, 0, 139)\" style=\"width: 20px; height: 20px;background-color: rgb(0, 0, 139);\"></td><td title=\"Index: [5, 5]&#10;Color: (0, 0, 139)\" style=\"width: 20px; height: 20px;background-color: rgb(0, 0, 139);\"></td><td title=\"Index: [5, 6]&#10;Color: (123, 195, 220)\" style=\"width: 20px; height: 20px;background-color: rgb(123, 195, 220);\"></td><td title=\"Index: [5, 7]&#10;Color: (123, 195, 220)\" style=\"width: 20px; height: 20px;background-color: rgb(123, 195, 220);\"></td><td title=\"Index: [5, 8]&#10;Color: (123, 195, 220)\" style=\"width: 20px; height: 20px;background-color: rgb(123, 195, 220);\"></td></tr><tr><td title=\"Index: [6, 0]&#10;Color: (123, 195, 220)\" style=\"width: 20px; height: 20px;background-color: rgb(123, 195, 220);\"></td><td title=\"Index: [6, 1]&#10;Color: (123, 195, 220)\" style=\"width: 20px; height: 20px;background-color: rgb(123, 195, 220);\"></td><td title=\"Index: [6, 2]&#10;Color: (123, 195, 220)\" style=\"width: 20px; height: 20px;background-color: rgb(123, 195, 220);\"></td><td title=\"Index: [6, 3]&#10;Color: (123, 195, 220)\" style=\"width: 20px; height: 20px;background-color: rgb(123, 195, 220);\"></td><td title=\"Index: [6, 4]&#10;Color: (123, 195, 220)\" style=\"width: 20px; height: 20px;background-color: rgb(123, 195, 220);\"></td><td title=\"Index: [6, 5]&#10;Color: (123, 195, 220)\" style=\"width: 20px; height: 20px;background-color: rgb(123, 195, 220);\"></td><td title=\"Index: [6, 6]&#10;Color: (123, 195, 220)\" style=\"width: 20px; height: 20px;background-color: rgb(123, 195, 220);\"></td><td title=\"Index: [6, 7]&#10;Color: (123, 195, 220)\" style=\"width: 20px; height: 20px;background-color: rgb(123, 195, 220);\"></td><td title=\"Index: [6, 8]&#10;Color: (123, 195, 220)\" style=\"width: 20px; height: 20px;background-color: rgb(123, 195, 220);\"></td></tr><tr><td title=\"Index: [7, 0]&#10;Color: (123, 195, 220)\" style=\"width: 20px; height: 20px;background-color: rgb(123, 195, 220);\"></td><td title=\"Index: [7, 1]&#10;Color: (123, 195, 220)\" style=\"width: 20px; height: 20px;background-color: rgb(123, 195, 220);\"></td><td title=\"Index: [7, 2]&#10;Color: (123, 195, 220)\" style=\"width: 20px; height: 20px;background-color: rgb(123, 195, 220);\"></td><td title=\"Index: [7, 3]&#10;Color: (123, 195, 220)\" style=\"width: 20px; height: 20px;background-color: rgb(123, 195, 220);\"></td><td title=\"Index: [7, 4]&#10;Color: (123, 195, 220)\" style=\"width: 20px; height: 20px;background-color: rgb(123, 195, 220);\"></td><td title=\"Index: [7, 5]&#10;Color: (123, 195, 220)\" style=\"width: 20px; height: 20px;background-color: rgb(123, 195, 220);\"></td><td title=\"Index: [7, 6]&#10;Color: (123, 195, 220)\" style=\"width: 20px; height: 20px;background-color: rgb(123, 195, 220);\"></td><td title=\"Index: [7, 7]&#10;Color: (123, 195, 220)\" style=\"width: 20px; height: 20px;background-color: rgb(123, 195, 220);\"></td><td title=\"Index: [7, 8]&#10;Color: (123, 195, 220)\" style=\"width: 20px; height: 20px;background-color: rgb(123, 195, 220);\"></td></tr><tr><td title=\"Index: [8, 0]&#10;Color: (123, 195, 220)\" style=\"width: 20px; height: 20px;background-color: rgb(123, 195, 220);\"></td><td title=\"Index: [8, 1]&#10;Color: (123, 195, 220)\" style=\"width: 20px; height: 20px;background-color: rgb(123, 195, 220);\"></td><td title=\"Index: [8, 2]&#10;Color: (123, 195, 220)\" style=\"width: 20px; height: 20px;background-color: rgb(123, 195, 220);\"></td><td title=\"Index: [8, 3]&#10;Color: (123, 195, 220)\" style=\"width: 20px; height: 20px;background-color: rgb(123, 195, 220);\"></td><td title=\"Index: [8, 4]&#10;Color: (123, 195, 220)\" style=\"width: 20px; height: 20px;background-color: rgb(123, 195, 220);\"></td><td title=\"Index: [8, 5]&#10;Color: (123, 195, 220)\" style=\"width: 20px; height: 20px;background-color: rgb(123, 195, 220);\"></td><td title=\"Index: [8, 6]&#10;Color: (123, 195, 220)\" style=\"width: 20px; height: 20px;background-color: rgb(123, 195, 220);\"></td><td title=\"Index: [8, 7]&#10;Color: (123, 195, 220)\" style=\"width: 20px; height: 20px;background-color: rgb(123, 195, 220);\"></td><td title=\"Index: [8, 8]&#10;Color: (123, 195, 220)\" style=\"width: 20px; height: 20px;background-color: rgb(123, 195, 220);\"></td></tr></tbody></table>"
       ],
       "metadata": {},
       "output_type": "display_data",
       "text": [
        "<IPython.core.display.HTML at 0x3d17160>"
       ]
      },
      {
       "output_type": "stream",
       "stream": "stdout",
       "text": [
        "Game Over, here's where the battleship was\n"
       ]
      },
      {
       "html": [
        "<style type=\"text/css\">table.blockgrid {border: none;} .blockgrid tr {border: none;} .blockgrid td {padding: 0px;} #blocks0a2079f7-a24e-4608-a8d8-3efff25ed4ce td {border: 1px solid white;}</style><table id=\"blocks0a2079f7-a24e-4608-a8d8-3efff25ed4ce\" class=\"blockgrid\"><tbody><tr><td title=\"Index: [0, 0]&#10;Color: (123, 195, 220)\" style=\"width: 20px; height: 20px;background-color: rgb(123, 195, 220);\"></td><td title=\"Index: [0, 1]&#10;Color: (123, 195, 220)\" style=\"width: 20px; height: 20px;background-color: rgb(123, 195, 220);\"></td><td title=\"Index: [0, 2]&#10;Color: (123, 195, 220)\" style=\"width: 20px; height: 20px;background-color: rgb(123, 195, 220);\"></td><td title=\"Index: [0, 3]&#10;Color: (123, 195, 220)\" style=\"width: 20px; height: 20px;background-color: rgb(123, 195, 220);\"></td><td title=\"Index: [0, 4]&#10;Color: (123, 195, 220)\" style=\"width: 20px; height: 20px;background-color: rgb(123, 195, 220);\"></td><td title=\"Index: [0, 5]&#10;Color: (123, 195, 220)\" style=\"width: 20px; height: 20px;background-color: rgb(123, 195, 220);\"></td><td title=\"Index: [0, 6]&#10;Color: (123, 195, 220)\" style=\"width: 20px; height: 20px;background-color: rgb(123, 195, 220);\"></td><td title=\"Index: [0, 7]&#10;Color: (123, 195, 220)\" style=\"width: 20px; height: 20px;background-color: rgb(123, 195, 220);\"></td><td title=\"Index: [0, 8]&#10;Color: (123, 195, 220)\" style=\"width: 20px; height: 20px;background-color: rgb(123, 195, 220);\"></td></tr><tr><td title=\"Index: [1, 0]&#10;Color: (123, 195, 220)\" style=\"width: 20px; height: 20px;background-color: rgb(123, 195, 220);\"></td><td title=\"Index: [1, 1]&#10;Color: (123, 195, 220)\" style=\"width: 20px; height: 20px;background-color: rgb(123, 195, 220);\"></td><td title=\"Index: [1, 2]&#10;Color: (123, 195, 220)\" style=\"width: 20px; height: 20px;background-color: rgb(123, 195, 220);\"></td><td title=\"Index: [1, 3]&#10;Color: (123, 195, 220)\" style=\"width: 20px; height: 20px;background-color: rgb(123, 195, 220);\"></td><td title=\"Index: [1, 4]&#10;Color: (123, 195, 220)\" style=\"width: 20px; height: 20px;background-color: rgb(123, 195, 220);\"></td><td title=\"Index: [1, 5]&#10;Color: (123, 195, 220)\" style=\"width: 20px; height: 20px;background-color: rgb(123, 195, 220);\"></td><td title=\"Index: [1, 6]&#10;Color: (123, 195, 220)\" style=\"width: 20px; height: 20px;background-color: rgb(123, 195, 220);\"></td><td title=\"Index: [1, 7]&#10;Color: (123, 195, 220)\" style=\"width: 20px; height: 20px;background-color: rgb(123, 195, 220);\"></td><td title=\"Index: [1, 8]&#10;Color: (123, 195, 220)\" style=\"width: 20px; height: 20px;background-color: rgb(123, 195, 220);\"></td></tr><tr><td title=\"Index: [2, 0]&#10;Color: (123, 195, 220)\" style=\"width: 20px; height: 20px;background-color: rgb(123, 195, 220);\"></td><td title=\"Index: [2, 1]&#10;Color: (123, 195, 220)\" style=\"width: 20px; height: 20px;background-color: rgb(123, 195, 220);\"></td><td title=\"Index: [2, 2]&#10;Color: (0, 0, 139)\" style=\"width: 20px; height: 20px;background-color: rgb(0, 0, 139);\"></td><td title=\"Index: [2, 3]&#10;Color: (123, 195, 220)\" style=\"width: 20px; height: 20px;background-color: rgb(123, 195, 220);\"></td><td title=\"Index: [2, 4]&#10;Color: (123, 195, 220)\" style=\"width: 20px; height: 20px;background-color: rgb(123, 195, 220);\"></td><td title=\"Index: [2, 5]&#10;Color: (123, 195, 220)\" style=\"width: 20px; height: 20px;background-color: rgb(123, 195, 220);\"></td><td title=\"Index: [2, 6]&#10;Color: (123, 195, 220)\" style=\"width: 20px; height: 20px;background-color: rgb(123, 195, 220);\"></td><td title=\"Index: [2, 7]&#10;Color: (123, 195, 220)\" style=\"width: 20px; height: 20px;background-color: rgb(123, 195, 220);\"></td><td title=\"Index: [2, 8]&#10;Color: (123, 195, 220)\" style=\"width: 20px; height: 20px;background-color: rgb(123, 195, 220);\"></td></tr><tr><td title=\"Index: [3, 0]&#10;Color: (123, 195, 220)\" style=\"width: 20px; height: 20px;background-color: rgb(123, 195, 220);\"></td><td title=\"Index: [3, 1]&#10;Color: (123, 195, 220)\" style=\"width: 20px; height: 20px;background-color: rgb(123, 195, 220);\"></td><td title=\"Index: [3, 2]&#10;Color: (123, 195, 220)\" style=\"width: 20px; height: 20px;background-color: rgb(123, 195, 220);\"></td><td title=\"Index: [3, 3]&#10;Color: (0, 0, 139)\" style=\"width: 20px; height: 20px;background-color: rgb(0, 0, 139);\"></td><td title=\"Index: [3, 4]&#10;Color: (123, 195, 220)\" style=\"width: 20px; height: 20px;background-color: rgb(123, 195, 220);\"></td><td title=\"Index: [3, 5]&#10;Color: (123, 195, 220)\" style=\"width: 20px; height: 20px;background-color: rgb(123, 195, 220);\"></td><td title=\"Index: [3, 6]&#10;Color: (123, 195, 220)\" style=\"width: 20px; height: 20px;background-color: rgb(123, 195, 220);\"></td><td title=\"Index: [3, 7]&#10;Color: (123, 195, 220)\" style=\"width: 20px; height: 20px;background-color: rgb(123, 195, 220);\"></td><td title=\"Index: [3, 8]&#10;Color: (123, 195, 220)\" style=\"width: 20px; height: 20px;background-color: rgb(123, 195, 220);\"></td></tr><tr><td title=\"Index: [4, 0]&#10;Color: (123, 195, 220)\" style=\"width: 20px; height: 20px;background-color: rgb(123, 195, 220);\"></td><td title=\"Index: [4, 1]&#10;Color: (123, 195, 220)\" style=\"width: 20px; height: 20px;background-color: rgb(123, 195, 220);\"></td><td title=\"Index: [4, 2]&#10;Color: (123, 195, 220)\" style=\"width: 20px; height: 20px;background-color: rgb(123, 195, 220);\"></td><td title=\"Index: [4, 3]&#10;Color: (123, 195, 220)\" style=\"width: 20px; height: 20px;background-color: rgb(123, 195, 220);\"></td><td title=\"Index: [4, 4]&#10;Color: (0, 0, 139)\" style=\"width: 20px; height: 20px;background-color: rgb(0, 0, 139);\"></td><td title=\"Index: [4, 5]&#10;Color: (123, 195, 220)\" style=\"width: 20px; height: 20px;background-color: rgb(123, 195, 220);\"></td><td title=\"Index: [4, 6]&#10;Color: (123, 195, 220)\" style=\"width: 20px; height: 20px;background-color: rgb(123, 195, 220);\"></td><td title=\"Index: [4, 7]&#10;Color: (123, 195, 220)\" style=\"width: 20px; height: 20px;background-color: rgb(123, 195, 220);\"></td><td title=\"Index: [4, 8]&#10;Color: (123, 195, 220)\" style=\"width: 20px; height: 20px;background-color: rgb(123, 195, 220);\"></td></tr><tr><td title=\"Index: [5, 0]&#10;Color: (123, 195, 220)\" style=\"width: 20px; height: 20px;background-color: rgb(123, 195, 220);\"></td><td title=\"Index: [5, 1]&#10;Color: (123, 195, 220)\" style=\"width: 20px; height: 20px;background-color: rgb(123, 195, 220);\"></td><td title=\"Index: [5, 2]&#10;Color: (123, 195, 220)\" style=\"width: 20px; height: 20px;background-color: rgb(123, 195, 220);\"></td><td title=\"Index: [5, 3]&#10;Color: (123, 195, 220)\" style=\"width: 20px; height: 20px;background-color: rgb(123, 195, 220);\"></td><td title=\"Index: [5, 4]&#10;Color: (0, 0, 139)\" style=\"width: 20px; height: 20px;background-color: rgb(0, 0, 139);\"></td><td title=\"Index: [5, 5]&#10;Color: (0, 0, 139)\" style=\"width: 20px; height: 20px;background-color: rgb(0, 0, 139);\"></td><td title=\"Index: [5, 6]&#10;Color: (123, 195, 220)\" style=\"width: 20px; height: 20px;background-color: rgb(123, 195, 220);\"></td><td title=\"Index: [5, 7]&#10;Color: (123, 195, 220)\" style=\"width: 20px; height: 20px;background-color: rgb(123, 195, 220);\"></td><td title=\"Index: [5, 8]&#10;Color: (123, 195, 220)\" style=\"width: 20px; height: 20px;background-color: rgb(123, 195, 220);\"></td></tr><tr><td title=\"Index: [6, 0]&#10;Color: (123, 195, 220)\" style=\"width: 20px; height: 20px;background-color: rgb(123, 195, 220);\"></td><td title=\"Index: [6, 1]&#10;Color: (123, 195, 220)\" style=\"width: 20px; height: 20px;background-color: rgb(123, 195, 220);\"></td><td title=\"Index: [6, 2]&#10;Color: (123, 195, 220)\" style=\"width: 20px; height: 20px;background-color: rgb(123, 195, 220);\"></td><td title=\"Index: [6, 3]&#10;Color: (123, 195, 220)\" style=\"width: 20px; height: 20px;background-color: rgb(123, 195, 220);\"></td><td title=\"Index: [6, 4]&#10;Color: (123, 195, 220)\" style=\"width: 20px; height: 20px;background-color: rgb(123, 195, 220);\"></td><td title=\"Index: [6, 5]&#10;Color: (123, 195, 220)\" style=\"width: 20px; height: 20px;background-color: rgb(123, 195, 220);\"></td><td title=\"Index: [6, 6]&#10;Color: (255, 0, 0)\" style=\"width: 20px; height: 20px;background-color: rgb(255, 0, 0);\"></td><td title=\"Index: [6, 7]&#10;Color: (255, 0, 0)\" style=\"width: 20px; height: 20px;background-color: rgb(255, 0, 0);\"></td><td title=\"Index: [6, 8]&#10;Color: (255, 0, 0)\" style=\"width: 20px; height: 20px;background-color: rgb(255, 0, 0);\"></td></tr><tr><td title=\"Index: [7, 0]&#10;Color: (123, 195, 220)\" style=\"width: 20px; height: 20px;background-color: rgb(123, 195, 220);\"></td><td title=\"Index: [7, 1]&#10;Color: (123, 195, 220)\" style=\"width: 20px; height: 20px;background-color: rgb(123, 195, 220);\"></td><td title=\"Index: [7, 2]&#10;Color: (123, 195, 220)\" style=\"width: 20px; height: 20px;background-color: rgb(123, 195, 220);\"></td><td title=\"Index: [7, 3]&#10;Color: (123, 195, 220)\" style=\"width: 20px; height: 20px;background-color: rgb(123, 195, 220);\"></td><td title=\"Index: [7, 4]&#10;Color: (123, 195, 220)\" style=\"width: 20px; height: 20px;background-color: rgb(123, 195, 220);\"></td><td title=\"Index: [7, 5]&#10;Color: (123, 195, 220)\" style=\"width: 20px; height: 20px;background-color: rgb(123, 195, 220);\"></td><td title=\"Index: [7, 6]&#10;Color: (123, 195, 220)\" style=\"width: 20px; height: 20px;background-color: rgb(123, 195, 220);\"></td><td title=\"Index: [7, 7]&#10;Color: (123, 195, 220)\" style=\"width: 20px; height: 20px;background-color: rgb(123, 195, 220);\"></td><td title=\"Index: [7, 8]&#10;Color: (123, 195, 220)\" style=\"width: 20px; height: 20px;background-color: rgb(123, 195, 220);\"></td></tr><tr><td title=\"Index: [8, 0]&#10;Color: (123, 195, 220)\" style=\"width: 20px; height: 20px;background-color: rgb(123, 195, 220);\"></td><td title=\"Index: [8, 1]&#10;Color: (123, 195, 220)\" style=\"width: 20px; height: 20px;background-color: rgb(123, 195, 220);\"></td><td title=\"Index: [8, 2]&#10;Color: (123, 195, 220)\" style=\"width: 20px; height: 20px;background-color: rgb(123, 195, 220);\"></td><td title=\"Index: [8, 3]&#10;Color: (123, 195, 220)\" style=\"width: 20px; height: 20px;background-color: rgb(123, 195, 220);\"></td><td title=\"Index: [8, 4]&#10;Color: (123, 195, 220)\" style=\"width: 20px; height: 20px;background-color: rgb(123, 195, 220);\"></td><td title=\"Index: [8, 5]&#10;Color: (123, 195, 220)\" style=\"width: 20px; height: 20px;background-color: rgb(123, 195, 220);\"></td><td title=\"Index: [8, 6]&#10;Color: (123, 195, 220)\" style=\"width: 20px; height: 20px;background-color: rgb(123, 195, 220);\"></td><td title=\"Index: [8, 7]&#10;Color: (123, 195, 220)\" style=\"width: 20px; height: 20px;background-color: rgb(123, 195, 220);\"></td><td title=\"Index: [8, 8]&#10;Color: (123, 195, 220)\" style=\"width: 20px; height: 20px;background-color: rgb(123, 195, 220);\"></td></tr></tbody></table>"
       ],
       "metadata": {},
       "output_type": "display_data",
       "text": [
        "<IPython.core.display.HTML at 0x3d171d0>"
       ]
      }
     ],
     "prompt_number": 1
    },
    {
     "cell_type": "markdown",
     "metadata": {},
     "source": [
      "2. Here is a function which takes a filename, opens the file, reads the result, closes the file, and returns the contents. It should look something like this:"
     ]
    },
    {
     "cell_type": "code",
     "collapsed": false,
     "input": [
      "def read_all_from_file(filename):\n",
      "    f = open(filename)\n",
      "    contents = f.read()\n",
      "    f.close()\n",
      "    return contents"
     ],
     "language": "python",
     "metadata": {},
     "outputs": [],
     "prompt_number": 2
    },
    {
     "cell_type": "markdown",
     "metadata": {},
     "source": [
      "Use runtime error handling concepts to improve this function, so that it does the following:\n",
      "raises an informative custom error if the file doesn't exist\n",
      "uses try, except, else, and/or finally to safely return the file's contents & close the file if necessary.\n",
      "add a keyword safe which defaults to False. If the function is called with safe=True, then return an empty string if the file doesn't exist."
     ]
    },
    {
     "cell_type": "code",
     "collapsed": false,
     "input": [
      "def read_all_from_file(filename, safe=False):\n",
      "    try:\n",
      "        f = open(filename)\n",
      "        contents = f.read()\n",
      "        f.close()\n",
      "    except IOError as err:\n",
      "        print err\n",
      "        print \"No file exists, sorry.\"\n",
      "        if safe:\n",
      "            print \"Here's an empty string though.\"\n",
      "            empty_string = str(object='')\n",
      "            return empty_string\n",
      "    else:\n",
      "        return contents"
     ],
     "language": "python",
     "metadata": {},
     "outputs": [],
     "prompt_number": 28
    },
    {
     "cell_type": "code",
     "collapsed": false,
     "input": [
      "read_all_from_file('tmp.txt')"
     ],
     "language": "python",
     "metadata": {},
     "outputs": [
      {
       "metadata": {},
       "output_type": "pyout",
       "prompt_number": 29,
       "text": [
        "'this is the contents of the file'"
       ]
      }
     ],
     "prompt_number": 29
    },
    {
     "cell_type": "code",
     "collapsed": false,
     "input": [
      "read_all_from_file('file.which.does.not.exist')"
     ],
     "language": "python",
     "metadata": {},
     "outputs": [
      {
       "output_type": "stream",
       "stream": "stdout",
       "text": [
        "[Errno 2] No such file or directory: 'file.which.does.not.exist'\n",
        "No file exists, sorry.\n"
       ]
      }
     ],
     "prompt_number": 30
    },
    {
     "cell_type": "code",
     "collapsed": false,
     "input": [
      "read_all_from_file('file.which.does.not.exist', safe=True)"
     ],
     "language": "python",
     "metadata": {},
     "outputs": [
      {
       "output_type": "stream",
       "stream": "stdout",
       "text": [
        "[Errno 2] No such file or directory: 'file.which.does.not.exist'\n",
        "No file exists, sorry.\n",
        "Here's an empty string though.\n"
       ]
      },
      {
       "metadata": {},
       "output_type": "pyout",
       "prompt_number": 31,
       "text": [
        "''"
       ]
      }
     ],
     "prompt_number": 31
    },
    {
     "cell_type": "code",
     "collapsed": false,
     "input": [],
     "language": "python",
     "metadata": {},
     "outputs": []
    }
   ],
   "metadata": {}
  }
 ]
}