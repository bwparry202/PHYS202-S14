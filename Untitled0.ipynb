{
 "metadata": {
  "name": "",
  "signature": "sha256:cdda67a53fbe5b2c144852f99979a047fb39ac29ec0c0aacd939107295a0b437"
 },
 "nbformat": 3,
 "nbformat_minor": 0,
 "worksheets": [
  {
   "cells": [
    {
     "cell_type": "code",
     "collapsed": false,
     "input": [
      "from matplotlib.widgets import Button\n",
      "\n",
      "\n",
      "fig, ax = plt.subplots()\n",
      "fig.subplots_adjust(bottom=0.2)\n",
      "\n",
      "t = np.linspace(0, 10, 1000)\n",
      "line, = plt.plot(t, np.sin(t), lw=2)\n",
      "\n",
      "class Index:\n",
      "    dt = 0\n",
      "    def next(self, event):\n",
      "        self.dt -= 1\n",
      "        line.set_ydata(np.sin(t + self.dt))\n",
      "        fig.canvas.draw()\n",
      "\n",
      "    def prev(self, event):\n",
      "        self.dt += 1\n",
      "        line.set_ydata(np.sin(t + self.dt))\n",
      "        fig.canvas.draw()\n",
      "\n",
      "callback = Index()\n",
      "axprev = plt.axes([0.7, 0.05, 0.1, 0.075])\n",
      "axnext = plt.axes([0.81, 0.05, 0.1, 0.075])\n",
      "\n",
      "bnext = Button(axnext, '>')\n",
      "bnext.on_clicked(callback.next)\n",
      "\n",
      "bprev = Button(axprev, '<')\n",
      "bprev.on_clicked(callback.prev)"
     ],
     "language": "python",
     "metadata": {},
     "outputs": [
      {
       "metadata": {},
       "output_type": "pyout",
       "prompt_number": 7,
       "text": [
        "0"
       ]
      }
     ],
     "prompt_number": 7
    },
    {
     "cell_type": "code",
     "collapsed": false,
     "input": [],
     "language": "python",
     "metadata": {},
     "outputs": []
    }
   ],
   "metadata": {}
  }
 ]
}