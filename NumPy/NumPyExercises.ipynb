{
 "metadata": {
  "name": "",
  "signature": "sha256:0d917e8dd05c6c30c0a9e3aeb14f57d7a59464d41e06e0d67a3831df40de08e9"
 },
 "nbformat": 3,
 "nbformat_minor": 0,
 "worksheets": [
  {
   "cells": [
    {
     "cell_type": "heading",
     "level": 1,
     "metadata": {},
     "source": [
      "NumPyExcercises"
     ]
    },
    {
     "cell_type": "code",
     "collapsed": false,
     "input": [
      "%pylab inline"
     ],
     "language": "python",
     "metadata": {},
     "outputs": [
      {
       "output_type": "stream",
       "stream": "stdout",
       "text": [
        "Populating the interactive namespace from numpy and matplotlib\n"
       ]
      }
     ],
     "prompt_number": 1
    },
    {
     "cell_type": "code",
     "collapsed": false,
     "input": [
      "import numpy as np"
     ],
     "language": "python",
     "metadata": {},
     "outputs": [],
     "prompt_number": 4
    },
    {
     "cell_type": "markdown",
     "metadata": {},
     "source": [
      "1. Create the following arrays with correct data types:\n",
      "[[1, 1, 1, 1],\n",
      " [1, 1, 1, 1],\n",
      " [1, 1, 1, 2],\n",
      " [1, 6, 1, 1]]\n",
      " ```\n",
      " \n",
      "[[0., 0., 0., 0., 0.], [2., 0., 0., 0., 0.], [0., 3., 0., 0., 0.], [0., 0., 4., 0., 0.], [0., 0., 0., 5., 0.], [0., 0., 0., 0., 6.]] ```\n",
      "\n",
      "You should be able to accomplish this in 3 lines of code for each one. The documentation for the diag method may be helpful."
     ]
    },
    {
     "cell_type": "code",
     "collapsed": false,
     "input": [
      "x = np.array([[1,1,1,1],[1,1,1,1],[1,1,1,2],[1,6,1,1]])\n",
      "\n",
      "print arr"
     ],
     "language": "python",
     "metadata": {},
     "outputs": [
      {
       "output_type": "stream",
       "stream": "stdout",
       "text": [
        "[[1 1 1 1]\n",
        " [1 1 1 1]\n",
        " [1 1 1 2]\n",
        " [1 6 1 1]]\n"
       ]
      }
     ],
     "prompt_number": 11
    },
    {
     "cell_type": "code",
     "collapsed": false,
     "input": [],
     "language": "python",
     "metadata": {},
     "outputs": []
    }
   ],
   "metadata": {}
  }
 ]
}