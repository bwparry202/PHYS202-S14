{
 "metadata": {
  "name": "",
  "signature": "sha256:823e311a5f87b00aa53e6b5767cf433048ccd345a1284498f1cdfa82d2e6e436"
 },
 "nbformat": 3,
 "nbformat_minor": 0,
 "worksheets": [
  {
   "cells": [
    {
     "cell_type": "heading",
     "level": 1,
     "metadata": {},
     "source": [
      "Monte Carlo Integration Exercises"
     ]
    },
    {
     "cell_type": "code",
     "collapsed": false,
     "input": [
      "%pylab inline\n",
      "import numpy as np\n",
      "import matplotlib.pyplot as plt\n",
      "from IPython.html.widgets import interact, interactive"
     ],
     "language": "python",
     "metadata": {},
     "outputs": [
      {
       "output_type": "stream",
       "stream": "stdout",
       "text": [
        "Populating the interactive namespace from numpy and matplotlib\n"
       ]
      }
     ],
     "prompt_number": 4
    },
    {
     "cell_type": "heading",
     "level": 2,
     "metadata": {},
     "source": [
      "Question 1"
     ]
    },
    {
     "cell_type": "code",
     "collapsed": false,
     "input": [
      "from Electrostatics import *"
     ],
     "language": "python",
     "metadata": {},
     "outputs": [],
     "prompt_number": 5
    },
    {
     "cell_type": "markdown",
     "metadata": {},
     "source": [
      "(a) Use the sample mean method to compute the potential at point P(2,3) due to the disk of charge for different numbers of samples N=(101,102,103,104,105,106). Report the value and its statistical uncertainty for each sample size. How does the result depend on N?"
     ]
    },
    {
     "cell_type": "code",
     "collapsed": false,
     "input": [
      "def sampleMean(N=10000,xmin=1.7,xmax=12.4):\n",
      "\n",
      "    #Set up the function\n",
      "    f = lambda x: x**(0.5) + np.sin(x)\n",
      "    x = np.arange(-1.,1.,0.001)\n",
      "    Iana = lambda x: (2./3.)*x**(3./2.) - np.cos(x)\n",
      "    Iexact = Iana(xmax)-Iana(xmin)\n",
      "\n",
      "    ##########################################################\n",
      "    #Here's the integration part:\n",
      "    samples_x = xmin + (xmax-xmin)*np.random.random_sample(N);\n",
      "    \n",
      "    approx = f(samples_x)\n",
      "    I = approx.mean()*(xmax-xmin)\n",
      "\n",
      "    #Numerical uncertainty\n",
      "    Iunc = (xmax-xmin)*np.sqrt( ((approx**2).mean()-(approx.mean())**2)/N )\n",
      "\n",
      "    #Comparison with exact result\n",
      "    Ierr = 100*np.abs(Iexact-I)/Iexact\n",
      "    ##########################################################\n",
      "\n",
      "    #find the maximum value of f within the boundary to set ymax\n",
      "    ymax = approx.max()\n",
      "    ymin = 0.\n",
      "    \n",
      "    #Print our results\n",
      "    print \"I_exact =\", Iexact\n",
      "    print \"I_samplemean =\", I, \" +/- \",Iunc\n",
      "    print \"Error on I =\", Ierr, \"%\"\n",
      "\n",
      "    #Plot our function\n",
      "    plt.plot(x,f(x),lw=3)\n",
      "    plt.ylabel(r'$x^{1/2} + \\sin(x)$',fontsize=20)\n",
      "    plt.xlabel(r'$x$', fontsize = 20)\n",
      "    plt.xlim(0.,15.)\n",
      "\n",
      "    #plot the box\n",
      "    plt.plot([xmin, xmin], [ymin, ymax], color='k', linestyle='--') #vertical left\n",
      "    plt.plot([xmax, xmax], [ymin, ymax], color='k', linestyle='--') #vertical right\n",
      "    plt.plot([xmin, xmax], [ymax, ymax], color='k', linestyle='--') #horizontal top\n",
      "\n",
      "    #Plot the average value of the function from the samples on the same graph for comparison:\n",
      "    plt.plot((xmin,xmax),(approx.mean(),approx.mean()),'r-',label=\"Average value of function at sample points\")\n",
      "    plt.legend(loc=\"upper left\")\n",
      "    \n",
      "    plt.show()\n",
      "    \n",
      "v2 = interact(sampleMean,N=(1000,100000,100),xmin=(0.,15.,0.001),xmax=(0.,15.,0.001))"
     ],
     "language": "python",
     "metadata": {},
     "outputs": [
      {
       "output_type": "stream",
       "stream": "stdout",
       "text": [
        "I_exact = 26.5172145362\n",
        "I_samplemean = 26.5217278343  +/-  0.0866081264776\n",
        "Error on I = 0.0170202573336 %\n"
       ]
      },
      {
       "metadata": {},
       "output_type": "display_data",
       "png": "[encoded data removed]",
       "text": [
        "<matplotlib.figure.Figure at 0x10623fdd0>"
       ]
      }
     ],
     "prompt_number": 6
    },
    {
     "cell_type": "code",
     "collapsed": false,
     "input": [],
     "language": "python",
     "metadata": {},
     "outputs": []
    }
   ],
   "metadata": {}
  }
 ]
}