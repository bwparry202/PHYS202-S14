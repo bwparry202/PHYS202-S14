{
 "metadata": {
  "name": "",
  "signature": "sha256:6d80225da432aa89c7eebb8ef49e399b77456847cc083d9e6a00f45ef863756b"
 },
 "nbformat": 3,
 "nbformat_minor": 0,
 "worksheets": [
  {
   "cells": [
    {
     "cell_type": "heading",
     "level": 1,
     "metadata": {},
     "source": [
      "ODE Exercises"
     ]
    },
    {
     "cell_type": "heading",
     "level": 2,
     "metadata": {},
     "source": [
      "Question 1"
     ]
    },
    {
     "cell_type": "markdown",
     "metadata": {},
     "source": [
      "For this question refer to the solutions for the simple pendulum we got using scipy's odeint from the beginning of the ODE Tour.\n",
      "\n",
      "(a) See what happens to the period of the pendulum as you change the initial angle of release. Plot \u03b8 vs t for 5 different initial angles, \u03b80 , spanning 0 to \u03c0. (i.e. 0, \u03c0/4 , \u03c0/2 , 3\u03c0/4 , and \u03c0 ). Put them all on the same plot. What happens to the period of the pendulum as the initial angle increases from \u03c0/4 to 3\u03c0/4? What happens to the trajectory when the initial angle is 0 and \u03c0 ?"
     ]
    },
    {
     "cell_type": "code",
     "collapsed": false,
     "input": [],
     "language": "python",
     "metadata": {},
     "outputs": []
    }
   ],
   "metadata": {}
  }
 ]
}