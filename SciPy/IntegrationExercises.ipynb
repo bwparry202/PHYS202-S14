{
 "metadata": {
  "name": "",
  "signature": "sha256:c75715aa15c3a52776ddf96d5c0fef8d9d20f97af812d2fe5dce789b51be4ebf"
 },
 "nbformat": 3,
 "nbformat_minor": 0,
 "worksheets": [
  {
   "cells": [
    {
     "cell_type": "heading",
     "level": 1,
     "metadata": {},
     "source": [
      "Integration Exercises"
     ]
    },
    {
     "cell_type": "code",
     "collapsed": false,
     "input": [
      "%pylab inline\n",
      "import numpy as np\n",
      "import matplotlib.pyplot as plt"
     ],
     "language": "python",
     "metadata": {},
     "outputs": [
      {
       "output_type": "stream",
       "stream": "stdout",
       "text": [
        "Populating the interactive namespace from numpy and matplotlib\n"
       ]
      }
     ],
     "prompt_number": 27
    },
    {
     "cell_type": "heading",
     "level": 2,
     "metadata": {},
     "source": [
      "Question 1"
     ]
    },
    {
     "cell_type": "markdown",
     "metadata": {},
     "source": [
      "(a) Write two functions trapz(func,x) and simps(func,x) to compute the integral of the function func over the variable x using the trapezoidal rule and Simpson's rule to a file called Integrators.py. Do not use the scipy.integrate built-in functions. Include docstrings with each function that describe what they do. Then import the module and use the functions to answer the following questions."
     ]
    },
    {
     "cell_type": "code",
     "collapsed": false,
     "input": [
      "%%file Integrators.py\n",
      "\n",
      "import numpy as np\n",
      "def trapz(func,a,b,N):\n",
      "    # My function will also take the arguments of the number of intervals,\n",
      "    # the start, and endpoint as well to make it better. \n",
      "    h = (b-a)/N\n",
      "    k = np.arange(1,N)\n",
      "    I = h*(0.5*func(a) + 0.5*func(b) + func(a+k*h).sum())\n",
      "    print \"Trapezoidal rule returns:\"+str(I)\n",
      "    return I\n",
      "\n",
      "\n",
      "def simps(func,a,b,N):\n",
      "    # My function will also take the arguments of the number of intervals,\n",
      "    # the start, and endpoint as well to make it better. \n",
      "    h = (b-a)/N\n",
      "    k1 = np.arange(1,N/2+1)\n",
      "    k2 = np.arange(1,N/2)\n",
      "    I = (1./3.)*h*(func(a) + func(b) + 4.*func(a+(2*k1-1)*h).sum() + 2.*func(a+2*k2*h).sum())\n",
      "    print \"Simpson's rule returns=\"+str(I)\n",
      "    return I"
     ],
     "language": "python",
     "metadata": {},
     "outputs": [
      {
       "output_type": "stream",
       "stream": "stdout",
       "text": [
        "Overwriting Integrators.py\n"
       ]
      }
     ],
     "prompt_number": 28
    },
    {
     "cell_type": "markdown",
     "metadata": {},
     "source": [
      "(b) Use your trapz and simps functions from part (a) to calculate the integral of x4\u22122x+1 from x = 0 to x = 2 with N = 10, N = 100, and N = 1000. Then compare your result to the known correct value of 4.4. What is the percent error in each case?\n"
     ]
    },
    {
     "cell_type": "code",
     "collapsed": false,
     "input": [
      "import Integrators as myint"
     ],
     "language": "python",
     "metadata": {},
     "outputs": [],
     "prompt_number": 29
    },
    {
     "cell_type": "code",
     "collapsed": false,
     "input": [
      "func = lambda x: x**4 - 2*x + 1\n",
      "a = 0.\n",
      "b = 2.\n",
      "\n",
      "print \"For N = 10:\"\n",
      "N = 10.\n",
      "err = myint.trapz(func,a,b,N)\n",
      "err1 = (err-4.4) / 4.4*100\n",
      "print \"Percent error:\",str(err1),\"%\"\n",
      "err = myint.simps(func,a,b,N)\n",
      "err1 = (err-4.4) / 4.4*100\n",
      "print \"Percent error:\",str(err1),\"%\"\n",
      "print\n",
      "\n",
      "print \"For N = 100:\"\n",
      "N = 100\n",
      "err = myint.trapz(func,a,b,N)\n",
      "err1 = (err-4.4) / 4.4*100\n",
      "print \"Percent error:\",str(err1),\"%\"\n",
      "err = myint.simps(func,a,b,N)\n",
      "err1 = (err-4.4) / 4.4*100\n",
      "print \"Percent error:\",str(err1),\"%\"\n",
      "print\n",
      "\n",
      "print \"For N = 1000:\"\n",
      "N = 1000\n",
      "err = myint.trapz(func,a,b,N)\n",
      "err1 = (err-4.4) / 4.4*100\n",
      "print \"Percent error:\",str(err1),\"%\"\n",
      "err = myint.simps(func,a,b,N)\n",
      "err1 = (err-4.4) / 4.4*100\n",
      "print \"Percent error:\",str(err1),\"%\""
     ],
     "language": "python",
     "metadata": {},
     "outputs": [
      {
       "output_type": "stream",
       "stream": "stdout",
       "text": [
        "For N = 10:\n",
        "Trapezoidal rule returns:4.50656\n",
        "Percent error: 2.42181818182 %\n",
        "Simpson's rule returns=4.40042666667\n",
        "Percent error: 0.00969696969697 %\n",
        "\n",
        "For N = 100:\n",
        "Trapezoidal rule returns:4.401066656\n",
        "Percent error: 0.0242421818182 %\n",
        "Simpson's rule returns=4.40000004267\n",
        "Percent error: 9.69696969187e-07 %\n",
        "\n",
        "For N = 1000:\n",
        "Trapezoidal rule returns:4.40001066667\n",
        "Percent error: 0.000242424218175 %\n",
        "Simpson's rule returns=4.4\n",
        "Percent error: 9.69729347327e-11 %\n"
       ]
      }
     ],
     "prompt_number": 30
    },
    {
     "cell_type": "heading",
     "level": 2,
     "metadata": {},
     "source": [
      "Question 2"
     ]
    },
    {
     "cell_type": "markdown",
     "metadata": {},
     "source": [
      "Looking at the error function:\n",
      "    \n",
      "\\begin{equation}\n",
      "E(x) = \\int_0^x e^{-t^2} dt\n",
      "\\end{equation}"
     ]
    },
    {
     "cell_type": "markdown",
     "metadata": {},
     "source": [
      "(a) Use scipy.integrate.cumtrapz to calculate E(x) for values of x from 0 to 3 in steps of 0.1. Print the result."
     ]
    },
    {
     "cell_type": "code",
     "collapsed": false,
     "input": [
      "import scipy.integrate as integrate\n",
      "\n",
      "t = np.linspace(0,3.01,31)\n",
      "y = np.exp(-t**2)\n",
      "\n",
      "y2 = integrate.cumtrapz(y, t, initial=0)\n",
      "print y2"
     ],
     "language": "python",
     "metadata": {},
     "outputs": [
      {
       "output_type": "stream",
       "stream": "stdout",
       "text": [
        "[ 0.          0.09983085  0.19768176  0.29168983  0.38021473  0.46192296\n",
        "  0.53584368  0.60139276  0.65836548  0.70690183  0.74743095  0.78060258\n",
        "  0.80721388  0.82813886  0.84426623  0.85644941  0.86547048  0.87201765\n",
        "  0.8766751   0.87992255  0.88214194  0.88362865  0.88460479  0.885233\n",
        "  0.88562926  0.88587426  0.88602274  0.88611093  0.88616227  0.88619157\n",
        "  0.88620796]\n"
       ]
      }
     ],
     "prompt_number": 32
    },
    {
     "cell_type": "code",
     "collapsed": false,
     "input": [
      "plt.plot(t,y,label = \"Integrand as function of t\")\n",
      "plt.plot(t,y2,label = \"E(x)\")\n",
      "plt.xlim(0,3)\n",
      "plt.ylim(0,1)\n",
      "plt.xlabel(\"t,x\", size =10)\n",
      "plt.ylabel(\"Function values\",size = 10)\n",
      "plt.title(\"Integrand as function of t and E(x)\",size = 15)\n",
      "plt.legend(loc = \"center right\")\n",
      "plt.show()"
     ],
     "language": "python",
     "metadata": {},
     "outputs": [
      {
       "metadata": {},
       "output_type": "display_data",
       "png": "[encoded data removed]",
       "text": [
        "<matplotlib.figure.Figure at 0xa54d4a8>"
       ]
      }
     ],
     "prompt_number": 33
    },
    {
     "cell_type": "heading",
     "level": 2,
     "metadata": {},
     "source": [
      "Question 3"
     ]
    },
    {
     "cell_type": "markdown",
     "metadata": {},
     "source": [
      "Probability of finding the particle between a and b is given by:\n",
      "\n",
      "\\begin{equation}\n",
      "P(a,b) = \\displaystyle \\int _a^b|\\psi(x)|^2dx\n",
      "\\end{equation}"
     ]
    },
    {
     "cell_type": "markdown",
     "metadata": {},
     "source": [
      "The wavefunction is\n",
      "\n",
      "\\begin{equation}\n",
      "\\psi(x) = \\sqrt{ \\frac{2}{L} } \\sin\\left(\\frac{n \\pi x}{L}\\right)\n",
      "\\end{equation}"
     ]
    },
    {
     "cell_type": "markdown",
     "metadata": {},
     "source": [
      "(a) What is the probability of finding the particle between L/3 and L/2 for the ground state (n = 1) and for the first excited state (n = 2)? Let L = 1. Perform the integral using both scipy.integrate.trapz and scipy.integrate.quad with an accuracy of 6 sig figs. How many slices did you need to use for scipy.integrate.trapz?"
     ]
    },
    {
     "cell_type": "code",
     "collapsed": false,
     "input": [
      "n = 1.\n",
      "L = 1.\n",
      "psi = lambda x: sqrt(2/L)*np.sin(n*np.pi*x/L)\n",
      "x = np.linspace(L/3,L/2,120)\n",
      "integrand = psi(x)**2\n",
      "\n",
      "print \"Using the Trapezoid method:\"\n",
      "print \"Probability for finding the particle between L/3 and L/2 for ground state (n=1):\"\n",
      "print integrate.trapz(integrand,x)\n",
      "print\n",
      "\n",
      "print \"Probability for finding the particle between L/3 and L/2 for first excited state (n=2):\"\n",
      "n = 2\n",
      "psi2 = lambda x: (2/L)*(np.sin(n*np.pi*x/L)**2)\n",
      "integrand2 = psi2(x)\n",
      "print integrate.trapz(integrand2,x)\n",
      "print\n",
      "\n",
      "print \"Using the Quad method:\"\n",
      "n = 1\n",
      "L = 1\n",
      "print integrate.quad(psi2,1./3,1./2)\n",
      "\n",
      "## Just square the function in your head and input that, that will work."
     ],
     "language": "python",
     "metadata": {},
     "outputs": [
      {
       "output_type": "stream",
       "stream": "stdout",
       "text": [
        "Using the Trapezoid method:\n",
        "Probability for finding the particle between L/3 and L/2 for ground state (n=1):\n",
        "0.304498001048\n",
        "\n",
        "Probability for finding the particle between L/3 and L/2 for first excited state (n=2):\n",
        "0.0977523336944\n",
        "\n",
        "Using the Quad method:\n",
        "(0.3044988905221147, 3.380616792304666e-15)\n"
       ]
      }
     ],
     "prompt_number": 34
    },
    {
     "cell_type": "markdown",
     "metadata": {},
     "source": [
      "You needed 120 slices to get an accuracy of 6 sig figs."
     ]
    },
    {
     "cell_type": "markdown",
     "metadata": {},
     "source": [
      "(b) Make a plot of |\u03c8(x)|2 vs. x for the first two excited states with L=1."
     ]
    },
    {
     "cell_type": "code",
     "collapsed": false,
     "input": [
      "L = 1\n",
      "psi2 = lambda x: (2/L)*(np.sin(1*np.pi*x/L)**2)\n",
      "psi2a = lambda x: (2/L)*(np.sin(2*np.pi*x/L)**2)\n",
      "x = np.linspace(0,L,100)\n",
      "\n",
      "plt.plot(x,psi2(x), label = \"First excited state\")\n",
      "plt.plot(x,psi2a(x), label = \"Second excited state\")\n",
      "plt.ylim(0,3)\n",
      "plt.legend(loc = \"upper center\")\n",
      "plt.xlabel(r'$x$', size = 17)\n",
      "plt.ylabel(r'$Probability Density$', size = 15)\n",
      "plt.title(r'$\\left|\\psi(x)\\right|^2$', size = 20)\n",
      "plt.show()"
     ],
     "language": "python",
     "metadata": {},
     "outputs": [
      {
       "metadata": {},
       "output_type": "display_data",
       "png": "[encoded data removed]",
       "text": [
        "<matplotlib.figure.Figure at 0xa9d81d0>"
       ]
      }
     ],
     "prompt_number": 68
    },
    {
     "cell_type": "heading",
     "level": 2,
     "metadata": {},
     "source": [
      "Question 4"
     ]
    },
    {
     "cell_type": "markdown",
     "metadata": {},
     "source": [
      "(a) Use numerical integration to find M, r\u20d7 cm, and Icm. Note that you need M to compute r\u20d7 cm and r\u20d7 cm to compute Icm. The moments of inertia Icm are Ixx, Iyy, and Izz, where e.g. Ixx=\u222b((y\u2212ycm)2+(z\u2212zcm)2)\u03c1dV, etc."
     ]
    },
    {
     "cell_type": "code",
     "collapsed": false,
     "input": [],
     "language": "python",
     "metadata": {},
     "outputs": []
    }
   ],
   "metadata": {}
  }
 ]
}