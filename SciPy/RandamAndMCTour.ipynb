{
 "metadata": {
  "name": "",
  "signature": "sha256:7ce1a58e71a378d042e05ac291ba17d1e8063a865220f7ce7f3101d9f46028b7"
 },
 "nbformat": 3,
 "nbformat_minor": 0,
 "worksheets": [
  {
   "cells": [
    {
     "cell_type": "code",
     "collapsed": false,
     "input": [],
     "language": "python",
     "metadata": {},
     "outputs": []
    }
   ],
   "metadata": {}
  }
 ]
}